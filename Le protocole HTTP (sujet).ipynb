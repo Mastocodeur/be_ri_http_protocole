{
 "cells": [
  {
   "cell_type": "markdown",
   "metadata": {},
   "source": [
    "#  <center>MOD 9.5 - Réseaux informatiques</center>\n",
    "## <center style=\"color: #06A\">BE 3 - Le protocole HTTP</center>"
   ]
  },
  {
   "cell_type": "markdown",
   "metadata": {},
   "source": [
    "<center>__GASMI Rémy et VINCENT Simon__</center>"
   ]
  },
  {
   "cell_type": "markdown",
   "metadata": {},
   "source": [
    "<h3 style=\"font-size:150%;color:white;background-color: #7fb2d4;padding:0.2em\">A - Informations générales</h3>\n",
    "\n",
    "<h4 style=\"font-size:150%;color:#06A;margin:1em 0 1.33em\">1. Déroulement de la séance.</h4>\n",
    "\n",
    "Comme précédemment, le travail sera à effectuer par binôme. Le compte-rendu doit être rédigé\n",
    "en complétant directement le présent notebook qui devra être déposé sur moodle une fois le travail terminé.\n",
    "\n",
    "Avant de déposer le résultat de votre travail, merci de __mentionner vos noms au sein du document__, puis au moment du dépôt de bien vouloir nommer le fichier sous la forme :\n",
    "\n",
    "<code>CR &lt;nom eleve 1> - &lt;nom eleve 2> - &lt;N° BE></code> \n",
    "\n",
    "<h4 style=\"font-size:150%;color:#06A;margin-bottom:1.33em\">2. Objectif du travail demandé.</h4>\n",
    "\n",
    "L'objectif du BE consiste à envoyer des requêtes HTTP vers des ressources diverses, de relever les réponses obtenues et de commenter ce que vous observez.\n",
    "\n",
    "Pour cela, les fonctions <code>http_request</code> et <code>https_request</code> ci-dessous vont vous aider à envoyer une requête HTTP (resp. HTTPS) en Python depuis le notebook et à afficher le résultat obtenu :"
   ]
  },
  {
   "cell_type": "code",
   "execution_count": 1,
   "metadata": {
    "collapsed": false,
    "jupyter": {
     "outputs_hidden": false
    }
   },
   "outputs": [],
   "source": [
    "import html\n",
    "import http.client\n",
    "from IPython.display import display, HTML, Image\n",
    "\n",
    "def http_request(method, server, path, body=None, headers={}, port=80, silent=False):\n",
    "    conn = http.client.HTTPConnection(server, port)\n",
    "    resp = send_request(conn, method, path, body, headers)\n",
    "    body = resp.read()\n",
    "    if silent:\n",
    "        return (resp,body)\n",
    "    else:\n",
    "        display_response(resp,body)\n",
    "\n",
    "def https_request(method, server, path, body=None, headers={}, port=443, silent=False):\n",
    "    conn = http.client.HTTPSConnection(server, port)\n",
    "    resp = send_request(conn, method, path, body, headers)\n",
    "    body = resp.read()\n",
    "    if silent:\n",
    "        return (resp,body)\n",
    "    else:\n",
    "        display_response(resp,body)\n",
    "\n",
    "def send_request(conn, method, path, body=None, headers={}):\n",
    "    conn.request(method, path, body, headers)\n",
    "    return conn.getresponse()\n",
    "\n",
    "def display_response(response,body):\n",
    "    display_status_line(response)\n",
    "    display_headers(response.headers)\n",
    "    contentType = response.getheader('Content-Type')\n",
    "    if contentType:\n",
    "        if contentType.startswith('text') or contentType.startswith('application/json') or 'xml' in contentType:\n",
    "            display_body(body.decode('UTF-8'), contentType)\n",
    "        elif contentType.startswith('image'):\n",
    "            display_body(body, contentType)\n",
    "        else:\n",
    "            display_error('Le notebook ne sait pas afficher le type de contenu {}'.format(contentType))\n",
    "    return body\n",
    "\n",
    "\n",
    "def display_error(msg):\n",
    "    display_html(\n",
    "        '<i style=\"margin-top:-0.4em; font-family:Consolas,monospace; ' +\\\n",
    "        'display:inline-block; margin-top:10px; color:#ccc\">{}</i>',\n",
    "        msg)\n",
    "\n",
    "def display_status_line(response):\n",
    "    display_html(\n",
    "        \"<code style='font-family:Consolas,monospace; display:block; margin-top: 5px; \" +\\\n",
    "        \"border-bottom:1px solid #ccc'><span style='font-weight:bold;color:#008'>{}</span> - {}</code>\",\n",
    "        response.status, response.reason)\n",
    "\n",
    "def display_headers(headers):\n",
    "    for h in headers:\n",
    "        display_header(h,headers[h])\n",
    "\n",
    "def display_header(header,value):\n",
    "    display_html(\n",
    "        \"<code style='display:block; margin-top:-0.7em; font-family:Consolas,monospace'><b>{}:</b> {}</code>\",\n",
    "        header, value)\n",
    "    \n",
    "def display_body(body, contentType):\n",
    "    preformatted = \"<pre style='font-family:Consolas,monospace; padding:5px; \" + \\\n",
    "        \"border: 1px solid #ccc; border-radius:5px; box-shadow: 5px 5px 5px #ccc; \" + \\\n",
    "        \"margin:5px 0 10px 0; display: inline-block; min-width: 50%'>{}</pre>\"\n",
    "    freeformat = \"<div style='padding:5px; border: 1px solid #ccc; border-radius:5px; \" + \\\n",
    "        \"box-shadow: 5px 5px 5px #ccc; margin:5px 0 10px 0; display: inline-block; \" + \\\n",
    "        \"min-width: 50%'>{}</div>\"\n",
    "    if ( len(body) ):\n",
    "        if ( contentType.startswith('application/json') ) :\n",
    "            display_html(preformatted, body)\n",
    "        elif ( contentType.startswith('text/html') ) :\n",
    "            display_html(freeformat, body)\n",
    "        elif ( contentType == 'image/svg+xml') :\n",
    "            display_html(freeformat, body)\n",
    "        elif ( contentType.startswith('text/plain') ) :\n",
    "            display_html(preformatted, html.escape(body))\n",
    "        elif ( contentType.startswith('image') ) :\n",
    "            display(Image(body))\n",
    "    \n",
    "def display_html(fmt,*args):\n",
    "    display(HTML(fmt.format(*args)))"
   ]
  },
  {
   "cell_type": "markdown",
   "metadata": {},
   "source": [
    "Voici comment utiliser la fonction <code>http_request()</code> pour effectuer une requête GET vers l'adresse http://httpbin.org/robots.txt :"
   ]
  },
  {
   "cell_type": "code",
   "execution_count": 2,
   "metadata": {
    "collapsed": false,
    "jupyter": {
     "outputs_hidden": false
    }
   },
   "outputs": [
    {
     "data": {
      "text/html": [
       "<code style='font-family:Consolas,monospace; display:block; margin-top: 5px; border-bottom:1px solid #ccc'><span style='font-weight:bold;color:#008'>200</span> - OK</code>"
      ],
      "text/plain": [
       "<IPython.core.display.HTML object>"
      ]
     },
     "metadata": {},
     "output_type": "display_data"
    },
    {
     "data": {
      "text/html": [
       "<code style='display:block; margin-top:-0.7em; font-family:Consolas,monospace'><b>Date:</b> Tue, 19 Nov 2024 07:33:56 GMT</code>"
      ],
      "text/plain": [
       "<IPython.core.display.HTML object>"
      ]
     },
     "metadata": {},
     "output_type": "display_data"
    },
    {
     "data": {
      "text/html": [
       "<code style='display:block; margin-top:-0.7em; font-family:Consolas,monospace'><b>Content-Type:</b> text/plain</code>"
      ],
      "text/plain": [
       "<IPython.core.display.HTML object>"
      ]
     },
     "metadata": {},
     "output_type": "display_data"
    },
    {
     "data": {
      "text/html": [
       "<code style='display:block; margin-top:-0.7em; font-family:Consolas,monospace'><b>Content-Length:</b> 30</code>"
      ],
      "text/plain": [
       "<IPython.core.display.HTML object>"
      ]
     },
     "metadata": {},
     "output_type": "display_data"
    },
    {
     "data": {
      "text/html": [
       "<code style='display:block; margin-top:-0.7em; font-family:Consolas,monospace'><b>Connection:</b> keep-alive</code>"
      ],
      "text/plain": [
       "<IPython.core.display.HTML object>"
      ]
     },
     "metadata": {},
     "output_type": "display_data"
    },
    {
     "data": {
      "text/html": [
       "<code style='display:block; margin-top:-0.7em; font-family:Consolas,monospace'><b>Server:</b> gunicorn/19.9.0</code>"
      ],
      "text/plain": [
       "<IPython.core.display.HTML object>"
      ]
     },
     "metadata": {},
     "output_type": "display_data"
    },
    {
     "data": {
      "text/html": [
       "<code style='display:block; margin-top:-0.7em; font-family:Consolas,monospace'><b>Access-Control-Allow-Origin:</b> *</code>"
      ],
      "text/plain": [
       "<IPython.core.display.HTML object>"
      ]
     },
     "metadata": {},
     "output_type": "display_data"
    },
    {
     "data": {
      "text/html": [
       "<code style='display:block; margin-top:-0.7em; font-family:Consolas,monospace'><b>Access-Control-Allow-Credentials:</b> true</code>"
      ],
      "text/plain": [
       "<IPython.core.display.HTML object>"
      ]
     },
     "metadata": {},
     "output_type": "display_data"
    },
    {
     "data": {
      "text/html": [
       "<pre style='font-family:Consolas,monospace; padding:5px; border: 1px solid #ccc; border-radius:5px; box-shadow: 5px 5px 5px #ccc; margin:5px 0 10px 0; display: inline-block; min-width: 50%'>User-agent: *\n",
       "Disallow: /deny\n",
       "</pre>"
      ],
      "text/plain": [
       "<IPython.core.display.HTML object>"
      ]
     },
     "metadata": {},
     "output_type": "display_data"
    }
   ],
   "source": [
    "http_request('GET','httpbin.org','/robots.txt')"
   ]
  },
  {
   "cell_type": "markdown",
   "metadata": {},
   "source": [
    "Et voici comment effectuer une requête POST avec un corps :"
   ]
  },
  {
   "cell_type": "code",
   "execution_count": 3,
   "metadata": {
    "collapsed": false,
    "jupyter": {
     "outputs_hidden": false
    }
   },
   "outputs": [
    {
     "data": {
      "text/html": [
       "<code style='font-family:Consolas,monospace; display:block; margin-top: 5px; border-bottom:1px solid #ccc'><span style='font-weight:bold;color:#008'>200</span> - OK</code>"
      ],
      "text/plain": [
       "<IPython.core.display.HTML object>"
      ]
     },
     "metadata": {},
     "output_type": "display_data"
    },
    {
     "data": {
      "text/html": [
       "<code style='display:block; margin-top:-0.7em; font-family:Consolas,monospace'><b>Date:</b> Tue, 19 Nov 2024 07:33:59 GMT</code>"
      ],
      "text/plain": [
       "<IPython.core.display.HTML object>"
      ]
     },
     "metadata": {},
     "output_type": "display_data"
    },
    {
     "data": {
      "text/html": [
       "<code style='display:block; margin-top:-0.7em; font-family:Consolas,monospace'><b>Content-Type:</b> text/html; charset=utf-8</code>"
      ],
      "text/plain": [
       "<IPython.core.display.HTML object>"
      ]
     },
     "metadata": {},
     "output_type": "display_data"
    },
    {
     "data": {
      "text/html": [
       "<code style='display:block; margin-top:-0.7em; font-family:Consolas,monospace'><b>Transfer-Encoding:</b> chunked</code>"
      ],
      "text/plain": [
       "<IPython.core.display.HTML object>"
      ]
     },
     "metadata": {},
     "output_type": "display_data"
    },
    {
     "data": {
      "text/html": [
       "<code style='display:block; margin-top:-0.7em; font-family:Consolas,monospace'><b>Connection:</b> keep-alive</code>"
      ],
      "text/plain": [
       "<IPython.core.display.HTML object>"
      ]
     },
     "metadata": {},
     "output_type": "display_data"
    },
    {
     "data": {
      "text/html": [
       "<code style='display:block; margin-top:-0.7em; font-family:Consolas,monospace'><b>CF-Ray:</b> 8e4e83e80e38dcbe-FRA</code>"
      ],
      "text/plain": [
       "<IPython.core.display.HTML object>"
      ]
     },
     "metadata": {},
     "output_type": "display_data"
    },
    {
     "data": {
      "text/html": [
       "<code style='display:block; margin-top:-0.7em; font-family:Consolas,monospace'><b>CF-Cache-Status:</b> DYNAMIC</code>"
      ],
      "text/plain": [
       "<IPython.core.display.HTML object>"
      ]
     },
     "metadata": {},
     "output_type": "display_data"
    },
    {
     "data": {
      "text/html": [
       "<code style='display:block; margin-top:-0.7em; font-family:Consolas,monospace'><b>ETag:</b> W/\"135-dzr+yzRXv/aGFP+8uGPZ9yUJ0PM\"</code>"
      ],
      "text/plain": [
       "<IPython.core.display.HTML object>"
      ]
     },
     "metadata": {},
     "output_type": "display_data"
    },
    {
     "data": {
      "text/html": [
       "<code style='display:block; margin-top:-0.7em; font-family:Consolas,monospace'><b>Vary:</b> Accept-Encoding</code>"
      ],
      "text/plain": [
       "<IPython.core.display.HTML object>"
      ]
     },
     "metadata": {},
     "output_type": "display_data"
    },
    {
     "data": {
      "text/html": [
       "<code style='display:block; margin-top:-0.7em; font-family:Consolas,monospace'><b>rndr-id:</b> 42d46f36-b33d-442b</code>"
      ],
      "text/plain": [
       "<IPython.core.display.HTML object>"
      ]
     },
     "metadata": {},
     "output_type": "display_data"
    },
    {
     "data": {
      "text/html": [
       "<code style='display:block; margin-top:-0.7em; font-family:Consolas,monospace'><b>x-powered-by:</b> Express</code>"
      ],
      "text/plain": [
       "<IPython.core.display.HTML object>"
      ]
     },
     "metadata": {},
     "output_type": "display_data"
    },
    {
     "data": {
      "text/html": [
       "<code style='display:block; margin-top:-0.7em; font-family:Consolas,monospace'><b>x-render-origin-server:</b> Render</code>"
      ],
      "text/plain": [
       "<IPython.core.display.HTML object>"
      ]
     },
     "metadata": {},
     "output_type": "display_data"
    },
    {
     "data": {
      "text/html": [
       "<code style='display:block; margin-top:-0.7em; font-family:Consolas,monospace'><b>Server:</b> cloudflare</code>"
      ],
      "text/plain": [
       "<IPython.core.display.HTML object>"
      ]
     },
     "metadata": {},
     "output_type": "display_data"
    },
    {
     "data": {
      "text/html": [
       "<code style='display:block; margin-top:-0.7em; font-family:Consolas,monospace'><b>alt-svc:</b> h3=\":443\"; ma=86400</code>"
      ],
      "text/plain": [
       "<IPython.core.display.HTML object>"
      ]
     },
     "metadata": {},
     "output_type": "display_data"
    },
    {
     "data": {
      "text/html": [
       "<div style='padding:5px; border: 1px solid #ccc; border-radius:5px; box-shadow: 5px 5px 5px #ccc; margin:5px 0 10px 0; display: inline-block; min-width: 50%'><!DOCTYPE html>\r\n",
       "<html lang=\"fr\">\r\n",
       "<meta charset=\"utf-8\">\r\n",
       "\r\n",
       "<div style=\"font-family: Consolas,monospace\">\r\n",
       "<h1 style=\"margin-top:0; padding:0.1em 0.5em;background-color:darkslateblue;color:white\">Message privé</h1>\r\n",
       "<p>Bonjour Dédé !\r\n",
       "<address style=\"margin:1.33em 0 0\">Raymond Deubaze</address>\r\n",
       "</div>\r\n",
       "</div>"
      ],
      "text/plain": [
       "<IPython.core.display.HTML object>"
      ]
     },
     "metadata": {},
     "output_type": "display_data"
    }
   ],
   "source": [
    "https_request('POST','mod95-be3.onrender.com','/message', headers={\n",
    "    'Content-Type': 'application/x-www-form-urlencoded'\n",
    "}, body=\"pr%C3%A9nom=Raymond&nom=Deubaze&message=Bonjour D%C3%A9d%C3%A9+!\")"
   ]
  },
  {
   "cell_type": "markdown",
   "metadata": {},
   "source": [
    "<h3 style=\"font-size:150%;color:white;background-color:#7fb2d4;padding:0.2em\">B - Travail à effectuer</h3>\n",
    "\n",
    "<h4 style=\"font-size:150%;color:#06A;margin:1em 0 1.33em\">1. Exemples de requêtes HTTP</h4>\n",
    "\n",
    "<div style=\"background-color:#def;padding:5px 10px;margin-top: 5px;border-radius:3px\">\n",
    "__[1.1]__ - Effectuer une requête vers la ressource <a href=\"https://mod95-be3.onrender.com/hello.html\">hello.html</a>.\n",
    "</div>"
   ]
  },
  {
   "cell_type": "code",
   "execution_count": 4,
   "metadata": {
    "collapsed": false,
    "jupyter": {
     "outputs_hidden": false
    },
    "util.bundle": "correcteur"
   },
   "outputs": [
    {
     "data": {
      "text/html": [
       "<code style='font-family:Consolas,monospace; display:block; margin-top: 5px; border-bottom:1px solid #ccc'><span style='font-weight:bold;color:#008'>200</span> - OK</code>"
      ],
      "text/plain": [
       "<IPython.core.display.HTML object>"
      ]
     },
     "metadata": {},
     "output_type": "display_data"
    },
    {
     "data": {
      "text/html": [
       "<code style='display:block; margin-top:-0.7em; font-family:Consolas,monospace'><b>Date:</b> Tue, 19 Nov 2024 07:34:02 GMT</code>"
      ],
      "text/plain": [
       "<IPython.core.display.HTML object>"
      ]
     },
     "metadata": {},
     "output_type": "display_data"
    },
    {
     "data": {
      "text/html": [
       "<code style='display:block; margin-top:-0.7em; font-family:Consolas,monospace'><b>Content-Type:</b> text/html; charset=UTF-8</code>"
      ],
      "text/plain": [
       "<IPython.core.display.HTML object>"
      ]
     },
     "metadata": {},
     "output_type": "display_data"
    },
    {
     "data": {
      "text/html": [
       "<code style='display:block; margin-top:-0.7em; font-family:Consolas,monospace'><b>Transfer-Encoding:</b> chunked</code>"
      ],
      "text/plain": [
       "<IPython.core.display.HTML object>"
      ]
     },
     "metadata": {},
     "output_type": "display_data"
    },
    {
     "data": {
      "text/html": [
       "<code style='display:block; margin-top:-0.7em; font-family:Consolas,monospace'><b>Connection:</b> keep-alive</code>"
      ],
      "text/plain": [
       "<IPython.core.display.HTML object>"
      ]
     },
     "metadata": {},
     "output_type": "display_data"
    },
    {
     "data": {
      "text/html": [
       "<code style='display:block; margin-top:-0.7em; font-family:Consolas,monospace'><b>CF-Ray:</b> 8e4e83fb2bd1bbb5-FRA</code>"
      ],
      "text/plain": [
       "<IPython.core.display.HTML object>"
      ]
     },
     "metadata": {},
     "output_type": "display_data"
    },
    {
     "data": {
      "text/html": [
       "<code style='display:block; margin-top:-0.7em; font-family:Consolas,monospace'><b>CF-Cache-Status:</b> DYNAMIC</code>"
      ],
      "text/plain": [
       "<IPython.core.display.HTML object>"
      ]
     },
     "metadata": {},
     "output_type": "display_data"
    },
    {
     "data": {
      "text/html": [
       "<code style='display:block; margin-top:-0.7em; font-family:Consolas,monospace'><b>Cache-Control:</b> public, max-age=0</code>"
      ],
      "text/plain": [
       "<IPython.core.display.HTML object>"
      ]
     },
     "metadata": {},
     "output_type": "display_data"
    },
    {
     "data": {
      "text/html": [
       "<code style='display:block; margin-top:-0.7em; font-family:Consolas,monospace'><b>ETag:</b> W/\"b6-187dd542520\"</code>"
      ],
      "text/plain": [
       "<IPython.core.display.HTML object>"
      ]
     },
     "metadata": {},
     "output_type": "display_data"
    },
    {
     "data": {
      "text/html": [
       "<code style='display:block; margin-top:-0.7em; font-family:Consolas,monospace'><b>Last-Modified:</b> Tue, 02 May 2023 16:38:12 GMT</code>"
      ],
      "text/plain": [
       "<IPython.core.display.HTML object>"
      ]
     },
     "metadata": {},
     "output_type": "display_data"
    },
    {
     "data": {
      "text/html": [
       "<code style='display:block; margin-top:-0.7em; font-family:Consolas,monospace'><b>Vary:</b> Accept-Encoding</code>"
      ],
      "text/plain": [
       "<IPython.core.display.HTML object>"
      ]
     },
     "metadata": {},
     "output_type": "display_data"
    },
    {
     "data": {
      "text/html": [
       "<code style='display:block; margin-top:-0.7em; font-family:Consolas,monospace'><b>rndr-id:</b> e02e25d4-e9ef-4bf9</code>"
      ],
      "text/plain": [
       "<IPython.core.display.HTML object>"
      ]
     },
     "metadata": {},
     "output_type": "display_data"
    },
    {
     "data": {
      "text/html": [
       "<code style='display:block; margin-top:-0.7em; font-family:Consolas,monospace'><b>x-powered-by:</b> Express</code>"
      ],
      "text/plain": [
       "<IPython.core.display.HTML object>"
      ]
     },
     "metadata": {},
     "output_type": "display_data"
    },
    {
     "data": {
      "text/html": [
       "<code style='display:block; margin-top:-0.7em; font-family:Consolas,monospace'><b>x-render-origin-server:</b> Render</code>"
      ],
      "text/plain": [
       "<IPython.core.display.HTML object>"
      ]
     },
     "metadata": {},
     "output_type": "display_data"
    },
    {
     "data": {
      "text/html": [
       "<code style='display:block; margin-top:-0.7em; font-family:Consolas,monospace'><b>Server:</b> cloudflare</code>"
      ],
      "text/plain": [
       "<IPython.core.display.HTML object>"
      ]
     },
     "metadata": {},
     "output_type": "display_data"
    },
    {
     "data": {
      "text/html": [
       "<code style='display:block; margin-top:-0.7em; font-family:Consolas,monospace'><b>alt-svc:</b> h3=\":443\"; ma=86400</code>"
      ],
      "text/plain": [
       "<IPython.core.display.HTML object>"
      ]
     },
     "metadata": {},
     "output_type": "display_data"
    },
    {
     "data": {
      "text/html": [
       "<div style='padding:5px; border: 1px solid #ccc; border-radius:5px; box-shadow: 5px 5px 5px #ccc; margin:5px 0 10px 0; display: inline-block; min-width: 50%'><!DOCTYPE html>\n",
       "<html lang=\"fr\">\n",
       "<meta charset=\"utf-8\">\n",
       "<title>Exemple HTML</title>\n",
       "<h1 style=\"margin:0 0 0.33em\">Exemple</h1>\n",
       "<div>Hello, ceci est un exemple de document HTML</div>\n",
       "</div>"
      ],
      "text/plain": [
       "<IPython.core.display.HTML object>"
      ]
     },
     "metadata": {},
     "output_type": "display_data"
    }
   ],
   "source": [
    "https_request('GET','mod95-be3.onrender.com','/hello.html')"
   ]
  },
  {
   "cell_type": "markdown",
   "metadata": {},
   "source": [
    "<div style=\"background-color:#def;padding:5px 10px;margin-top: 5px;border-radius:3px\">\n",
    "__[1.2]__ - Comment peut-on obtenir uniquement les entêtes de cette même ressource ?\n",
    "</div>"
   ]
  },
  {
   "cell_type": "code",
   "execution_count": 5,
   "metadata": {
    "collapsed": false,
    "jupyter": {
     "outputs_hidden": false
    },
    "util.bundle": "correcteur"
   },
   "outputs": [
    {
     "data": {
      "text/html": [
       "<code style='font-family:Consolas,monospace; display:block; margin-top: 5px; border-bottom:1px solid #ccc'><span style='font-weight:bold;color:#008'>200</span> - OK</code>"
      ],
      "text/plain": [
       "<IPython.core.display.HTML object>"
      ]
     },
     "metadata": {},
     "output_type": "display_data"
    },
    {
     "data": {
      "text/html": [
       "<code style='display:block; margin-top:-0.7em; font-family:Consolas,monospace'><b>Date:</b> Tue, 19 Nov 2024 07:34:06 GMT</code>"
      ],
      "text/plain": [
       "<IPython.core.display.HTML object>"
      ]
     },
     "metadata": {},
     "output_type": "display_data"
    },
    {
     "data": {
      "text/html": [
       "<code style='display:block; margin-top:-0.7em; font-family:Consolas,monospace'><b>Content-Type:</b> text/html; charset=UTF-8</code>"
      ],
      "text/plain": [
       "<IPython.core.display.HTML object>"
      ]
     },
     "metadata": {},
     "output_type": "display_data"
    },
    {
     "data": {
      "text/html": [
       "<code style='display:block; margin-top:-0.7em; font-family:Consolas,monospace'><b>Connection:</b> keep-alive</code>"
      ],
      "text/plain": [
       "<IPython.core.display.HTML object>"
      ]
     },
     "metadata": {},
     "output_type": "display_data"
    },
    {
     "data": {
      "text/html": [
       "<code style='display:block; margin-top:-0.7em; font-family:Consolas,monospace'><b>CF-Ray:</b> 8e4e84108a1e2be6-FRA</code>"
      ],
      "text/plain": [
       "<IPython.core.display.HTML object>"
      ]
     },
     "metadata": {},
     "output_type": "display_data"
    },
    {
     "data": {
      "text/html": [
       "<code style='display:block; margin-top:-0.7em; font-family:Consolas,monospace'><b>CF-Cache-Status:</b> DYNAMIC</code>"
      ],
      "text/plain": [
       "<IPython.core.display.HTML object>"
      ]
     },
     "metadata": {},
     "output_type": "display_data"
    },
    {
     "data": {
      "text/html": [
       "<code style='display:block; margin-top:-0.7em; font-family:Consolas,monospace'><b>Cache-Control:</b> public, max-age=0</code>"
      ],
      "text/plain": [
       "<IPython.core.display.HTML object>"
      ]
     },
     "metadata": {},
     "output_type": "display_data"
    },
    {
     "data": {
      "text/html": [
       "<code style='display:block; margin-top:-0.7em; font-family:Consolas,monospace'><b>ETag:</b> W/\"b6-187dd542520\"</code>"
      ],
      "text/plain": [
       "<IPython.core.display.HTML object>"
      ]
     },
     "metadata": {},
     "output_type": "display_data"
    },
    {
     "data": {
      "text/html": [
       "<code style='display:block; margin-top:-0.7em; font-family:Consolas,monospace'><b>Last-Modified:</b> Tue, 02 May 2023 16:38:12 GMT</code>"
      ],
      "text/plain": [
       "<IPython.core.display.HTML object>"
      ]
     },
     "metadata": {},
     "output_type": "display_data"
    },
    {
     "data": {
      "text/html": [
       "<code style='display:block; margin-top:-0.7em; font-family:Consolas,monospace'><b>Vary:</b> Accept-Encoding</code>"
      ],
      "text/plain": [
       "<IPython.core.display.HTML object>"
      ]
     },
     "metadata": {},
     "output_type": "display_data"
    },
    {
     "data": {
      "text/html": [
       "<code style='display:block; margin-top:-0.7em; font-family:Consolas,monospace'><b>rndr-id:</b> 346d1cfe-b666-4179</code>"
      ],
      "text/plain": [
       "<IPython.core.display.HTML object>"
      ]
     },
     "metadata": {},
     "output_type": "display_data"
    },
    {
     "data": {
      "text/html": [
       "<code style='display:block; margin-top:-0.7em; font-family:Consolas,monospace'><b>x-powered-by:</b> Express</code>"
      ],
      "text/plain": [
       "<IPython.core.display.HTML object>"
      ]
     },
     "metadata": {},
     "output_type": "display_data"
    },
    {
     "data": {
      "text/html": [
       "<code style='display:block; margin-top:-0.7em; font-family:Consolas,monospace'><b>x-render-origin-server:</b> Render</code>"
      ],
      "text/plain": [
       "<IPython.core.display.HTML object>"
      ]
     },
     "metadata": {},
     "output_type": "display_data"
    },
    {
     "data": {
      "text/html": [
       "<code style='display:block; margin-top:-0.7em; font-family:Consolas,monospace'><b>Server:</b> cloudflare</code>"
      ],
      "text/plain": [
       "<IPython.core.display.HTML object>"
      ]
     },
     "metadata": {},
     "output_type": "display_data"
    },
    {
     "data": {
      "text/html": [
       "<code style='display:block; margin-top:-0.7em; font-family:Consolas,monospace'><b>alt-svc:</b> h3=\":443\"; ma=86400</code>"
      ],
      "text/plain": [
       "<IPython.core.display.HTML object>"
      ]
     },
     "metadata": {},
     "output_type": "display_data"
    }
   ],
   "source": [
    "https_request('HEAD','mod95-be3.onrender.com','/hello.html')"
   ]
  },
  {
   "cell_type": "markdown",
   "metadata": {},
   "source": [
    "<div style=\"background-color:#def;padding:5px 10px;margin-top: 5px;border-radius:3px\">\n",
    "__[1.3]__ - Expliquer à quoi sert chacune des entêtes de la réponse que vous obtenez.\n",
    "</div>"
   ]
  },
  {
   "cell_type": "markdown",
   "metadata": {},
   "source": [
    "Décrivons chacune des entêtes de la réponse : \n",
    "\n",
    "* `Date` : Représente la date et l'heure de génération de la réponse du serveur, formatée en GMT (Greenwich Mean Time).\n",
    "* `Content-Type` : Indique le type de contenu de la réponse. Ici, le contenu est du HTML, avec l'encodage de caractères spécifié en UTF-8.\n",
    "* `Connection` : Demande au client et au serveur de maintenir la connexion ouverte pour des requêtes supplémentaires, ce qui réduit la latence en évitant de rouvrir la connexion pour chaque requête.\n",
    "* `CF-Ray` : Un identifiant unique généré par Cloudflare pour tracer la requête. Il inclut un suffixe représentant le centre de données Cloudflare qui a servi la requête (ici, \"FRA\" pour Francfort, Allemagne).\n",
    "* `CF-Cache-Status` : Indique le statut de la mise en cache de Cloudflare. \"DYNAMIC\" signifie que le contenu n'a pas été mis en cache et a été servi dynamiquement.\n",
    "* `Cache-Control` : Spécifie la politique de cache pour la réponse. Ici \"public\" permet le stockage en cache par tout type de cache, et \"max-age=0\" indique que la réponse est expirée et doit être revalidée avant d'être utilisée.\n",
    "* `ETag` : Un identifiant unique associé à la version actuelle de la ressource, utilisé pour le contrôle de la mise en cache et la validation des ressources côté client.\n",
    "* `Last-Modified` : Indique la dernière date et heure à laquelle la ressource a été modifiée, utilisé pour la gestion du cache et les requêtes conditionnelles.\n",
    "* `Vary` : Informe les caches intermédiaires de différencier les réponses en fonction de l'en-tête Accept-Encoding de la requête. Cela permet de servir des versions compressées ou non compressées.\n",
    "* `rndr-id` : Un identifiant interne, probablement utilisé par la plateforme Render pour tracer et identifier la requête.\n",
    "* `x-powered-by` : Indique que le serveur est propulsé par Express, un framework web pour Node.js.\n",
    "* `x-render-origin-server` : Désigne le serveur d'origine qui a servi la requête, ici, la plateforme Render.\n",
    "* `Server` : Spécifie le logiciel de serveur qui a traité la requête. Ici, Cloudflare, qui agit comme un proxy inverse.\n",
    "* `alt-svc` : Indique le support pour le protocole HTTP/3 sur le port 443 et définit la durée de vie de l'entrée alt-svc à 86400 secondes (24 heures)."
   ]
  },
  {
   "cell_type": "markdown",
   "metadata": {},
   "source": [
    "<div style=\"background-color:#def;padding:5px 10px;margin-top: 5px;border-radius:3px\">\n",
    "__[1.4]__ - Observer maintenant les entêtes obtenues en accédant à <a href=\"http://dmolinarius.github.io/demofiles/mod-95/be-http/hello.html\">hello.html</a>.<br>\n",
    "Il s'agit d'un document ayant le même contenu que le précédent, mais hébergé sur un serveur différent.\n",
    "</div>"
   ]
  },
  {
   "cell_type": "code",
   "execution_count": 7,
   "metadata": {
    "collapsed": false,
    "jupyter": {
     "outputs_hidden": false
    },
    "util.bundle": "correcteur"
   },
   "outputs": [
    {
     "data": {
      "text/html": [
       "<code style='font-family:Consolas,monospace; display:block; margin-top: 5px; border-bottom:1px solid #ccc'><span style='font-weight:bold;color:#008'>200</span> - OK</code>"
      ],
      "text/plain": [
       "<IPython.core.display.HTML object>"
      ]
     },
     "metadata": {},
     "output_type": "display_data"
    },
    {
     "data": {
      "text/html": [
       "<code style='display:block; margin-top:-0.7em; font-family:Consolas,monospace'><b>Connection:</b> keep-alive</code>"
      ],
      "text/plain": [
       "<IPython.core.display.HTML object>"
      ]
     },
     "metadata": {},
     "output_type": "display_data"
    },
    {
     "data": {
      "text/html": [
       "<code style='display:block; margin-top:-0.7em; font-family:Consolas,monospace'><b>Content-Length:</b> 181</code>"
      ],
      "text/plain": [
       "<IPython.core.display.HTML object>"
      ]
     },
     "metadata": {},
     "output_type": "display_data"
    },
    {
     "data": {
      "text/html": [
       "<code style='display:block; margin-top:-0.7em; font-family:Consolas,monospace'><b>Server:</b> GitHub.com</code>"
      ],
      "text/plain": [
       "<IPython.core.display.HTML object>"
      ]
     },
     "metadata": {},
     "output_type": "display_data"
    },
    {
     "data": {
      "text/html": [
       "<code style='display:block; margin-top:-0.7em; font-family:Consolas,monospace'><b>Content-Type:</b> text/html; charset=utf-8</code>"
      ],
      "text/plain": [
       "<IPython.core.display.HTML object>"
      ]
     },
     "metadata": {},
     "output_type": "display_data"
    },
    {
     "data": {
      "text/html": [
       "<code style='display:block; margin-top:-0.7em; font-family:Consolas,monospace'><b>permissions-policy:</b> interest-cohort=()</code>"
      ],
      "text/plain": [
       "<IPython.core.display.HTML object>"
      ]
     },
     "metadata": {},
     "output_type": "display_data"
    },
    {
     "data": {
      "text/html": [
       "<code style='display:block; margin-top:-0.7em; font-family:Consolas,monospace'><b>Last-Modified:</b> Tue, 05 Nov 2024 17:09:39 GMT</code>"
      ],
      "text/plain": [
       "<IPython.core.display.HTML object>"
      ]
     },
     "metadata": {},
     "output_type": "display_data"
    },
    {
     "data": {
      "text/html": [
       "<code style='display:block; margin-top:-0.7em; font-family:Consolas,monospace'><b>Access-Control-Allow-Origin:</b> *</code>"
      ],
      "text/plain": [
       "<IPython.core.display.HTML object>"
      ]
     },
     "metadata": {},
     "output_type": "display_data"
    },
    {
     "data": {
      "text/html": [
       "<code style='display:block; margin-top:-0.7em; font-family:Consolas,monospace'><b>ETag:</b> \"672a5153-b5\"</code>"
      ],
      "text/plain": [
       "<IPython.core.display.HTML object>"
      ]
     },
     "metadata": {},
     "output_type": "display_data"
    },
    {
     "data": {
      "text/html": [
       "<code style='display:block; margin-top:-0.7em; font-family:Consolas,monospace'><b>expires:</b> Tue, 19 Nov 2024 07:43:04 GMT</code>"
      ],
      "text/plain": [
       "<IPython.core.display.HTML object>"
      ]
     },
     "metadata": {},
     "output_type": "display_data"
    },
    {
     "data": {
      "text/html": [
       "<code style='display:block; margin-top:-0.7em; font-family:Consolas,monospace'><b>Cache-Control:</b> max-age=600</code>"
      ],
      "text/plain": [
       "<IPython.core.display.HTML object>"
      ]
     },
     "metadata": {},
     "output_type": "display_data"
    },
    {
     "data": {
      "text/html": [
       "<code style='display:block; margin-top:-0.7em; font-family:Consolas,monospace'><b>x-proxy-cache:</b> MISS</code>"
      ],
      "text/plain": [
       "<IPython.core.display.HTML object>"
      ]
     },
     "metadata": {},
     "output_type": "display_data"
    },
    {
     "data": {
      "text/html": [
       "<code style='display:block; margin-top:-0.7em; font-family:Consolas,monospace'><b>X-GitHub-Request-Id:</b> 7725:10098:1127EE8:1188FF3:673C3F30</code>"
      ],
      "text/plain": [
       "<IPython.core.display.HTML object>"
      ]
     },
     "metadata": {},
     "output_type": "display_data"
    },
    {
     "data": {
      "text/html": [
       "<code style='display:block; margin-top:-0.7em; font-family:Consolas,monospace'><b>Accept-Ranges:</b> bytes</code>"
      ],
      "text/plain": [
       "<IPython.core.display.HTML object>"
      ]
     },
     "metadata": {},
     "output_type": "display_data"
    },
    {
     "data": {
      "text/html": [
       "<code style='display:block; margin-top:-0.7em; font-family:Consolas,monospace'><b>Age:</b> 0</code>"
      ],
      "text/plain": [
       "<IPython.core.display.HTML object>"
      ]
     },
     "metadata": {},
     "output_type": "display_data"
    },
    {
     "data": {
      "text/html": [
       "<code style='display:block; margin-top:-0.7em; font-family:Consolas,monospace'><b>Date:</b> Tue, 19 Nov 2024 07:49:01 GMT</code>"
      ],
      "text/plain": [
       "<IPython.core.display.HTML object>"
      ]
     },
     "metadata": {},
     "output_type": "display_data"
    },
    {
     "data": {
      "text/html": [
       "<code style='display:block; margin-top:-0.7em; font-family:Consolas,monospace'><b>Via:</b> 1.1 varnish</code>"
      ],
      "text/plain": [
       "<IPython.core.display.HTML object>"
      ]
     },
     "metadata": {},
     "output_type": "display_data"
    },
    {
     "data": {
      "text/html": [
       "<code style='display:block; margin-top:-0.7em; font-family:Consolas,monospace'><b>X-Served-By:</b> cache-fra-eddf8230034-FRA</code>"
      ],
      "text/plain": [
       "<IPython.core.display.HTML object>"
      ]
     },
     "metadata": {},
     "output_type": "display_data"
    },
    {
     "data": {
      "text/html": [
       "<code style='display:block; margin-top:-0.7em; font-family:Consolas,monospace'><b>X-Cache:</b> HIT</code>"
      ],
      "text/plain": [
       "<IPython.core.display.HTML object>"
      ]
     },
     "metadata": {},
     "output_type": "display_data"
    },
    {
     "data": {
      "text/html": [
       "<code style='display:block; margin-top:-0.7em; font-family:Consolas,monospace'><b>X-Cache-Hits:</b> 0</code>"
      ],
      "text/plain": [
       "<IPython.core.display.HTML object>"
      ]
     },
     "metadata": {},
     "output_type": "display_data"
    },
    {
     "data": {
      "text/html": [
       "<code style='display:block; margin-top:-0.7em; font-family:Consolas,monospace'><b>X-Timer:</b> S1732002541.149185,VS0,VE99</code>"
      ],
      "text/plain": [
       "<IPython.core.display.HTML object>"
      ]
     },
     "metadata": {},
     "output_type": "display_data"
    },
    {
     "data": {
      "text/html": [
       "<code style='display:block; margin-top:-0.7em; font-family:Consolas,monospace'><b>Vary:</b> Accept-Encoding</code>"
      ],
      "text/plain": [
       "<IPython.core.display.HTML object>"
      ]
     },
     "metadata": {},
     "output_type": "display_data"
    },
    {
     "data": {
      "text/html": [
       "<code style='display:block; margin-top:-0.7em; font-family:Consolas,monospace'><b>X-Fastly-Request-ID:</b> 244bff5e6475e5d3cbe1b0f6802c4c034ed88ede</code>"
      ],
      "text/plain": [
       "<IPython.core.display.HTML object>"
      ]
     },
     "metadata": {},
     "output_type": "display_data"
    }
   ],
   "source": [
    "https_request('HEAD','dmolinarius.github.io','/demofiles/mod-95/be-http/hello.html')"
   ]
  },
  {
   "cell_type": "markdown",
   "metadata": {},
   "source": [
    "<div style=\"background-color:#def;padding:5px 10px;margin-top: 5px;border-radius:3px\">\n",
    "__[1.5]__ - Expliquer à quoi servent chacune des nouvelles entêtes de la réponse que vous obtenez.<br>\n",
    "A quoi correspondent les entêtes dont le nom commence par X- ?\n",
    "</div>\n",
    "<!-- cf. https://stackoverflow.com/questions/3561381/custom-http-headers-naming-conventions -->"
   ]
  },
  {
   "cell_type": "markdown",
   "metadata": {},
   "source": [
    "* `Content-Length`: Indique la taille de la réponse en octets. Ici, la taille de la réponse est de 181 octets.\n",
    "\n",
    "* `Server`: Spécifie le logiciel de serveur utilisé pour répondre à la requête. Ici, il s'agit du serveur de GitHub Pages.\n",
    "\n",
    "* `permissions-policy`: Définit la politique de permissions. L'attribut interest-cohort=() spécifiquement désactive la technologie FLoC (Federated Learning of Cohorts), ce qui renforce la confidentialité.\n",
    "\n",
    "* `Access-Control-Allow-Origin`: Permet le partage des ressources entre origines (CORS), en autorisant toutes les origines (*), facilitant ainsi l'accès à la ressource par des requêtes venant de différents domaines.\n",
    "\n",
    "* `expires` : Indique quand la réponse expire (ici Tue, 19 Nov 2024 07:43:04 GMT) et doit être considérée comme obsolète par les caches.\n",
    "\n",
    "* `x-proxy-cache`: Indique le statut de la requête par rapport au cache proxy. \"MISS\" signifie que la ressource n'a pas été trouvée dans le cache et a dû être récupérée depuis l'origine.\n",
    "\n",
    "\n",
    "* `X-GitHub-Request-Id`: Un identifiant unique (7725:10098:1127EE8:1188FF3:673C3F30) de la requête généré par GitHub pour tracer la demande.\n",
    "\n",
    "* `Accept-Ranges`: bytes\n",
    "\n",
    "Indique que le serveur prend en charge les requêtes de reprise de téléchargement et peut envoyer des parties spécifiques du fichier.\n",
    "Age: 0\n",
    "\n",
    "Indique l'âge de la réponse en secondes depuis qu'elle a été servie par le cache. Un âge de 0 signifie qu'elle est fraîche et vient d'être générée.\n",
    "Date: Tue, 19 Nov 2024 07:49:01 GMT\n",
    "\n",
    "La date et l'heure à laquelle la réponse a été générée par le serveur, formatée en GMT.\n",
    "Via: 1.1 varnish\n",
    "\n",
    "Indique que la réponse est passée par un cache intermédiaire, ici Varnish.\n",
    "X-Served-By: cache-fra-eddf8230034-FRA\n",
    "\n",
    "Spécifie quel serveur de cache a servi la réponse, ici un cache situé à Francfort, Allemagne.\n",
    "X-Cache: HIT\n",
    "\n",
    "Indique que la ressource a été trouvée dans le cache et servie directement sans requête vers le serveur d'origine.\n",
    "X-Cache-Hits: 0\n",
    "\n",
    "Nombre de fois que l'objet a été servi directement du cache. Un zéro ici pourrait indiquer une cache HIT récente.\n",
    "X-Timer: S1732002541.149185,VS0,VE99\n",
    "\n",
    "Une information de diagnostic utilisée pour mesurer le temps de traitement de la requête sur le serveur.\n",
    "Vary: Accept-Encoding\n",
    "\n",
    "Indique que la réponse peut varier en fonction de l'en-tête Accept-Encoding, permettant des versions compressées ou non compressées.\n",
    "X-Fastly-Request-ID: 244bff5e6475e5d3cbe1b0f6802c4c034ed88ede\n",
    "\n",
    "Un identifiant unique de la requête, généré par Fastly (un CDN) pour le suivi et le diagnostic."
   ]
  },
  {
   "cell_type": "markdown",
   "metadata": {},
   "source": [
    "<h4 style=\"font-size:150%;color:#06a;margin-bottom:1.33em;border-top:3px solid #7fb2d4; padding-top:0.5em\">2. Divers types de ressources.</h4>\n",
    "\n",
    "<div style=\"background-color:#def;padding:5px 10px;margin-top: 5px;border-radius:3px\">\n",
    "__[2.1]__ - Effectuer maintenant une requête vers la ressource\n",
    "<a href=\"https://mod95-be3.onrender.com/hello.txt\">hello.txt</a> et observer les entêtes obtenues.<br>\n",
    "Comparer les codes source des deux documents, puis expliciter l'ensemble des similitudes et des différences avec les entêtes correspondant à\n",
    "<a href=\"https://mod95-be3.onrender.com/hello.html\">hello.html</a>.\n",
    "</div>"
   ]
  },
  {
   "cell_type": "code",
   "execution_count": 7,
   "metadata": {
    "collapsed": false,
    "jupyter": {
     "outputs_hidden": false
    },
    "util.bundle": "correcteur"
   },
   "outputs": [],
   "source": [
    "# votre code ici"
   ]
  },
  {
   "cell_type": "code",
   "execution_count": 8,
   "metadata": {
    "collapsed": false,
    "jupyter": {
     "outputs_hidden": false
    },
    "util.bundle": "correcteur"
   },
   "outputs": [],
   "source": [
    "# votre code ici"
   ]
  },
  {
   "cell_type": "markdown",
   "metadata": {},
   "source": [
    "... vos explications ici"
   ]
  },
  {
   "cell_type": "markdown",
   "metadata": {},
   "source": [
    "<div style=\"background-color:#def;padding:5px 10px;margin-top: 5px;border-radius:3px\">\n",
    "__[2.2]__ - Visualiser ces deux ressources à l'aide d'un navigateur et noter la différence (s'il n'y en a pas, changer de navigateur). Commenter.\n",
    "</div>"
   ]
  },
  {
   "cell_type": "markdown",
   "metadata": {},
   "source": [
    "... vos commentaires ici"
   ]
  },
  {
   "cell_type": "markdown",
   "metadata": {},
   "source": [
    "<div style=\"background-color:#def;padding:5px 10px;margin-top: 5px;border-radius:3px\">\n",
    "__[2.3]__ - Effectuer les requêtes permettant d'obtenir les ressources\n",
    "<a href=\"https://mod95-be3.onrender.com/file1.html\">file1.html</a>,\n",
    "<a href=\"https://mod95-be3.onrender.com/file2.html\">file2.html</a>,\n",
    "<a href=\"https://mod95-be3.onrender.com/file3.html\">file3.html</a>,\n",
    " et essayez de les ouvrir directement dans votre navigateur.<br>\n",
    "Commenter ce que vous observez et les réponses obtenues, en indiquant notamment quel est le type respectif de chacune de ces ressources et comment les navigateurs les affichent. Préciser comment fait le navigateur pour savoir comment afficher chacune de ces ressources, et donner votre avis sur la pertinence de la démarche qui consisterait à essayer d'inférer le type d'une ressource à partir de son URL."
   ]
  },
  {
   "cell_type": "code",
   "execution_count": 9,
   "metadata": {
    "collapsed": false,
    "jupyter": {
     "outputs_hidden": false
    },
    "util.bundle": "correcteur"
   },
   "outputs": [],
   "source": [
    "# votre code ici"
   ]
  },
  {
   "cell_type": "code",
   "execution_count": 10,
   "metadata": {
    "collapsed": false,
    "jupyter": {
     "outputs_hidden": false
    },
    "util.bundle": "correcteur"
   },
   "outputs": [],
   "source": [
    "# votre code ici"
   ]
  },
  {
   "cell_type": "code",
   "execution_count": 11,
   "metadata": {
    "collapsed": false,
    "jupyter": {
     "outputs_hidden": false
    },
    "util.bundle": "correcteur"
   },
   "outputs": [],
   "source": [
    "# votre code ici"
   ]
  },
  {
   "cell_type": "markdown",
   "metadata": {},
   "source": [
    "... votre analyse ici"
   ]
  },
  {
   "cell_type": "markdown",
   "metadata": {},
   "source": [
    "<h4 style=\"font-size:150%;color:#06A;margin-bottom:1.33em;border-top:3px solid #7fb2d4; padding-top:0.5em\">3. Requêtes conditionnelles.</h4>\n",
    "\n",
    "<div style=\"background-color:#def;padding:5px 10px;margin-top: 5px;border-radius:3px\">\n",
    "__[3.1]__ - Afin de faciliter la gestion des caches, HTTP/1.0 possède la directive Last-Modified, tandis que HTTP/1.1 a introduit la notion d'Etag. Noter la date de dernière modification et l'Etag de la ressource\n",
    "<a href=\"https://mod95-be3.onrender.com/hello.html\">hello.html</a>.\n",
    "</div>"
   ]
  },
  {
   "cell_type": "code",
   "execution_count": 12,
   "metadata": {
    "collapsed": false,
    "jupyter": {
     "outputs_hidden": false
    },
    "util.bundle": "correcteur"
   },
   "outputs": [],
   "source": [
    "# votre code ici"
   ]
  },
  {
   "cell_type": "code",
   "execution_count": 13,
   "metadata": {
    "collapsed": false,
    "jupyter": {
     "outputs_hidden": false
    },
    "util.bundle": "correcteur"
   },
   "outputs": [],
   "source": [
    "# votre code ici"
   ]
  },
  {
   "cell_type": "code",
   "execution_count": 14,
   "metadata": {
    "collapsed": false,
    "jupyter": {
     "outputs_hidden": false
    },
    "util.bundle": "correcteur"
   },
   "outputs": [],
   "source": [
    "# votre code ici"
   ]
  },
  {
   "cell_type": "markdown",
   "metadata": {},
   "source": [
    "<div style=\"background-color:#def;padding:5px 10px;margin-top: 5px;border-radius:3px\">\n",
    "__[3.2]__ - Effectuer une requête GET conditionnelle vers cette même ressource, dont la directive If-Modified-Since correspond à la date de dernière modification du document. En effectuer une autre avec une date antérieure. Commenter les résultats observés et conclure sur le fonctionnement et l'utilité de cette directive.\n",
    "</div>"
   ]
  },
  {
   "cell_type": "markdown",
   "metadata": {},
   "source": [
    "... vos conclusions ici"
   ]
  },
  {
   "cell_type": "markdown",
   "metadata": {},
   "source": [
    "<div style=\"background-color:#def;padding:5px 10px;margin-top: 5px;border-radius:3px\">\n",
    "__[3.3]__ - Effectuer le même exercice avec une requête conditionnelle basée sur l'Etag. A votre avis, pourquoi y a-t-il eu cette nouvelle possibilité en HTTP/1.1 ?\n",
    "</div>"
   ]
  },
  {
   "cell_type": "code",
   "execution_count": 15,
   "metadata": {
    "collapsed": false,
    "jupyter": {
     "outputs_hidden": false
    },
    "util.bundle": "correcteur"
   },
   "outputs": [],
   "source": [
    "# votre code ici"
   ]
  },
  {
   "cell_type": "code",
   "execution_count": 16,
   "metadata": {
    "collapsed": false,
    "jupyter": {
     "outputs_hidden": false
    },
    "util.bundle": "correcteur"
   },
   "outputs": [],
   "source": [
    "# votre code ici"
   ]
  },
  {
   "cell_type": "markdown",
   "metadata": {},
   "source": [
    "... votre avis ici"
   ]
  },
  {
   "cell_type": "markdown",
   "metadata": {},
   "source": [
    "<h4 style=\"font-size:150%;color:#06A;margin-bottom:1.33em;border-top:3px solid #7fb2d4; padding-top:0.5em\">4. Redirections.</h4>\n",
    "\n",
    "<div style=\"background-color:#def;padding:5px 10px;margin-top: 5px;border-radius:3px\">\n",
    "__[4.1]__ - Examiner la réponse obtenue lors d'une requête vers \n",
    "<a href=\"https://mod95-be3.onrender.com/moved\">cette ressource</a> et décrire le comportement\n",
    "d'un navigateur lorsqu'il reçoit ce type de réponse.<br>\n",
    "<em>-- attention, il y a éventuellement un piège --</em>\n",
    "</div>"
   ]
  },
  {
   "cell_type": "code",
   "execution_count": 17,
   "metadata": {
    "collapsed": false,
    "jupyter": {
     "outputs_hidden": false
    },
    "util.bundle": "correcteur"
   },
   "outputs": [],
   "source": [
    "# votre code ici"
   ]
  },
  {
   "cell_type": "markdown",
   "metadata": {},
   "source": [
    "... vos explications ici"
   ]
  },
  {
   "cell_type": "markdown",
   "metadata": {},
   "source": [
    "<div style=\"background-color:#def;padding:5px 10px;margin-top: 5px;border-radius:3px\">\n",
    "__[4.2]__ - Essayer maintenant\n",
    "<a href=\"https://mod95-be3.onrender.com/perm\">cette nouvelle ressource</a>. Quelle sont les différences avec la précédente ? Consulter par exemple la <a href=\"https://en.wikipedia.org/wiki/List_of_HTTP_status_codes#4xx_Client_errors\">liste des statuts HTTP</a> et préciser en quoi le comportement attendu des clients est différent.\n",
    "</div>"
   ]
  },
  {
   "cell_type": "code",
   "execution_count": 18,
   "metadata": {
    "collapsed": false,
    "jupyter": {
     "outputs_hidden": false
    },
    "util.bundle": "correcteur"
   },
   "outputs": [],
   "source": [
    "# votre code ici"
   ]
  },
  {
   "cell_type": "markdown",
   "metadata": {},
   "source": [
    "...différences notées et attendues de la part des clients"
   ]
  },
  {
   "cell_type": "markdown",
   "metadata": {},
   "source": [
    "<div style=\"background-color:#def;padding:5px 10px;margin-top: 5px;border-radius:3px\">\n",
    "__[4.3]__ - Ce type de redirection est utilisé par les raccourcisseurs d'URLs. Vérifier ceci en envoyant une requête\n",
    "vers la ressource <a href=\"http://bit.ly/2Oz8wbC\">http://bit.ly/2Oz8wbC</a>. Commenter le résultat obtenu et expliquer pourquoi ce type de réponse est approprié pour ces services.\n",
    "</div>"
   ]
  },
  {
   "cell_type": "code",
   "execution_count": 19,
   "metadata": {
    "collapsed": false,
    "jupyter": {
     "outputs_hidden": false
    },
    "util.bundle": "correcteur"
   },
   "outputs": [],
   "source": [
    "# votre code ici"
   ]
  },
  {
   "cell_type": "markdown",
   "metadata": {},
   "source": [
    "... vos commentaires et explications"
   ]
  },
  {
   "cell_type": "markdown",
   "metadata": {},
   "source": [
    "<div style=\"background-color:#def;padding:5px 10px;margin-top: 5px;border-radius:3px\">\n",
    "__[4.4]__ - Voici encore\n",
    "<a href=\"https://mod95-be3.onrender.com/found\">une ressource</a> et\n",
    "<a href=\"https://mod95-be3.onrender.com/temp\">une dernière</a>\n",
    "effectuant chacune une redirection. En vous référant encore une fois à la documentation, expliquer les différences de comportement attendues de la part d'un client recevant chacune de ces réponses, l'une par rapport à l'autre, puis par rapport aux deux codes de redirection observés précédemment.\n",
    "</div>"
   ]
  },
  {
   "cell_type": "code",
   "execution_count": 20,
   "metadata": {
    "collapsed": false,
    "jupyter": {
     "outputs_hidden": false
    },
    "util.bundle": "correcteur"
   },
   "outputs": [],
   "source": [
    "# votre code ici"
   ]
  },
  {
   "cell_type": "code",
   "execution_count": 21,
   "metadata": {
    "collapsed": false,
    "jupyter": {
     "outputs_hidden": false
    },
    "util.bundle": "correcteur"
   },
   "outputs": [],
   "source": [
    "# votre code ici"
   ]
  },
  {
   "cell_type": "markdown",
   "metadata": {},
   "source": [
    "... vos explications"
   ]
  },
  {
   "cell_type": "markdown",
   "metadata": {},
   "source": [
    "<div style=\"background-color:#def;padding:5px 10px;margin-top: 5px;border-radius:3px\">\n",
    "__[4.5]__ - Ce type de redirection est utilisé par les portails captifs. Vérifier ceci en envoyant une requête\n",
    "vers la ressource <a href=\"https://campus.ec-lyon.fr\">https://campus.ec-lyon.fr</a>. Commenter le résultat obtenu et expliquer pourquoi ce type de réponse est approprié pour ces services.\n",
    "</div>"
   ]
  },
  {
   "cell_type": "code",
   "execution_count": 22,
   "metadata": {
    "collapsed": false,
    "jupyter": {
     "outputs_hidden": false
    },
    "util.bundle": "correcteur"
   },
   "outputs": [],
   "source": [
    "# votre code ici"
   ]
  },
  {
   "cell_type": "markdown",
   "metadata": {},
   "source": [
    "... vos commentaires et explications ici"
   ]
  },
  {
   "cell_type": "markdown",
   "metadata": {},
   "source": [
    "<div style=\"background-color:#def;padding:5px 10px;margin-top: 5px;border-radius:3px\">\n",
    "__[4.6]__ - Voici un dernier exemple : <a href=\"http://mod95-be3.onrender.com/hello.html\">http://mod95-be3.onrender.com/hello.html</a>. Commenter.\n",
    "</div>"
   ]
  },
  {
   "cell_type": "code",
   "execution_count": 23,
   "metadata": {
    "collapsed": false,
    "jupyter": {
     "outputs_hidden": false
    },
    "util.bundle": "correcteur"
   },
   "outputs": [],
   "source": [
    "# votre code ici"
   ]
  },
  {
   "cell_type": "markdown",
   "metadata": {},
   "source": [
    "... vos commentaires et explications ici"
   ]
  },
  {
   "cell_type": "markdown",
   "metadata": {},
   "source": [
    "<h4 style=\"font-size:150%;color:#06A;margin-bottom:1.33em;border-top:3px solid #7fb2d4; padding-top:0.5em\">5. Authentification.</h4>\n",
    "\n",
    "<div style=\"background-color:#def;padding:5px 10px;margin-top: 5px;border-radius:3px\">\n",
    "__[5.1]__ - La ressource <a href=\"https://mod95-be3.onrender.com/user.html\">user.html</a>\n",
    "est protégée avec un nom d'utilisateur et un mot de passe. Quelles sont les informations renvoyées par le serveur permettant au navigateur de gérer cette situation ? Comment réagit le navigateur ?\n",
    "</div>"
   ]
  },
  {
   "cell_type": "code",
   "execution_count": 24,
   "metadata": {
    "collapsed": false,
    "jupyter": {
     "outputs_hidden": false
    },
    "util.bundle": "correcteur"
   },
   "outputs": [],
   "source": [
    "# votre code ici"
   ]
  },
  {
   "cell_type": "markdown",
   "metadata": {},
   "source": [
    "... votre réponse ici"
   ]
  },
  {
   "cell_type": "markdown",
   "metadata": {},
   "source": [
    "<div style=\"background-color:#def;padding:5px 10px;margin-top: 5px;border-radius:3px\">\n",
    "__[5.2]__ - Le nom d'utilisateur et le mot de passe permettant d'accéder à la ressource\n",
    "<a href=\"https://mod95-be3.onrender.com/user.html\">user.html</a> sont respectivement\n",
    "<code>be-http</code> et <code>cool!</code>. Indiquer quelle est la directive à ajouter à la requête pour accéder à cette ressource, et comment est construite la valeur transmise au serveur."
   ]
  },
  {
   "cell_type": "markdown",
   "metadata": {
    "collapsed": false,
    "jupyter": {
     "outputs_hidden": false
    }
   },
   "source": [
    "... vos indications ici"
   ]
  },
  {
   "cell_type": "markdown",
   "metadata": {},
   "source": [
    "<div style=\"background-color:#def;padding:5px 10px;margin-top: 5px;border-radius:3px\">\n",
    "__[5.3]__ -  Le module Python nommé base64 permet d'encoder des chaînes de caractères en base64. Après vous être documenté sur la façon d'utiliser ce module, déterminer quelle est l'entête exacte permettant au navigateur d'obtenir la ressource protégée, et vérifier à l'aide d'une requête que cela fonctionne."
   ]
  },
  {
   "cell_type": "code",
   "execution_count": 25,
   "metadata": {
    "collapsed": false,
    "jupyter": {
     "outputs_hidden": false
    },
    "util.bundle": "correcteur"
   },
   "outputs": [],
   "source": [
    "# votre code ici"
   ]
  },
  {
   "cell_type": "code",
   "execution_count": 26,
   "metadata": {
    "collapsed": false,
    "jupyter": {
     "outputs_hidden": false
    },
    "util.bundle": "correcteur"
   },
   "outputs": [],
   "source": [
    "# votre code ici"
   ]
  },
  {
   "cell_type": "markdown",
   "metadata": {},
   "source": [
    "<div style=\"background-color:#def;padding:5px 10px;margin-top: 5px;border-radius:3px\">\n",
    "__[5.4]__ - Donner votre avis quant au niveau de sécurité apporté par la méthode d'authentification Basic, et des exemples de contexte dans lequel il est tout de même acceptable de l'utiliser.\n",
    "</div>"
   ]
  },
  {
   "cell_type": "markdown",
   "metadata": {},
   "source": [
    "... votre avis ici"
   ]
  },
  {
   "cell_type": "markdown",
   "metadata": {},
   "source": [
    "<div style=\"background-color:#def;padding:5px 10px;margin-top: 5px;border-radius:3px\">\n",
    "__[5.5]__ - Le lien <a href=\"https://mod95-be3.onrender.com/401/basic\">logout</a>\n",
    "permet de se déconnecter et oblige l'utilisateur à fournir à nouveau le mot de passe lors de l'accès suivant\n",
    "à la ressource <a href=\"https://mod95-be3.onrender.com/user.html\">user.html</a>.\n",
    "Expliquer ce que fait le serveur pour arriver à ce résultat.\n",
    "</div>"
   ]
  },
  {
   "cell_type": "code",
   "execution_count": 27,
   "metadata": {
    "collapsed": false,
    "jupyter": {
     "outputs_hidden": false
    },
    "util.bundle": "correcteur"
   },
   "outputs": [],
   "source": [
    "# votre code ici"
   ]
  },
  {
   "cell_type": "markdown",
   "metadata": {},
   "source": [
    "... vos explications ici"
   ]
  },
  {
   "cell_type": "markdown",
   "metadata": {},
   "source": [
    "<div style=\"background-color:#def;padding:5px 10px;margin-top: 5px;border-radius:3px\">\n",
    "__[5.6]__ - La ressource <a href=\"https://mod95-be3.onrender.com/digest.html\">digest.html</a> est protégée avec la méthode d'authentification Digest. Le nom d'utilisateur et le mot de passe sont les mêmes que précédemment. Décrire les nouveaux éléments dans la réponse du serveur.\n",
    "</div>"
   ]
  },
  {
   "cell_type": "code",
   "execution_count": 28,
   "metadata": {
    "collapsed": false,
    "jupyter": {
     "outputs_hidden": false
    },
    "util.bundle": "correcteur"
   },
   "outputs": [],
   "source": [
    "# votre code ici"
   ]
  },
  {
   "cell_type": "markdown",
   "metadata": {},
   "source": [
    "... votre description ici"
   ]
  },
  {
   "cell_type": "markdown",
   "metadata": {},
   "source": [
    "<div style=\"background-color:#def;padding:5px 10px;margin-top: 5px;border-radius:3px\">\n",
    "__[5.7]__ - Expliquer comment construire la requête permettant d'accéder à la ressource\n",
    "<a href=\"https://mod95-be3.onrender.com/digest.html\">digest.html</a>."
   ]
  },
  {
   "cell_type": "code",
   "execution_count": 29,
   "metadata": {
    "collapsed": false,
    "jupyter": {
     "outputs_hidden": false
    },
    "util.bundle": "correcteur"
   },
   "outputs": [],
   "source": [
    "# votre code ici"
   ]
  },
  {
   "cell_type": "markdown",
   "metadata": {},
   "source": [
    "... vos explications ici"
   ]
  },
  {
   "cell_type": "markdown",
   "metadata": {},
   "source": [
    "<div style=\"background-color:#def;padding:5px 10px;margin-top: 5px;border-radius:3px\">\n",
    "__[5.8]__ - Utiliser le module Python nommé hashlib pour crypter les chaînes requises via l'algorithme MD5\n",
    "pour construire pas à pas la requête permettant d'accéder à la ressource <a href=\"https://mod95-be3.onrender.com/digest.html\">digest.html</a>.\n",
    "</div>"
   ]
  },
  {
   "cell_type": "code",
   "execution_count": 30,
   "metadata": {
    "collapsed": false,
    "jupyter": {
     "outputs_hidden": false
    },
    "util.bundle": "correcteur"
   },
   "outputs": [],
   "source": [
    "# votre code ici"
   ]
  },
  {
   "cell_type": "code",
   "execution_count": 31,
   "metadata": {
    "collapsed": false,
    "jupyter": {
     "outputs_hidden": false
    },
    "util.bundle": "correcteur"
   },
   "outputs": [],
   "source": [
    "# votre code ici"
   ]
  },
  {
   "cell_type": "markdown",
   "metadata": {},
   "source": [
    "<div style=\"background-color:#def;padding:5px 10px;margin-top: 5px;border-radius:3px\">\n",
    "__[5.9]__ - __Remarque:__ le nonce peut être généré par le serveur à sa convenance, en fonction du client (adresse IP), de la date de la requête (durée limitée), de l'URI de la ressource (portée limitée) et être vérifié lors de toute requête ultérieure.\n",
    "<p>C'est le cas du serveur recevant les requêtes précédentes qui crée des nonces dont la durée de validité est de 1 minute. C'est bien sûr trop court pour un serveur de documents statiques, et éventuellement trop long pour une API. Mais cela permet de jouer...\n",
    "<p>Vérifier qu'un nonce arbitraire ainsi qu'un nonce dont la durée de vie est dépassée ne sont pas acceptés.\n",
    "</div>"
   ]
  },
  {
   "cell_type": "code",
   "execution_count": 32,
   "metadata": {
    "collapsed": false,
    "jupyter": {
     "outputs_hidden": false
    },
    "util.bundle": "correcteur"
   },
   "outputs": [],
   "source": [
    "# votre code ici"
   ]
  },
  {
   "cell_type": "code",
   "execution_count": 33,
   "metadata": {
    "collapsed": false,
    "jupyter": {
     "outputs_hidden": false
    },
    "util.bundle": "correcteur"
   },
   "outputs": [],
   "source": [
    "# votre code ici"
   ]
  },
  {
   "cell_type": "code",
   "execution_count": 34,
   "metadata": {
    "collapsed": false,
    "jupyter": {
     "outputs_hidden": false
    },
    "util.bundle": "correcteur"
   },
   "outputs": [],
   "source": [
    "# votre code ici"
   ]
  },
  {
   "cell_type": "markdown",
   "metadata": {},
   "source": [
    "<div style=\"background-color:#def;padding:5px 10px;margin-top: 5px;border-radius:3px\">\n",
    "__[5.10]__ - Conclure sur la méthode Digest, avec ses avantages et ses inconvénients (s'il y en a), par rapport notamment à la méthode Basic.\n",
    "</div>"
   ]
  },
  {
   "cell_type": "markdown",
   "metadata": {},
   "source": [
    "... vos conclusions ici"
   ]
  },
  {
   "cell_type": "markdown",
   "metadata": {},
   "source": [
    "<h4 style=\"font-size:150%;color:#06A;margin-bottom:1.33em;border-top:3px solid #7fb2d4; padding-top:0.5em\">6. Service REST</h4>\n",
    "\n",
    "<p>REST est un concept d'architecture permettant de développer des services web\n",
    "<a href=\"https://en.wikipedia.org/wiki/Representational_state_transfer#Relationship_between_URL_and_HTTP_methods\">basés sur les méthodes HTTP</a> pour créer, consulter, modifier ou supprimer des informations <em>(CRUD - Create, Read, Update, Delete)</em>.\n",
    "\n",
    "<p>Le service\n",
    "<a href=\"https://mod95-be3.onrender.com/todolist\">todolist</a> implémente ce type d'architecture, pour créer une TODO_list, lire son contenu, la modifier ou la supprimer. Les questions suivantes permettront de disséquer son fonctionnement."
   ]
  },
  {
   "cell_type": "markdown",
   "metadata": {},
   "source": [
    "<div style=\"background-color:#def;padding:5px 10px;margin-top: 5px;border-radius:3px\">\n",
    "__[6.1]__ - &Eacute;mettre une requête POST vers ce service et en déduire le type de contenu attendu pour créer une liste.\n",
    "</div>"
   ]
  },
  {
   "cell_type": "code",
   "execution_count": 35,
   "metadata": {
    "collapsed": false,
    "jupyter": {
     "outputs_hidden": false
    },
    "util.bundle": "correcteur"
   },
   "outputs": [],
   "source": [
    "# votre code ici"
   ]
  },
  {
   "cell_type": "markdown",
   "metadata": {},
   "source": [
    "<div style=\"background-color:#def;padding:5px 10px;margin-top: 5px;border-radius:3px\">\n",
    "__[6.2]__ - &Eacute;mettre une requête POST vers ce service avec le premier type de contenu supporté, et en déduire l'information manquante pour créer une liste.\n",
    "</div>"
   ]
  },
  {
   "cell_type": "code",
   "execution_count": 36,
   "metadata": {
    "collapsed": false,
    "jupyter": {
     "outputs_hidden": false
    },
    "util.bundle": "correcteur"
   },
   "outputs": [],
   "source": [
    "# votre code ici"
   ]
  },
  {
   "cell_type": "markdown",
   "metadata": {},
   "source": [
    "<div style=\"background-color:#def;padding:5px 10px;margin-top: 5px;border-radius:3px\">\n",
    "__[6.3]__ - Se documenter au sujet du premier type de contenu demandé, puis formuler une requête POST vers ce service avec les informations nécessaires formattées à l'aide de ce type de contenu pour créer une TODO_list comportant une tâche.\n",
    "</div>"
   ]
  },
  {
   "cell_type": "code",
   "execution_count": 37,
   "metadata": {
    "collapsed": false,
    "jupyter": {
     "outputs_hidden": false
    },
    "util.bundle": "correcteur"
   },
   "outputs": [],
   "source": [
    "# votre code ici"
   ]
  },
  {
   "cell_type": "markdown",
   "metadata": {},
   "source": [
    "... mettre ici une référence vers la documentation trouvée"
   ]
  },
  {
   "cell_type": "markdown",
   "metadata": {},
   "source": [
    "<div style=\"background-color:#def;padding:5px 10px;margin-top: 5px;border-radius:3px\">\n",
    "__[6.4]__ - Essayer avec la tâche \"Acheter du café\". Sauf exception, il y aura un problème avec les caractères accentués.\n",
    "Plutôt que de bricoler à la main pour résoudre le problème, consulter la documentation de\n",
    "<a href=\"https://docs.python.org/3/library/urllib.parse.html#urllib.parse.urlencode\">urllib.parse.urlencode</a> et\n",
    "reformuler une requête permettant de créer une tâche dont le libellé comporte des caractères accentués. Indiquer comment ces caractères sont encodés.\n",
    "</div>"
   ]
  },
  {
   "cell_type": "code",
   "execution_count": 38,
   "metadata": {
    "collapsed": false,
    "jupyter": {
     "outputs_hidden": false
    },
    "util.bundle": "correcteur"
   },
   "outputs": [],
   "source": [
    "# votre code ici"
   ]
  },
  {
   "cell_type": "code",
   "execution_count": 39,
   "metadata": {
    "collapsed": false,
    "jupyter": {
     "outputs_hidden": false
    },
    "util.bundle": "correcteur"
   },
   "outputs": [],
   "source": [
    "# votre code ici"
   ]
  },
  {
   "cell_type": "markdown",
   "metadata": {},
   "source": [
    "... vos indications ici"
   ]
  },
  {
   "cell_type": "markdown",
   "metadata": {},
   "source": [
    "<div style=\"background-color:#def;padding:5px 10px;margin-top: 5px;border-radius:3px\">\n",
    "__[6.5]__ - De fait, le service utilisé permet de créer une TODO_list avec plusieurs tâches. Relire la documentation de\n",
    "<a href=\"https://docs.python.org/3/library/urllib.parse.html#urllib.parse.urlencode\">urllib.parse.urlencode</a>\n",
    "pour découvrir comment spécifier une variable dont la valeur est une liste, puis créer une TODO_list comportant plusieurs tâches.\n",
    "</div>"
   ]
  },
  {
   "cell_type": "markdown",
   "metadata": {},
   "source": [
    "...indiquer comment spécifier une variable prenant plusieurs valeurs (i.e. une liste)"
   ]
  },
  {
   "cell_type": "code",
   "execution_count": 40,
   "metadata": {
    "collapsed": false,
    "jupyter": {
     "outputs_hidden": false
    },
    "util.bundle": "correcteur"
   },
   "outputs": [],
   "source": [
    "# votre code ici"
   ]
  },
  {
   "cell_type": "markdown",
   "metadata": {},
   "source": [
    "<div style=\"background-color:#def;padding:5px 10px;margin-top: 5px;border-radius:3px\">\n",
    "__[6.6]__ - Le service utilisé accepte également les requêtes au format \n",
    "<a href=\"https://www.json.org/\">JSON</a>. Utiliser le module\n",
    "<a href=\"https://docs.python.org/3/library/json.html\">json</a> pour émettre une requête avec un corps en JSON permettant\n",
    "de créer une TODO_list comportant une ou plusieurs tâches. Ne pas pas oublier de tester des tâches comportant des caractères accentués.\n",
    "</div>"
   ]
  },
  {
   "cell_type": "code",
   "execution_count": 41,
   "metadata": {
    "collapsed": false,
    "jupyter": {
     "outputs_hidden": false
    },
    "util.bundle": "correcteur"
   },
   "outputs": [],
   "source": [
    "# votre code ici"
   ]
  },
  {
   "cell_type": "code",
   "execution_count": 42,
   "metadata": {
    "collapsed": false,
    "jupyter": {
     "outputs_hidden": false
    },
    "util.bundle": "correcteur"
   },
   "outputs": [],
   "source": [
    "# votre code ici"
   ]
  },
  {
   "cell_type": "code",
   "execution_count": 43,
   "metadata": {
    "collapsed": false,
    "jupyter": {
     "outputs_hidden": false
    },
    "util.bundle": "correcteur"
   },
   "outputs": [],
   "source": [
    "# votre code ici"
   ]
  },
  {
   "cell_type": "markdown",
   "metadata": {},
   "source": [
    "<div style=\"background-color:#def;padding:5px 10px;margin-top: 5px;border-radius:3px\">\n",
    "__[6.7]__ - Une fois une liste de tâches créée, il est possible de relire son contenu avec une requête GET formulée vers la ressource <code>/todolist/list-xxxxxxxxxxxxx</code>, où la dernière partie correspond au nom de la liste à consulter. Vérifier ce fonctionnement.\n",
    "</div>"
   ]
  },
  {
   "cell_type": "code",
   "execution_count": 44,
   "metadata": {
    "collapsed": false,
    "jupyter": {
     "outputs_hidden": false
    },
    "util.bundle": "correcteur"
   },
   "outputs": [],
   "source": [
    "# votre code ici"
   ]
  },
  {
   "cell_type": "markdown",
   "metadata": {},
   "source": [
    "<div style=\"background-color:#def;padding:5px 10px;margin-top: 5px;border-radius:3px\">\n",
    "__[6.8]__ - Conformément à l'architecture REST, la méthode HTTP PUT formulée vers une adresse comme GET ci-dessus, avec par ailleurs les mêmes paramètres que POST, permet de spécifier un nouveau contenu pour la liste mentionnée. Effectuer ce type d'opération.\n",
    "</div>"
   ]
  },
  {
   "cell_type": "code",
   "execution_count": 45,
   "metadata": {
    "collapsed": false,
    "jupyter": {
     "outputs_hidden": false
    },
    "util.bundle": "correcteur"
   },
   "outputs": [],
   "source": [
    "# votre code ici"
   ]
  },
  {
   "cell_type": "markdown",
   "metadata": {},
   "source": [
    "<div style=\"background-color:#def;padding:5px 10px;margin-top: 5px;border-radius:3px\">\n",
    "__[6.9]__ - Pour modifier uniquement certains éléments d'une liste donnée, l'architecture REST préconise la méthode HTTP PATCH. Tenter ce type d'opération avec les mêmes paramètres que ci-dessus et en déduire les paramètres manquants.\n",
    "</div>"
   ]
  },
  {
   "cell_type": "code",
   "execution_count": 46,
   "metadata": {
    "collapsed": false,
    "jupyter": {
     "outputs_hidden": false
    },
    "util.bundle": "correcteur"
   },
   "outputs": [],
   "source": [
    "# votre code ici"
   ]
  },
  {
   "cell_type": "markdown",
   "metadata": {},
   "source": [
    "<div style=\"background-color:#def;padding:5px 10px;margin-top: 5px;border-radius:3px\">\n",
    "__[6.10]__ - Les paramètres manquants sont des entiers, qui donnent l'index où insérer le nouveau contenu, et le nombre d'éléments à supprimer avant d'insérer le nouveau contenu transmis.\n",
    "Pour une meilleure compréhension de l'opération effectuée, consulter la document de la fonction <a href=\"https://developer.mozilla.org/en-US/docs/Web/JavaScript/Reference/Global_Objects/Array/splice\">Array.splice()</a> utilisée par le serveur pour modifier la TODO_list à l'aide des paramètres fournis. Ajouter une tâche en fin de liste.\n",
    "</div>"
   ]
  },
  {
   "cell_type": "code",
   "execution_count": 47,
   "metadata": {
    "collapsed": false,
    "jupyter": {
     "outputs_hidden": false
    },
    "util.bundle": "correcteur"
   },
   "outputs": [],
   "source": [
    "# votre code ici"
   ]
  },
  {
   "cell_type": "markdown",
   "metadata": {},
   "source": [
    "<div style=\"background-color:#def;padding:5px 10px;margin-top: 5px;border-radius:3px\">\n",
    "__[6.11]__ - Remplacer une tâche en milieu de liste.\n",
    "</div>"
   ]
  },
  {
   "cell_type": "code",
   "execution_count": 48,
   "metadata": {
    "collapsed": false,
    "jupyter": {
     "outputs_hidden": false
    },
    "util.bundle": "correcteur"
   },
   "outputs": [],
   "source": [
    "# votre code ici"
   ]
  },
  {
   "cell_type": "markdown",
   "metadata": {},
   "source": [
    "<div style=\"background-color:#def;padding:5px 10px;margin-top: 5px;border-radius:3px\">\n",
    "__[6.12]__ - Enfin, la méthode HTTP DELETE permet de supprimer une TODO_list. Vérifier son fonctionnement\n",
    "</div>"
   ]
  },
  {
   "cell_type": "code",
   "execution_count": 49,
   "metadata": {
    "collapsed": false,
    "jupyter": {
     "outputs_hidden": false
    },
    "util.bundle": "correcteur"
   },
   "outputs": [],
   "source": [
    "# votre code ici"
   ]
  },
  {
   "cell_type": "code",
   "execution_count": 50,
   "metadata": {
    "collapsed": false,
    "jupyter": {
     "outputs_hidden": false
    },
    "util.bundle": "correcteur"
   },
   "outputs": [],
   "source": [
    "# votre code ici"
   ]
  },
  {
   "cell_type": "markdown",
   "metadata": {},
   "source": [
    "<h4 style=\"font-size:150%;color:#06A;margin-bottom:1.33em;border-top:3px solid #7fb2d4; padding-top:0.5em\">7. Pour ceux qui en veulent toujours plus...</h4>\n",
    "\n",
    "Le serveur qui répond à vos requêtes est hébergé chez <a href=\"https://render.com/\">render.com</a> et son code source est disponible <a href=\"https://github.com/dmolinarius/mod95-be3\">ici</a> via github."
   ]
  },
  {
   "cell_type": "code",
   "execution_count": 51,
   "metadata": {},
   "outputs": [],
   "source": []
  },
  {
   "cell_type": "markdown",
   "metadata": {},
   "source": [
    "Tous les codes status de la libairie http.client : https://docs.python.org/3/library/http.html"
   ]
  },
  {
   "cell_type": "code",
   "execution_count": null,
   "metadata": {},
   "outputs": [],
   "source": []
  }
 ],
 "metadata": {
  "kernelspec": {
   "display_name": "Python 3",
   "language": "python",
   "name": "python3"
  },
  "language_info": {
   "codemirror_mode": {
    "name": "ipython",
    "version": 3
   },
   "file_extension": ".py",
   "mimetype": "text/x-python",
   "name": "python",
   "nbconvert_exporter": "python",
   "pygments_lexer": "ipython3",
   "version": "3.12.3"
  }
 },
 "nbformat": 4,
 "nbformat_minor": 4
}
