{
 "cells": [
  {
   "cell_type": "markdown",
   "metadata": {},
   "source": [
    "#  <center>MOD 9.5 - Réseaux informatiques</center>\n",
    "## <center style=\"color: #06A\">BE 3 - Le protocole HTTP</center>"
   ]
  },
  {
   "cell_type": "markdown",
   "metadata": {},
   "source": [
    "<center>__<b>Bouchafaa Mohamed Arezki | Guillerm Martin</b>__</center>"
   ]
  },
  {
   "cell_type": "markdown",
   "metadata": {},
   "source": [
    "<h3 style=\"font-size:150%;color:white;background-color: #7fb2d4;padding:0.2em\">A - Informations générales</h3>\n",
    "\n",
    "<h4 style=\"font-size:150%;color:#06A;margin:1em 0 1.33em\">1. Déroulement de la séance.</h4>\n",
    "\n",
    "Comme précédemment, le travail sera à effectuer par binôme. Le compte-rendu doit être rédigé\n",
    "en complétant directement le présent notebook qui devra être déposé sur moodle une fois le travail terminé.\n",
    "\n",
    "Avant de déposer le résultat de votre travail, merci de __mentionner vos noms au sein du document__, puis au moment du dépôt de bien vouloir nommer le fichier sous la forme :\n",
    "\n",
    "<code>CR &lt;nom eleve 1> - &lt;nom eleve 2> - &lt;N° BE></code> \n",
    "\n",
    "<h4 style=\"font-size:150%;color:#06A;margin-bottom:1.33em\">2. Objectif du travail demandé.</h4>\n",
    "\n",
    "L'objectif du BE consiste à envoyer des requêtes HTTP vers des ressources diverses, de relever les réponses obtenues et de commenter ce que vous observez.\n",
    "\n",
    "Pour cela, les fonctions <code>http_request</code> et <code>https_request</code> ci-dessous vont vous aider à envoyer une requête HTTP (resp. HTTPS) en Python depuis le notebook et à afficher le résultat obtenu :"
   ]
  },
  {
   "cell_type": "code",
   "execution_count": 2,
   "metadata": {
    "collapsed": false,
    "jupyter": {
     "outputs_hidden": false
    }
   },
   "outputs": [],
   "source": [
    "import html\n",
    "import http.client\n",
    "from IPython.display import display, HTML, Image\n",
    "\n",
    "def http_request(method, server, path, body=None, headers={}, port=80, silent=False):\n",
    "    conn = http.client.HTTPConnection(server, port)\n",
    "    resp = send_request(conn, method, path, body, headers)\n",
    "    body = resp.read()\n",
    "    if silent:\n",
    "        return (resp,body)\n",
    "    else:\n",
    "        display_response(resp,body)\n",
    "\n",
    "def https_request(method, server, path, body=None, headers={}, port=443, silent=False):\n",
    "    conn = http.client.HTTPSConnection(server, port)\n",
    "    resp = send_request(conn, method, path, body, headers)\n",
    "    body = resp.read()\n",
    "    if silent:\n",
    "        return (resp,body)\n",
    "    else:\n",
    "        display_response(resp,body)\n",
    "\n",
    "def send_request(conn, method, path, body=None, headers={}):\n",
    "    conn.request(method, path, body, headers)\n",
    "    return conn.getresponse()\n",
    "\n",
    "def display_response(response,body):\n",
    "    display_status_line(response)\n",
    "    display_headers(response.headers)\n",
    "    contentType = response.getheader('Content-Type')\n",
    "    if contentType:\n",
    "        if contentType.startswith('text') or contentType.startswith('application/json') or 'xml' in contentType:\n",
    "            display_body(body.decode('UTF-8'), contentType)\n",
    "        elif contentType.startswith('image'):\n",
    "            display_body(body, contentType)\n",
    "        else:\n",
    "            display_error('Le notebook ne sait pas afficher le type de contenu {}'.format(contentType))\n",
    "    return body\n",
    "\n",
    "\n",
    "def display_error(msg):\n",
    "    display_html(\n",
    "        '<i style=\"margin-top:-0.4em; font-family:Consolas,monospace; ' +\\\n",
    "        'display:inline-block; margin-top:10px; color:#ccc\">{}</i>',\n",
    "        msg)\n",
    "\n",
    "def display_status_line(response):\n",
    "    display_html(\n",
    "        \"<code style='font-family:Consolas,monospace; display:block; margin-top: 5px; \" +\\\n",
    "        \"border-bottom:1px solid #ccc'><span style='font-weight:bold;color:#008'>{}</span> - {}</code>\",\n",
    "        response.status, response.reason)\n",
    "\n",
    "def display_headers(headers):\n",
    "    for h in headers:\n",
    "        display_header(h,headers[h])\n",
    "\n",
    "def display_header(header,value):\n",
    "    display_html(\n",
    "        \"<code style='display:block; margin-top:-0.7em; font-family:Consolas,monospace'><b>{}:</b> {}</code>\",\n",
    "        header, value)\n",
    "    \n",
    "def display_body(body, contentType):\n",
    "    preformatted = \"<pre style='font-family:Consolas,monospace; padding:5px; \" + \\\n",
    "        \"border: 1px solid #ccc; border-radius:5px; box-shadow: 5px 5px 5px #ccc; \" + \\\n",
    "        \"margin:5px 0 10px 0; display: inline-block; min-width: 50%'>{}</pre>\"\n",
    "    freeformat = \"<div style='padding:5px; border: 1px solid #ccc; border-radius:5px; \" + \\\n",
    "        \"box-shadow: 5px 5px 5px #ccc; margin:5px 0 10px 0; display: inline-block; \" + \\\n",
    "        \"min-width: 50%'>{}</div>\"\n",
    "    if ( len(body) ):\n",
    "        if ( contentType.startswith('application/json') ) :\n",
    "            display_html(preformatted, body)\n",
    "        elif ( contentType.startswith('text/html') ) :\n",
    "            display_html(freeformat, body)\n",
    "        elif ( contentType == 'image/svg+xml') :\n",
    "            display_html(freeformat, body)\n",
    "        elif ( contentType.startswith('text/plain') ) :\n",
    "            display_html(preformatted, html.escape(body))\n",
    "        elif ( contentType.startswith('image') ) :\n",
    "            display(Image(body))\n",
    "    \n",
    "def display_html(fmt,*args):\n",
    "    display(HTML(fmt.format(*args)))"
   ]
  },
  {
   "cell_type": "markdown",
   "metadata": {},
   "source": [
    "Voici comment utiliser la fonction <code>http_request()</code> pour effectuer une requête GET vers l'adresse http://httpbin.org/robots.txt :"
   ]
  },
  {
   "cell_type": "code",
   "execution_count": 3,
   "metadata": {
    "collapsed": false,
    "jupyter": {
     "outputs_hidden": false
    }
   },
   "outputs": [
    {
     "data": {
      "text/html": [
       "<code style='font-family:Consolas,monospace; display:block; margin-top: 5px; border-bottom:1px solid #ccc'><span style='font-weight:bold;color:#008'>200</span> - OK</code>"
      ],
      "text/plain": [
       "<IPython.core.display.HTML object>"
      ]
     },
     "metadata": {},
     "output_type": "display_data"
    },
    {
     "data": {
      "text/html": [
       "<code style='display:block; margin-top:-0.7em; font-family:Consolas,monospace'><b>Date:</b> Mon, 11 Dec 2023 13:09:19 GMT</code>"
      ],
      "text/plain": [
       "<IPython.core.display.HTML object>"
      ]
     },
     "metadata": {},
     "output_type": "display_data"
    },
    {
     "data": {
      "text/html": [
       "<code style='display:block; margin-top:-0.7em; font-family:Consolas,monospace'><b>Content-Type:</b> text/plain</code>"
      ],
      "text/plain": [
       "<IPython.core.display.HTML object>"
      ]
     },
     "metadata": {},
     "output_type": "display_data"
    },
    {
     "data": {
      "text/html": [
       "<code style='display:block; margin-top:-0.7em; font-family:Consolas,monospace'><b>Content-Length:</b> 30</code>"
      ],
      "text/plain": [
       "<IPython.core.display.HTML object>"
      ]
     },
     "metadata": {},
     "output_type": "display_data"
    },
    {
     "data": {
      "text/html": [
       "<code style='display:block; margin-top:-0.7em; font-family:Consolas,monospace'><b>Connection:</b> keep-alive</code>"
      ],
      "text/plain": [
       "<IPython.core.display.HTML object>"
      ]
     },
     "metadata": {},
     "output_type": "display_data"
    },
    {
     "data": {
      "text/html": [
       "<code style='display:block; margin-top:-0.7em; font-family:Consolas,monospace'><b>Server:</b> gunicorn/19.9.0</code>"
      ],
      "text/plain": [
       "<IPython.core.display.HTML object>"
      ]
     },
     "metadata": {},
     "output_type": "display_data"
    },
    {
     "data": {
      "text/html": [
       "<code style='display:block; margin-top:-0.7em; font-family:Consolas,monospace'><b>Access-Control-Allow-Origin:</b> *</code>"
      ],
      "text/plain": [
       "<IPython.core.display.HTML object>"
      ]
     },
     "metadata": {},
     "output_type": "display_data"
    },
    {
     "data": {
      "text/html": [
       "<code style='display:block; margin-top:-0.7em; font-family:Consolas,monospace'><b>Access-Control-Allow-Credentials:</b> true</code>"
      ],
      "text/plain": [
       "<IPython.core.display.HTML object>"
      ]
     },
     "metadata": {},
     "output_type": "display_data"
    },
    {
     "data": {
      "text/html": [
       "<pre style='font-family:Consolas,monospace; padding:5px; border: 1px solid #ccc; border-radius:5px; box-shadow: 5px 5px 5px #ccc; margin:5px 0 10px 0; display: inline-block; min-width: 50%'>User-agent: *\n",
       "Disallow: /deny\n",
       "</pre>"
      ],
      "text/plain": [
       "<IPython.core.display.HTML object>"
      ]
     },
     "metadata": {},
     "output_type": "display_data"
    }
   ],
   "source": [
    "http_request('GET','httpbin.org','/robots.txt')"
   ]
  },
  {
   "cell_type": "markdown",
   "metadata": {},
   "source": [
    "Et voici comment effectuer une requête POST avec un corps :"
   ]
  },
  {
   "cell_type": "code",
   "execution_count": 4,
   "metadata": {
    "collapsed": false,
    "jupyter": {
     "outputs_hidden": false
    }
   },
   "outputs": [
    {
     "data": {
      "text/html": [
       "<code style='font-family:Consolas,monospace; display:block; margin-top: 5px; border-bottom:1px solid #ccc'><span style='font-weight:bold;color:#008'>200</span> - OK</code>"
      ],
      "text/plain": [
       "<IPython.core.display.HTML object>"
      ]
     },
     "metadata": {},
     "output_type": "display_data"
    },
    {
     "data": {
      "text/html": [
       "<code style='display:block; margin-top:-0.7em; font-family:Consolas,monospace'><b>Date:</b> Mon, 11 Dec 2023 13:09:33 GMT</code>"
      ],
      "text/plain": [
       "<IPython.core.display.HTML object>"
      ]
     },
     "metadata": {},
     "output_type": "display_data"
    },
    {
     "data": {
      "text/html": [
       "<code style='display:block; margin-top:-0.7em; font-family:Consolas,monospace'><b>Content-Type:</b> text/html; charset=utf-8</code>"
      ],
      "text/plain": [
       "<IPython.core.display.HTML object>"
      ]
     },
     "metadata": {},
     "output_type": "display_data"
    },
    {
     "data": {
      "text/html": [
       "<code style='display:block; margin-top:-0.7em; font-family:Consolas,monospace'><b>Transfer-Encoding:</b> chunked</code>"
      ],
      "text/plain": [
       "<IPython.core.display.HTML object>"
      ]
     },
     "metadata": {},
     "output_type": "display_data"
    },
    {
     "data": {
      "text/html": [
       "<code style='display:block; margin-top:-0.7em; font-family:Consolas,monospace'><b>Connection:</b> keep-alive</code>"
      ],
      "text/plain": [
       "<IPython.core.display.HTML object>"
      ]
     },
     "metadata": {},
     "output_type": "display_data"
    },
    {
     "data": {
      "text/html": [
       "<code style='display:block; margin-top:-0.7em; font-family:Consolas,monospace'><b>CF-Ray:</b> 833df671ce713633-FRA</code>"
      ],
      "text/plain": [
       "<IPython.core.display.HTML object>"
      ]
     },
     "metadata": {},
     "output_type": "display_data"
    },
    {
     "data": {
      "text/html": [
       "<code style='display:block; margin-top:-0.7em; font-family:Consolas,monospace'><b>CF-Cache-Status:</b> DYNAMIC</code>"
      ],
      "text/plain": [
       "<IPython.core.display.HTML object>"
      ]
     },
     "metadata": {},
     "output_type": "display_data"
    },
    {
     "data": {
      "text/html": [
       "<code style='display:block; margin-top:-0.7em; font-family:Consolas,monospace'><b>ETag:</b> W/\"135-dzr+yzRXv/aGFP+8uGPZ9yUJ0PM\"</code>"
      ],
      "text/plain": [
       "<IPython.core.display.HTML object>"
      ]
     },
     "metadata": {},
     "output_type": "display_data"
    },
    {
     "data": {
      "text/html": [
       "<code style='display:block; margin-top:-0.7em; font-family:Consolas,monospace'><b>Vary:</b> Accept-Encoding</code>"
      ],
      "text/plain": [
       "<IPython.core.display.HTML object>"
      ]
     },
     "metadata": {},
     "output_type": "display_data"
    },
    {
     "data": {
      "text/html": [
       "<code style='display:block; margin-top:-0.7em; font-family:Consolas,monospace'><b>rndr-id:</b> 99b701cd-d8b4-42c7</code>"
      ],
      "text/plain": [
       "<IPython.core.display.HTML object>"
      ]
     },
     "metadata": {},
     "output_type": "display_data"
    },
    {
     "data": {
      "text/html": [
       "<code style='display:block; margin-top:-0.7em; font-family:Consolas,monospace'><b>x-powered-by:</b> Express</code>"
      ],
      "text/plain": [
       "<IPython.core.display.HTML object>"
      ]
     },
     "metadata": {},
     "output_type": "display_data"
    },
    {
     "data": {
      "text/html": [
       "<code style='display:block; margin-top:-0.7em; font-family:Consolas,monospace'><b>x-render-origin-server:</b> Render</code>"
      ],
      "text/plain": [
       "<IPython.core.display.HTML object>"
      ]
     },
     "metadata": {},
     "output_type": "display_data"
    },
    {
     "data": {
      "text/html": [
       "<code style='display:block; margin-top:-0.7em; font-family:Consolas,monospace'><b>Server:</b> cloudflare</code>"
      ],
      "text/plain": [
       "<IPython.core.display.HTML object>"
      ]
     },
     "metadata": {},
     "output_type": "display_data"
    },
    {
     "data": {
      "text/html": [
       "<code style='display:block; margin-top:-0.7em; font-family:Consolas,monospace'><b>alt-svc:</b> h3=\":443\"; ma=86400</code>"
      ],
      "text/plain": [
       "<IPython.core.display.HTML object>"
      ]
     },
     "metadata": {},
     "output_type": "display_data"
    },
    {
     "data": {
      "text/html": [
       "<div style='padding:5px; border: 1px solid #ccc; border-radius:5px; box-shadow: 5px 5px 5px #ccc; margin:5px 0 10px 0; display: inline-block; min-width: 50%'><!DOCTYPE html>\r\n",
       "<html lang=\"fr\">\r\n",
       "<meta charset=\"utf-8\">\r\n",
       "\r\n",
       "<div style=\"font-family: Consolas,monospace\">\r\n",
       "<h1 style=\"margin-top:0; padding:0.1em 0.5em;background-color:darkslateblue;color:white\">Message privé</h1>\r\n",
       "<p>Bonjour Dédé !\r\n",
       "<address style=\"margin:1.33em 0 0\">Raymond Deubaze</address>\r\n",
       "</div>\r\n",
       "</div>"
      ],
      "text/plain": [
       "<IPython.core.display.HTML object>"
      ]
     },
     "metadata": {},
     "output_type": "display_data"
    }
   ],
   "source": [
    "https_request('POST','mod95-be3.onrender.com','/message', headers={\n",
    "    'Content-Type': 'application/x-www-form-urlencoded'\n",
    "}, body=\"pr%C3%A9nom=Raymond&nom=Deubaze&message=Bonjour D%C3%A9d%C3%A9+!\")"
   ]
  },
  {
   "cell_type": "markdown",
   "metadata": {},
   "source": [
    "<h3 style=\"font-size:150%;color:white;background-color:#7fb2d4;padding:0.2em\">B - Travail à effectuer</h3>\n",
    "\n",
    "<h4 style=\"font-size:150%;color:#06A;margin:1em 0 1.33em\">1. Exemples de requêtes HTTP</h4>\n",
    "\n",
    "<div style=\"background-color:#def;padding:5px 10px;margin-top: 5px;border-radius:3px\">\n",
    "__[1.1]__ - Effectuer une requête vers la ressource <a href=\"https://mod95-be3.onrender.com/hello.html\">hello.html</a>.\n",
    "</div>"
   ]
  },
  {
   "cell_type": "code",
   "execution_count": 7,
   "metadata": {
    "collapsed": false,
    "jupyter": {
     "outputs_hidden": false
    },
    "util.bundle": "correcteur"
   },
   "outputs": [
    {
     "data": {
      "text/html": [
       "<code style='font-family:Consolas,monospace; display:block; margin-top: 5px; border-bottom:1px solid #ccc'><span style='font-weight:bold;color:#008'>200</span> - OK</code>"
      ],
      "text/plain": [
       "<IPython.core.display.HTML object>"
      ]
     },
     "metadata": {},
     "output_type": "display_data"
    },
    {
     "data": {
      "text/html": [
       "<code style='display:block; margin-top:-0.7em; font-family:Consolas,monospace'><b>Date:</b> Mon, 11 Dec 2023 13:18:58 GMT</code>"
      ],
      "text/plain": [
       "<IPython.core.display.HTML object>"
      ]
     },
     "metadata": {},
     "output_type": "display_data"
    },
    {
     "data": {
      "text/html": [
       "<code style='display:block; margin-top:-0.7em; font-family:Consolas,monospace'><b>Content-Type:</b> text/html; charset=UTF-8</code>"
      ],
      "text/plain": [
       "<IPython.core.display.HTML object>"
      ]
     },
     "metadata": {},
     "output_type": "display_data"
    },
    {
     "data": {
      "text/html": [
       "<code style='display:block; margin-top:-0.7em; font-family:Consolas,monospace'><b>Transfer-Encoding:</b> chunked</code>"
      ],
      "text/plain": [
       "<IPython.core.display.HTML object>"
      ]
     },
     "metadata": {},
     "output_type": "display_data"
    },
    {
     "data": {
      "text/html": [
       "<code style='display:block; margin-top:-0.7em; font-family:Consolas,monospace'><b>Connection:</b> keep-alive</code>"
      ],
      "text/plain": [
       "<IPython.core.display.HTML object>"
      ]
     },
     "metadata": {},
     "output_type": "display_data"
    },
    {
     "data": {
      "text/html": [
       "<code style='display:block; margin-top:-0.7em; font-family:Consolas,monospace'><b>CF-Ray:</b> 833e04426d671e4c-FRA</code>"
      ],
      "text/plain": [
       "<IPython.core.display.HTML object>"
      ]
     },
     "metadata": {},
     "output_type": "display_data"
    },
    {
     "data": {
      "text/html": [
       "<code style='display:block; margin-top:-0.7em; font-family:Consolas,monospace'><b>CF-Cache-Status:</b> DYNAMIC</code>"
      ],
      "text/plain": [
       "<IPython.core.display.HTML object>"
      ]
     },
     "metadata": {},
     "output_type": "display_data"
    },
    {
     "data": {
      "text/html": [
       "<code style='display:block; margin-top:-0.7em; font-family:Consolas,monospace'><b>Cache-Control:</b> public, max-age=0</code>"
      ],
      "text/plain": [
       "<IPython.core.display.HTML object>"
      ]
     },
     "metadata": {},
     "output_type": "display_data"
    },
    {
     "data": {
      "text/html": [
       "<code style='display:block; margin-top:-0.7em; font-family:Consolas,monospace'><b>ETag:</b> W/\"b6-187dd542520\"</code>"
      ],
      "text/plain": [
       "<IPython.core.display.HTML object>"
      ]
     },
     "metadata": {},
     "output_type": "display_data"
    },
    {
     "data": {
      "text/html": [
       "<code style='display:block; margin-top:-0.7em; font-family:Consolas,monospace'><b>Last-Modified:</b> Tue, 02 May 2023 16:38:12 GMT</code>"
      ],
      "text/plain": [
       "<IPython.core.display.HTML object>"
      ]
     },
     "metadata": {},
     "output_type": "display_data"
    },
    {
     "data": {
      "text/html": [
       "<code style='display:block; margin-top:-0.7em; font-family:Consolas,monospace'><b>Vary:</b> Accept-Encoding</code>"
      ],
      "text/plain": [
       "<IPython.core.display.HTML object>"
      ]
     },
     "metadata": {},
     "output_type": "display_data"
    },
    {
     "data": {
      "text/html": [
       "<code style='display:block; margin-top:-0.7em; font-family:Consolas,monospace'><b>rndr-id:</b> dbad13c6-7e81-483d</code>"
      ],
      "text/plain": [
       "<IPython.core.display.HTML object>"
      ]
     },
     "metadata": {},
     "output_type": "display_data"
    },
    {
     "data": {
      "text/html": [
       "<code style='display:block; margin-top:-0.7em; font-family:Consolas,monospace'><b>x-powered-by:</b> Express</code>"
      ],
      "text/plain": [
       "<IPython.core.display.HTML object>"
      ]
     },
     "metadata": {},
     "output_type": "display_data"
    },
    {
     "data": {
      "text/html": [
       "<code style='display:block; margin-top:-0.7em; font-family:Consolas,monospace'><b>x-render-origin-server:</b> Render</code>"
      ],
      "text/plain": [
       "<IPython.core.display.HTML object>"
      ]
     },
     "metadata": {},
     "output_type": "display_data"
    },
    {
     "data": {
      "text/html": [
       "<code style='display:block; margin-top:-0.7em; font-family:Consolas,monospace'><b>Server:</b> cloudflare</code>"
      ],
      "text/plain": [
       "<IPython.core.display.HTML object>"
      ]
     },
     "metadata": {},
     "output_type": "display_data"
    },
    {
     "data": {
      "text/html": [
       "<code style='display:block; margin-top:-0.7em; font-family:Consolas,monospace'><b>alt-svc:</b> h3=\":443\"; ma=86400</code>"
      ],
      "text/plain": [
       "<IPython.core.display.HTML object>"
      ]
     },
     "metadata": {},
     "output_type": "display_data"
    },
    {
     "data": {
      "text/html": [
       "<div style='padding:5px; border: 1px solid #ccc; border-radius:5px; box-shadow: 5px 5px 5px #ccc; margin:5px 0 10px 0; display: inline-block; min-width: 50%'><!DOCTYPE html>\n",
       "<html lang=\"fr\">\n",
       "<meta charset=\"utf-8\">\n",
       "<title>Exemple HTML</title>\n",
       "<h1 style=\"margin:0 0 0.33em\">Exemple</h1>\n",
       "<div>Hello, ceci est un exemple de document HTML</div>\n",
       "</div>"
      ],
      "text/plain": [
       "<IPython.core.display.HTML object>"
      ]
     },
     "metadata": {},
     "output_type": "display_data"
    }
   ],
   "source": [
    "https_request('GET','mod95-be3.onrender.com','/hello.html')"
   ]
  },
  {
   "cell_type": "markdown",
   "metadata": {},
   "source": [
    "<div style=\"background-color:#def;padding:5px 10px;margin-top: 5px;border-radius:3px\">\n",
    "__[1.2]__ - Comment peut-on obtenir uniquement les entêtes de cette même ressource ?\n",
    "</div>"
   ]
  },
  {
   "cell_type": "code",
   "execution_count": 8,
   "metadata": {
    "collapsed": false,
    "jupyter": {
     "outputs_hidden": false
    },
    "util.bundle": "correcteur"
   },
   "outputs": [
    {
     "data": {
      "text/html": [
       "<code style='font-family:Consolas,monospace; display:block; margin-top: 5px; border-bottom:1px solid #ccc'><span style='font-weight:bold;color:#008'>200</span> - OK</code>"
      ],
      "text/plain": [
       "<IPython.core.display.HTML object>"
      ]
     },
     "metadata": {},
     "output_type": "display_data"
    },
    {
     "data": {
      "text/html": [
       "<code style='display:block; margin-top:-0.7em; font-family:Consolas,monospace'><b>Date:</b> Mon, 11 Dec 2023 13:19:09 GMT</code>"
      ],
      "text/plain": [
       "<IPython.core.display.HTML object>"
      ]
     },
     "metadata": {},
     "output_type": "display_data"
    },
    {
     "data": {
      "text/html": [
       "<code style='display:block; margin-top:-0.7em; font-family:Consolas,monospace'><b>Content-Type:</b> text/html; charset=UTF-8</code>"
      ],
      "text/plain": [
       "<IPython.core.display.HTML object>"
      ]
     },
     "metadata": {},
     "output_type": "display_data"
    },
    {
     "data": {
      "text/html": [
       "<code style='display:block; margin-top:-0.7em; font-family:Consolas,monospace'><b>Connection:</b> keep-alive</code>"
      ],
      "text/plain": [
       "<IPython.core.display.HTML object>"
      ]
     },
     "metadata": {},
     "output_type": "display_data"
    },
    {
     "data": {
      "text/html": [
       "<code style='display:block; margin-top:-0.7em; font-family:Consolas,monospace'><b>CF-Ray:</b> 833e04868d8f3816-FRA</code>"
      ],
      "text/plain": [
       "<IPython.core.display.HTML object>"
      ]
     },
     "metadata": {},
     "output_type": "display_data"
    },
    {
     "data": {
      "text/html": [
       "<code style='display:block; margin-top:-0.7em; font-family:Consolas,monospace'><b>CF-Cache-Status:</b> DYNAMIC</code>"
      ],
      "text/plain": [
       "<IPython.core.display.HTML object>"
      ]
     },
     "metadata": {},
     "output_type": "display_data"
    },
    {
     "data": {
      "text/html": [
       "<code style='display:block; margin-top:-0.7em; font-family:Consolas,monospace'><b>Cache-Control:</b> public, max-age=0</code>"
      ],
      "text/plain": [
       "<IPython.core.display.HTML object>"
      ]
     },
     "metadata": {},
     "output_type": "display_data"
    },
    {
     "data": {
      "text/html": [
       "<code style='display:block; margin-top:-0.7em; font-family:Consolas,monospace'><b>ETag:</b> W/\"b6-187dd542520\"</code>"
      ],
      "text/plain": [
       "<IPython.core.display.HTML object>"
      ]
     },
     "metadata": {},
     "output_type": "display_data"
    },
    {
     "data": {
      "text/html": [
       "<code style='display:block; margin-top:-0.7em; font-family:Consolas,monospace'><b>Last-Modified:</b> Tue, 02 May 2023 16:38:12 GMT</code>"
      ],
      "text/plain": [
       "<IPython.core.display.HTML object>"
      ]
     },
     "metadata": {},
     "output_type": "display_data"
    },
    {
     "data": {
      "text/html": [
       "<code style='display:block; margin-top:-0.7em; font-family:Consolas,monospace'><b>Vary:</b> Accept-Encoding</code>"
      ],
      "text/plain": [
       "<IPython.core.display.HTML object>"
      ]
     },
     "metadata": {},
     "output_type": "display_data"
    },
    {
     "data": {
      "text/html": [
       "<code style='display:block; margin-top:-0.7em; font-family:Consolas,monospace'><b>rndr-id:</b> 1872a276-43ec-40ce</code>"
      ],
      "text/plain": [
       "<IPython.core.display.HTML object>"
      ]
     },
     "metadata": {},
     "output_type": "display_data"
    },
    {
     "data": {
      "text/html": [
       "<code style='display:block; margin-top:-0.7em; font-family:Consolas,monospace'><b>x-powered-by:</b> Express</code>"
      ],
      "text/plain": [
       "<IPython.core.display.HTML object>"
      ]
     },
     "metadata": {},
     "output_type": "display_data"
    },
    {
     "data": {
      "text/html": [
       "<code style='display:block; margin-top:-0.7em; font-family:Consolas,monospace'><b>x-render-origin-server:</b> Render</code>"
      ],
      "text/plain": [
       "<IPython.core.display.HTML object>"
      ]
     },
     "metadata": {},
     "output_type": "display_data"
    },
    {
     "data": {
      "text/html": [
       "<code style='display:block; margin-top:-0.7em; font-family:Consolas,monospace'><b>Server:</b> cloudflare</code>"
      ],
      "text/plain": [
       "<IPython.core.display.HTML object>"
      ]
     },
     "metadata": {},
     "output_type": "display_data"
    },
    {
     "data": {
      "text/html": [
       "<code style='display:block; margin-top:-0.7em; font-family:Consolas,monospace'><b>alt-svc:</b> h3=\":443\"; ma=86400</code>"
      ],
      "text/plain": [
       "<IPython.core.display.HTML object>"
      ]
     },
     "metadata": {},
     "output_type": "display_data"
    }
   ],
   "source": [
    "https_request('HEAD','mod95-be3.onrender.com','/hello.html')"
   ]
  },
  {
   "cell_type": "markdown",
   "metadata": {},
   "source": [
    "<div style=\"background-color:#def;padding:5px 10px;margin-top: 5px;border-radius:3px\">\n",
    "__[1.3]__ - Expliquer à quoi sert chacune des entêtes de la réponse que vous obtenez.\n",
    "</div>"
   ]
  },
  {
   "cell_type": "markdown",
   "metadata": {},
   "source": [
    "200 - OK: C'est le code de statut HTTP. \"200\" indique que la requête a été traitée avec succès et que le serveur a retourné  les données souhaitées.\n",
    "\n",
    "Date : La date et l'heure auxquelles la réponse a été envoyée au format RFC 2822.\n",
    "\n",
    "Content-Type: Le type de contenu de la réponse ici : \"text/html; charset=UTF-8\", ce qui signifie que le contenu est du HTML encodé en UTF-8.\n",
    "\n",
    "Connection: L'état de la connexion, \"keep-alive\", indique que la connexion restera ouverte pour des requêtes futures.\n",
    "\n",
    "CF-Ray : Un identifiant unique attribué à la requête par le réseau de Cloudflare, un service de performance et de sécurité pour les sites web.\n",
    "\n",
    "CF-Cache-Status: Indique le statut du cache de Cloudflare, \"DYNAMIC\" signifie que la ressource n'est pas mise en cache.\n",
    "\n",
    "Cache-Control : Instructions pour la mise en cache de la réponse. \"public, max-age=0\" signifie que la réponse peut être mise en cache mais doit être revalidée à chaque fois.\n",
    "\n",
    "ETag: Un identifiant unique pour la version particulière du contenu retourné est utilisé pour la gestion du cache.\n",
    "\n",
    "Last-Modified: La date et l'heure de la dernière modification du contenu.\n",
    "\n",
    "Vary: Indique que le contenu retourné peut varier en fonction de l'en-tête \"Accept-Encoding\", qui est lié à la compression du contenu.\n",
    "\n",
    "rndr-id: Un identifiant unique attribué au serveur ou au service qui a traité la requête\n",
    "\n",
    "x-powered-by: Indique le logiciel ou le framework utilisé par le serveur, ici \"Express\" (un framework pour applications web en Node.js).\n",
    "\n",
    "x-render-origin-server: Informations spécifiques au serveur qui a généré la réponse.\n",
    "\n",
    "Server: Le logiciel serveur utilisé, ici \"cloudflare\", indiquant que la réponse a transité par le réseau Cloudflare."
   ]
  },
  {
   "cell_type": "markdown",
   "metadata": {},
   "source": [
    "<div style=\"background-color:#def;padding:5px 10px;margin-top: 5px;border-radius:3px\">\n",
    "__[1.4]__ - Observer maintenant les entêtes obtenues en accédant à <a href=\"http://dmolinarius.github.io/demofiles/mod-95/be-http/hello.html\">hello.html</a>.<br>\n",
    "Il s'agit d'un document ayant le même contenu que le précédent, mais hébergé sur un serveur différent.\n",
    "</div>"
   ]
  },
  {
   "cell_type": "code",
   "execution_count": 9,
   "metadata": {
    "collapsed": false,
    "jupyter": {
     "outputs_hidden": false
    },
    "util.bundle": "correcteur"
   },
   "outputs": [
    {
     "data": {
      "text/html": [
       "<code style='font-family:Consolas,monospace; display:block; margin-top: 5px; border-bottom:1px solid #ccc'><span style='font-weight:bold;color:#008'>200</span> - OK</code>"
      ],
      "text/plain": [
       "<IPython.core.display.HTML object>"
      ]
     },
     "metadata": {},
     "output_type": "display_data"
    },
    {
     "data": {
      "text/html": [
       "<code style='display:block; margin-top:-0.7em; font-family:Consolas,monospace'><b>Connection:</b> keep-alive</code>"
      ],
      "text/plain": [
       "<IPython.core.display.HTML object>"
      ]
     },
     "metadata": {},
     "output_type": "display_data"
    },
    {
     "data": {
      "text/html": [
       "<code style='display:block; margin-top:-0.7em; font-family:Consolas,monospace'><b>Content-Length:</b> 181</code>"
      ],
      "text/plain": [
       "<IPython.core.display.HTML object>"
      ]
     },
     "metadata": {},
     "output_type": "display_data"
    },
    {
     "data": {
      "text/html": [
       "<code style='display:block; margin-top:-0.7em; font-family:Consolas,monospace'><b>Server:</b> GitHub.com</code>"
      ],
      "text/plain": [
       "<IPython.core.display.HTML object>"
      ]
     },
     "metadata": {},
     "output_type": "display_data"
    },
    {
     "data": {
      "text/html": [
       "<code style='display:block; margin-top:-0.7em; font-family:Consolas,monospace'><b>Content-Type:</b> text/html; charset=utf-8</code>"
      ],
      "text/plain": [
       "<IPython.core.display.HTML object>"
      ]
     },
     "metadata": {},
     "output_type": "display_data"
    },
    {
     "data": {
      "text/html": [
       "<code style='display:block; margin-top:-0.7em; font-family:Consolas,monospace'><b>permissions-policy:</b> interest-cohort=()</code>"
      ],
      "text/plain": [
       "<IPython.core.display.HTML object>"
      ]
     },
     "metadata": {},
     "output_type": "display_data"
    },
    {
     "data": {
      "text/html": [
       "<code style='display:block; margin-top:-0.7em; font-family:Consolas,monospace'><b>Last-Modified:</b> Fri, 24 Nov 2023 17:35:57 GMT</code>"
      ],
      "text/plain": [
       "<IPython.core.display.HTML object>"
      ]
     },
     "metadata": {},
     "output_type": "display_data"
    },
    {
     "data": {
      "text/html": [
       "<code style='display:block; margin-top:-0.7em; font-family:Consolas,monospace'><b>Access-Control-Allow-Origin:</b> *</code>"
      ],
      "text/plain": [
       "<IPython.core.display.HTML object>"
      ]
     },
     "metadata": {},
     "output_type": "display_data"
    },
    {
     "data": {
      "text/html": [
       "<code style='display:block; margin-top:-0.7em; font-family:Consolas,monospace'><b>ETag:</b> \"6560defd-b5\"</code>"
      ],
      "text/plain": [
       "<IPython.core.display.HTML object>"
      ]
     },
     "metadata": {},
     "output_type": "display_data"
    },
    {
     "data": {
      "text/html": [
       "<code style='display:block; margin-top:-0.7em; font-family:Consolas,monospace'><b>expires:</b> Mon, 11 Dec 2023 13:31:07 GMT</code>"
      ],
      "text/plain": [
       "<IPython.core.display.HTML object>"
      ]
     },
     "metadata": {},
     "output_type": "display_data"
    },
    {
     "data": {
      "text/html": [
       "<code style='display:block; margin-top:-0.7em; font-family:Consolas,monospace'><b>Cache-Control:</b> max-age=600</code>"
      ],
      "text/plain": [
       "<IPython.core.display.HTML object>"
      ]
     },
     "metadata": {},
     "output_type": "display_data"
    },
    {
     "data": {
      "text/html": [
       "<code style='display:block; margin-top:-0.7em; font-family:Consolas,monospace'><b>x-proxy-cache:</b> MISS</code>"
      ],
      "text/plain": [
       "<IPython.core.display.HTML object>"
      ]
     },
     "metadata": {},
     "output_type": "display_data"
    },
    {
     "data": {
      "text/html": [
       "<code style='display:block; margin-top:-0.7em; font-family:Consolas,monospace'><b>X-GitHub-Request-Id:</b> 9392:4EAC1:4DC511E:4F315C6:65770CC1</code>"
      ],
      "text/plain": [
       "<IPython.core.display.HTML object>"
      ]
     },
     "metadata": {},
     "output_type": "display_data"
    },
    {
     "data": {
      "text/html": [
       "<code style='display:block; margin-top:-0.7em; font-family:Consolas,monospace'><b>Accept-Ranges:</b> bytes</code>"
      ],
      "text/plain": [
       "<IPython.core.display.HTML object>"
      ]
     },
     "metadata": {},
     "output_type": "display_data"
    },
    {
     "data": {
      "text/html": [
       "<code style='display:block; margin-top:-0.7em; font-family:Consolas,monospace'><b>Date:</b> Mon, 11 Dec 2023 13:21:07 GMT</code>"
      ],
      "text/plain": [
       "<IPython.core.display.HTML object>"
      ]
     },
     "metadata": {},
     "output_type": "display_data"
    },
    {
     "data": {
      "text/html": [
       "<code style='display:block; margin-top:-0.7em; font-family:Consolas,monospace'><b>Via:</b> 1.1 varnish</code>"
      ],
      "text/plain": [
       "<IPython.core.display.HTML object>"
      ]
     },
     "metadata": {},
     "output_type": "display_data"
    },
    {
     "data": {
      "text/html": [
       "<code style='display:block; margin-top:-0.7em; font-family:Consolas,monospace'><b>Age:</b> 0</code>"
      ],
      "text/plain": [
       "<IPython.core.display.HTML object>"
      ]
     },
     "metadata": {},
     "output_type": "display_data"
    },
    {
     "data": {
      "text/html": [
       "<code style='display:block; margin-top:-0.7em; font-family:Consolas,monospace'><b>X-Served-By:</b> cache-fra-eddf8230073-FRA</code>"
      ],
      "text/plain": [
       "<IPython.core.display.HTML object>"
      ]
     },
     "metadata": {},
     "output_type": "display_data"
    },
    {
     "data": {
      "text/html": [
       "<code style='display:block; margin-top:-0.7em; font-family:Consolas,monospace'><b>X-Cache:</b> MISS</code>"
      ],
      "text/plain": [
       "<IPython.core.display.HTML object>"
      ]
     },
     "metadata": {},
     "output_type": "display_data"
    },
    {
     "data": {
      "text/html": [
       "<code style='display:block; margin-top:-0.7em; font-family:Consolas,monospace'><b>X-Cache-Hits:</b> 0</code>"
      ],
      "text/plain": [
       "<IPython.core.display.HTML object>"
      ]
     },
     "metadata": {},
     "output_type": "display_data"
    },
    {
     "data": {
      "text/html": [
       "<code style='display:block; margin-top:-0.7em; font-family:Consolas,monospace'><b>X-Timer:</b> S1702300867.332007,VS0,VE112</code>"
      ],
      "text/plain": [
       "<IPython.core.display.HTML object>"
      ]
     },
     "metadata": {},
     "output_type": "display_data"
    },
    {
     "data": {
      "text/html": [
       "<code style='display:block; margin-top:-0.7em; font-family:Consolas,monospace'><b>Vary:</b> Accept-Encoding</code>"
      ],
      "text/plain": [
       "<IPython.core.display.HTML object>"
      ]
     },
     "metadata": {},
     "output_type": "display_data"
    },
    {
     "data": {
      "text/html": [
       "<code style='display:block; margin-top:-0.7em; font-family:Consolas,monospace'><b>X-Fastly-Request-ID:</b> 72a507847ad7a7293969d270167737aa28d286c3</code>"
      ],
      "text/plain": [
       "<IPython.core.display.HTML object>"
      ]
     },
     "metadata": {},
     "output_type": "display_data"
    }
   ],
   "source": [
    "https_request('HEAD','dmolinarius.github.io','/demofiles/mod-95/be-http/hello.html')"
   ]
  },
  {
   "cell_type": "markdown",
   "metadata": {},
   "source": [
    "<div style=\"background-color:#def;padding:5px 10px;margin-top: 5px;border-radius:3px\">\n",
    "__[1.5]__ - Expliquer à quoi servent chacune des nouvelles entêtes de la réponse que vous obtenez.<br>\n",
    "A quoi correspondent les entêtes dont le nom commence par X- ?\n",
    "</div>\n",
    "<!-- cf. https://stackoverflow.com/questions/3561381/custom-http-headers-naming-conventions -->"
   ]
  },
  {
   "cell_type": "markdown",
   "metadata": {},
   "source": [
    "Content-Length: La longueur du contenu de la réponse en octets, ici 181 octets.\n",
    "\n",
    "permissions-policy: Une directive de sécurité qui permet au serveur de contrôler les fonctionnalités du contenu. \"interest-cohort=()\" désactive une fonctionnalité de suivi utilisateur spécifique.\n",
    "\n",
    "Access-Control-Allow-Origin: Spécifie les origines autorisées à accéder à la ressource. \"*\" signifie que n'importe quelle origine peut y accéder.\n",
    "\n",
    "expires: La date et l'heure d'expiration du contenu dans le cache.\n",
    "\n",
    "x-proxy-cache: Indique le statut du cache sur un proxy intermédiaire, \"MISS\" signifie que la réponse n'était pas dans le cache du proxy.\n",
    "\n",
    "X-GitHub-Request-Id: Un identifiant unique pour la requête spécifique, utilisé pour le débogage et le suivi chez GitHub.\n",
    "\n",
    "Accept-Ranges: Indique que le serveur accepte des requêtes partielles pour ce contenu, ici \"bytes\" signifie que des plages d'octets peuvent être demandées.\n",
    "\n",
    "Via: Indique que la requête a transité par un serveur intermédiaire, ici un serveur Varnish Cache.\n",
    "\n",
    "Age: Le temps en secondes depuis la mise en cache de la réponse, ici 0 signifiant qu'elle vient d'être mise en cache.\n",
    "\n",
    "X-Served-By: Identifie le serveur de cache spécifique qui a traité la requête.\n",
    "\n",
    "X-Cache: Le statut du cache sur le serveur de cache, \"MISS\" indique que la réponse n'était pas dans le cache.\n",
    "\n",
    "X-Cache-Hits: Le nombre de fois que le contenu a été servi depuis le cache, ici 0.\n",
    "\n",
    "X-Timer: Des informations de chronométrage pour la requête, utiles pour le débogage.\n",
    "\n",
    "Vary: Indique que le contenu retourné peut varier en fonction de l'en-tête \"Accept-Encoding\", qui est lié à la compression du contenu."
   ]
  },
  {
   "cell_type": "markdown",
   "metadata": {},
   "source": [
    "On peut d'ailleurs noter que les en-têtes dont le nom commence par \"X-\" sont des en-têtes personnalisés ou non standard. Ils ne font pas partie de la spécification officielle des en-têtes HTTP."
   ]
  },
  {
   "cell_type": "markdown",
   "metadata": {},
   "source": [
    "<h4 style=\"font-size:150%;color:#06a;margin-bottom:1.33em;border-top:3px solid #7fb2d4; padding-top:0.5em\">2. Divers types de ressources.</h4>\n",
    "\n",
    "<div style=\"background-color:#def;padding:5px 10px;margin-top: 5px;border-radius:3px\">\n",
    "__[2.1]__ - Effectuer maintenant une requête vers la ressource\n",
    "<a href=\"https://mod95-be3.onrender.com/hello.txt\">hello.txt</a> et observer les entêtes obtenues.<br>\n",
    "Comparer les codes source des deux documents, puis expliciter l'ensemble des similitudes et des différences avec les entêtes correspondant à\n",
    "<a href=\"https://mod95-be3.onrender.com/hello.html\">hello.html</a>.\n",
    "</div>"
   ]
  },
  {
   "cell_type": "code",
   "execution_count": 5,
   "metadata": {
    "collapsed": false,
    "jupyter": {
     "outputs_hidden": false
    },
    "util.bundle": "correcteur"
   },
   "outputs": [
    {
     "data": {
      "text/html": [
       "<code style='font-family:Consolas,monospace; display:block; margin-top: 5px; border-bottom:1px solid #ccc'><span style='font-weight:bold;color:#008'>200</span> - OK</code>"
      ],
      "text/plain": [
       "<IPython.core.display.HTML object>"
      ]
     },
     "metadata": {},
     "output_type": "display_data"
    },
    {
     "data": {
      "text/html": [
       "<code style='display:block; margin-top:-0.7em; font-family:Consolas,monospace'><b>Date:</b> Mon, 11 Dec 2023 13:54:06 GMT</code>"
      ],
      "text/plain": [
       "<IPython.core.display.HTML object>"
      ]
     },
     "metadata": {},
     "output_type": "display_data"
    },
    {
     "data": {
      "text/html": [
       "<code style='display:block; margin-top:-0.7em; font-family:Consolas,monospace'><b>Content-Type:</b> text/plain; charset=UTF-8</code>"
      ],
      "text/plain": [
       "<IPython.core.display.HTML object>"
      ]
     },
     "metadata": {},
     "output_type": "display_data"
    },
    {
     "data": {
      "text/html": [
       "<code style='display:block; margin-top:-0.7em; font-family:Consolas,monospace'><b>Transfer-Encoding:</b> chunked</code>"
      ],
      "text/plain": [
       "<IPython.core.display.HTML object>"
      ]
     },
     "metadata": {},
     "output_type": "display_data"
    },
    {
     "data": {
      "text/html": [
       "<code style='display:block; margin-top:-0.7em; font-family:Consolas,monospace'><b>Connection:</b> keep-alive</code>"
      ],
      "text/plain": [
       "<IPython.core.display.HTML object>"
      ]
     },
     "metadata": {},
     "output_type": "display_data"
    },
    {
     "data": {
      "text/html": [
       "<code style='display:block; margin-top:-0.7em; font-family:Consolas,monospace'><b>CF-Ray:</b> 833e37b4f8c53633-FRA</code>"
      ],
      "text/plain": [
       "<IPython.core.display.HTML object>"
      ]
     },
     "metadata": {},
     "output_type": "display_data"
    },
    {
     "data": {
      "text/html": [
       "<code style='display:block; margin-top:-0.7em; font-family:Consolas,monospace'><b>CF-Cache-Status:</b> DYNAMIC</code>"
      ],
      "text/plain": [
       "<IPython.core.display.HTML object>"
      ]
     },
     "metadata": {},
     "output_type": "display_data"
    },
    {
     "data": {
      "text/html": [
       "<code style='display:block; margin-top:-0.7em; font-family:Consolas,monospace'><b>Cache-Control:</b> public, max-age=0</code>"
      ],
      "text/plain": [
       "<IPython.core.display.HTML object>"
      ]
     },
     "metadata": {},
     "output_type": "display_data"
    },
    {
     "data": {
      "text/html": [
       "<code style='display:block; margin-top:-0.7em; font-family:Consolas,monospace'><b>ETag:</b> W/\"b6-187dd542520\"</code>"
      ],
      "text/plain": [
       "<IPython.core.display.HTML object>"
      ]
     },
     "metadata": {},
     "output_type": "display_data"
    },
    {
     "data": {
      "text/html": [
       "<code style='display:block; margin-top:-0.7em; font-family:Consolas,monospace'><b>Last-Modified:</b> Tue, 02 May 2023 16:38:12 GMT</code>"
      ],
      "text/plain": [
       "<IPython.core.display.HTML object>"
      ]
     },
     "metadata": {},
     "output_type": "display_data"
    },
    {
     "data": {
      "text/html": [
       "<code style='display:block; margin-top:-0.7em; font-family:Consolas,monospace'><b>Vary:</b> Accept-Encoding</code>"
      ],
      "text/plain": [
       "<IPython.core.display.HTML object>"
      ]
     },
     "metadata": {},
     "output_type": "display_data"
    },
    {
     "data": {
      "text/html": [
       "<code style='display:block; margin-top:-0.7em; font-family:Consolas,monospace'><b>rndr-id:</b> 5278430b-3c24-44b4</code>"
      ],
      "text/plain": [
       "<IPython.core.display.HTML object>"
      ]
     },
     "metadata": {},
     "output_type": "display_data"
    },
    {
     "data": {
      "text/html": [
       "<code style='display:block; margin-top:-0.7em; font-family:Consolas,monospace'><b>x-powered-by:</b> Express</code>"
      ],
      "text/plain": [
       "<IPython.core.display.HTML object>"
      ]
     },
     "metadata": {},
     "output_type": "display_data"
    },
    {
     "data": {
      "text/html": [
       "<code style='display:block; margin-top:-0.7em; font-family:Consolas,monospace'><b>x-render-origin-server:</b> Render</code>"
      ],
      "text/plain": [
       "<IPython.core.display.HTML object>"
      ]
     },
     "metadata": {},
     "output_type": "display_data"
    },
    {
     "data": {
      "text/html": [
       "<code style='display:block; margin-top:-0.7em; font-family:Consolas,monospace'><b>Server:</b> cloudflare</code>"
      ],
      "text/plain": [
       "<IPython.core.display.HTML object>"
      ]
     },
     "metadata": {},
     "output_type": "display_data"
    },
    {
     "data": {
      "text/html": [
       "<code style='display:block; margin-top:-0.7em; font-family:Consolas,monospace'><b>alt-svc:</b> h3=\":443\"; ma=86400</code>"
      ],
      "text/plain": [
       "<IPython.core.display.HTML object>"
      ]
     },
     "metadata": {},
     "output_type": "display_data"
    },
    {
     "data": {
      "text/html": [
       "<pre style='font-family:Consolas,monospace; padding:5px; border: 1px solid #ccc; border-radius:5px; box-shadow: 5px 5px 5px #ccc; margin:5px 0 10px 0; display: inline-block; min-width: 50%'>&lt;!DOCTYPE html&gt;\n",
       "&lt;html lang=&quot;fr&quot;&gt;\n",
       "&lt;meta charset=&quot;utf-8&quot;&gt;\n",
       "&lt;title&gt;Exemple HTML&lt;/title&gt;\n",
       "&lt;h1 style=&quot;margin:0 0 0.33em&quot;&gt;Exemple&lt;/h1&gt;\n",
       "&lt;div&gt;Hello, ceci est un exemple de document HTML&lt;/div&gt;\n",
       "</pre>"
      ],
      "text/plain": [
       "<IPython.core.display.HTML object>"
      ]
     },
     "metadata": {},
     "output_type": "display_data"
    },
    {
     "data": {
      "text/html": [
       "<code style='font-family:Consolas,monospace; display:block; margin-top: 5px; border-bottom:1px solid #ccc'><span style='font-weight:bold;color:#008'>200</span> - OK</code>"
      ],
      "text/plain": [
       "<IPython.core.display.HTML object>"
      ]
     },
     "metadata": {},
     "output_type": "display_data"
    },
    {
     "data": {
      "text/html": [
       "<code style='display:block; margin-top:-0.7em; font-family:Consolas,monospace'><b>Date:</b> Mon, 11 Dec 2023 13:54:06 GMT</code>"
      ],
      "text/plain": [
       "<IPython.core.display.HTML object>"
      ]
     },
     "metadata": {},
     "output_type": "display_data"
    },
    {
     "data": {
      "text/html": [
       "<code style='display:block; margin-top:-0.7em; font-family:Consolas,monospace'><b>Content-Type:</b> text/html; charset=UTF-8</code>"
      ],
      "text/plain": [
       "<IPython.core.display.HTML object>"
      ]
     },
     "metadata": {},
     "output_type": "display_data"
    },
    {
     "data": {
      "text/html": [
       "<code style='display:block; margin-top:-0.7em; font-family:Consolas,monospace'><b>Transfer-Encoding:</b> chunked</code>"
      ],
      "text/plain": [
       "<IPython.core.display.HTML object>"
      ]
     },
     "metadata": {},
     "output_type": "display_data"
    },
    {
     "data": {
      "text/html": [
       "<code style='display:block; margin-top:-0.7em; font-family:Consolas,monospace'><b>Connection:</b> keep-alive</code>"
      ],
      "text/plain": [
       "<IPython.core.display.HTML object>"
      ]
     },
     "metadata": {},
     "output_type": "display_data"
    },
    {
     "data": {
      "text/html": [
       "<code style='display:block; margin-top:-0.7em; font-family:Consolas,monospace'><b>CF-Ray:</b> 833e37b7ed4f922f-FRA</code>"
      ],
      "text/plain": [
       "<IPython.core.display.HTML object>"
      ]
     },
     "metadata": {},
     "output_type": "display_data"
    },
    {
     "data": {
      "text/html": [
       "<code style='display:block; margin-top:-0.7em; font-family:Consolas,monospace'><b>CF-Cache-Status:</b> DYNAMIC</code>"
      ],
      "text/plain": [
       "<IPython.core.display.HTML object>"
      ]
     },
     "metadata": {},
     "output_type": "display_data"
    },
    {
     "data": {
      "text/html": [
       "<code style='display:block; margin-top:-0.7em; font-family:Consolas,monospace'><b>Cache-Control:</b> public, max-age=0</code>"
      ],
      "text/plain": [
       "<IPython.core.display.HTML object>"
      ]
     },
     "metadata": {},
     "output_type": "display_data"
    },
    {
     "data": {
      "text/html": [
       "<code style='display:block; margin-top:-0.7em; font-family:Consolas,monospace'><b>ETag:</b> W/\"b6-187dd542520\"</code>"
      ],
      "text/plain": [
       "<IPython.core.display.HTML object>"
      ]
     },
     "metadata": {},
     "output_type": "display_data"
    },
    {
     "data": {
      "text/html": [
       "<code style='display:block; margin-top:-0.7em; font-family:Consolas,monospace'><b>Last-Modified:</b> Tue, 02 May 2023 16:38:12 GMT</code>"
      ],
      "text/plain": [
       "<IPython.core.display.HTML object>"
      ]
     },
     "metadata": {},
     "output_type": "display_data"
    },
    {
     "data": {
      "text/html": [
       "<code style='display:block; margin-top:-0.7em; font-family:Consolas,monospace'><b>Vary:</b> Accept-Encoding</code>"
      ],
      "text/plain": [
       "<IPython.core.display.HTML object>"
      ]
     },
     "metadata": {},
     "output_type": "display_data"
    },
    {
     "data": {
      "text/html": [
       "<code style='display:block; margin-top:-0.7em; font-family:Consolas,monospace'><b>rndr-id:</b> e9b86c99-2ef5-4a44</code>"
      ],
      "text/plain": [
       "<IPython.core.display.HTML object>"
      ]
     },
     "metadata": {},
     "output_type": "display_data"
    },
    {
     "data": {
      "text/html": [
       "<code style='display:block; margin-top:-0.7em; font-family:Consolas,monospace'><b>x-powered-by:</b> Express</code>"
      ],
      "text/plain": [
       "<IPython.core.display.HTML object>"
      ]
     },
     "metadata": {},
     "output_type": "display_data"
    },
    {
     "data": {
      "text/html": [
       "<code style='display:block; margin-top:-0.7em; font-family:Consolas,monospace'><b>x-render-origin-server:</b> Render</code>"
      ],
      "text/plain": [
       "<IPython.core.display.HTML object>"
      ]
     },
     "metadata": {},
     "output_type": "display_data"
    },
    {
     "data": {
      "text/html": [
       "<code style='display:block; margin-top:-0.7em; font-family:Consolas,monospace'><b>Server:</b> cloudflare</code>"
      ],
      "text/plain": [
       "<IPython.core.display.HTML object>"
      ]
     },
     "metadata": {},
     "output_type": "display_data"
    },
    {
     "data": {
      "text/html": [
       "<code style='display:block; margin-top:-0.7em; font-family:Consolas,monospace'><b>alt-svc:</b> h3=\":443\"; ma=86400</code>"
      ],
      "text/plain": [
       "<IPython.core.display.HTML object>"
      ]
     },
     "metadata": {},
     "output_type": "display_data"
    },
    {
     "data": {
      "text/html": [
       "<div style='padding:5px; border: 1px solid #ccc; border-radius:5px; box-shadow: 5px 5px 5px #ccc; margin:5px 0 10px 0; display: inline-block; min-width: 50%'><!DOCTYPE html>\n",
       "<html lang=\"fr\">\n",
       "<meta charset=\"utf-8\">\n",
       "<title>Exemple HTML</title>\n",
       "<h1 style=\"margin:0 0 0.33em\">Exemple</h1>\n",
       "<div>Hello, ceci est un exemple de document HTML</div>\n",
       "</div>"
      ],
      "text/plain": [
       "<IPython.core.display.HTML object>"
      ]
     },
     "metadata": {},
     "output_type": "display_data"
    }
   ],
   "source": [
    "https_request('GET','mod95-be3.onrender.com','/hello.txt')\n",
    "\n",
    "https_request('GET','mod95-be3.onrender.com','/hello.html')"
   ]
  },
  {
   "cell_type": "markdown",
   "metadata": {},
   "source": [
    "La différence majeure est le Content-Type: hello.txt est indiqué comme \"text/plain; charset=UTF-8\", mais le contenu reçu est en fait du HTML. Cela pourrait être une erreur de serveur ou une mauvaise configuration. Dans le second cas, il est indqué comme text/html, la aucun problème.\n",
    "\n",
    "Une autre différence est le rndr-id. Les autres attributs sont similaires entre les deux ressoruces."
   ]
  },
  {
   "cell_type": "markdown",
   "metadata": {},
   "source": [
    "<div style=\"background-color:#def;padding:5px 10px;margin-top: 5px;border-radius:3px\">\n",
    "__[2.2]__ - Visualiser ces deux ressources à l'aide d'un navigateur et noter la différence (s'il n'y en a pas, changer de navigateur). Commenter.\n",
    "</div>"
   ]
  },
  {
   "cell_type": "markdown",
   "metadata": {},
   "source": [
    "En accédant à l'URL https://mod95-be3.onrender.com/hello.txton obtient le \"code\" html de la page hello avec les balises correponsant au head du html, le doctype meta charset etc.. et le body du code html. \n",
    "\n",
    "En accédant à l'URL https://mod95-be3.onrender.com/hello.html on obtient la page hello mais cette fois ci avec le style correspondant et en voyant uniquement le body du html (sans les balises biensur)."
   ]
  },
  {
   "cell_type": "markdown",
   "metadata": {},
   "source": [
    "La différence majeure est dans le Content-Type et le Transfer-Encoding. Il est surprenant que hello.txt ait un en-tête indiquant \"text/plain\" alors que le contenu est clairement du HTML. Cela suggère une incohérence entre l'en-tête et le contenu réel d'où le fait qu'on observe un code \"brut\"."
   ]
  },
  {
   "cell_type": "markdown",
   "metadata": {},
   "source": [
    "<div style=\"background-color:#def;padding:5px 10px;margin-top: 5px;border-radius:3px\">\n",
    "__[2.3]__ - Effectuer les requêtes permettant d'obtenir les ressources\n",
    "<a href=\"https://mod95-be3.onrender.com/file1.html\">file1.html</a>,\n",
    "<a href=\"https://mod95-be3.onrender.com/file2.html\">file2.html</a>,\n",
    "<a href=\"https://mod95-be3.onrender.com/file3.html\">file3.html</a>,\n",
    " et essayez de les ouvrir directement dans votre navigateur.<br>\n",
    "Commenter ce que vous observez et les réponses obtenues, en indiquant notamment quel est le type respectif de chacune de ces ressources et comment les navigateurs les affichent. Préciser comment fait le navigateur pour savoir comment afficher chacune de ces ressources, et donner votre avis sur la pertinence de la démarche qui consisterait à essayer d'inférer le type d'une ressource à partir de son URL."
   ]
  },
  {
   "cell_type": "code",
   "execution_count": 6,
   "metadata": {
    "collapsed": false,
    "jupyter": {
     "outputs_hidden": false
    },
    "util.bundle": "correcteur"
   },
   "outputs": [
    {
     "data": {
      "text/html": [
       "<code style='font-family:Consolas,monospace; display:block; margin-top: 5px; border-bottom:1px solid #ccc'><span style='font-weight:bold;color:#008'>200</span> - OK</code>"
      ],
      "text/plain": [
       "<IPython.core.display.HTML object>"
      ]
     },
     "metadata": {},
     "output_type": "display_data"
    },
    {
     "data": {
      "text/html": [
       "<code style='display:block; margin-top:-0.7em; font-family:Consolas,monospace'><b>Date:</b> Mon, 11 Dec 2023 13:57:13 GMT</code>"
      ],
      "text/plain": [
       "<IPython.core.display.HTML object>"
      ]
     },
     "metadata": {},
     "output_type": "display_data"
    },
    {
     "data": {
      "text/html": [
       "<code style='display:block; margin-top:-0.7em; font-family:Consolas,monospace'><b>Content-Type:</b> image/jpeg</code>"
      ],
      "text/plain": [
       "<IPython.core.display.HTML object>"
      ]
     },
     "metadata": {},
     "output_type": "display_data"
    },
    {
     "data": {
      "text/html": [
       "<code style='display:block; margin-top:-0.7em; font-family:Consolas,monospace'><b>Content-Length:</b> 3053</code>"
      ],
      "text/plain": [
       "<IPython.core.display.HTML object>"
      ]
     },
     "metadata": {},
     "output_type": "display_data"
    },
    {
     "data": {
      "text/html": [
       "<code style='display:block; margin-top:-0.7em; font-family:Consolas,monospace'><b>Connection:</b> keep-alive</code>"
      ],
      "text/plain": [
       "<IPython.core.display.HTML object>"
      ]
     },
     "metadata": {},
     "output_type": "display_data"
    },
    {
     "data": {
      "text/html": [
       "<code style='display:block; margin-top:-0.7em; font-family:Consolas,monospace'><b>CF-Ray:</b> 833e3c449d29bbc2-FRA</code>"
      ],
      "text/plain": [
       "<IPython.core.display.HTML object>"
      ]
     },
     "metadata": {},
     "output_type": "display_data"
    },
    {
     "data": {
      "text/html": [
       "<code style='display:block; margin-top:-0.7em; font-family:Consolas,monospace'><b>CF-Cache-Status:</b> DYNAMIC</code>"
      ],
      "text/plain": [
       "<IPython.core.display.HTML object>"
      ]
     },
     "metadata": {},
     "output_type": "display_data"
    },
    {
     "data": {
      "text/html": [
       "<code style='display:block; margin-top:-0.7em; font-family:Consolas,monospace'><b>Last-Modified:</b> Tue, 02 May 2023 16:38:12 GMT</code>"
      ],
      "text/plain": [
       "<IPython.core.display.HTML object>"
      ]
     },
     "metadata": {},
     "output_type": "display_data"
    },
    {
     "data": {
      "text/html": [
       "<code style='display:block; margin-top:-0.7em; font-family:Consolas,monospace'><b>rndr-id:</b> 8dfa3f1d-859e-4ee8</code>"
      ],
      "text/plain": [
       "<IPython.core.display.HTML object>"
      ]
     },
     "metadata": {},
     "output_type": "display_data"
    },
    {
     "data": {
      "text/html": [
       "<code style='display:block; margin-top:-0.7em; font-family:Consolas,monospace'><b>x-powered-by:</b> Express</code>"
      ],
      "text/plain": [
       "<IPython.core.display.HTML object>"
      ]
     },
     "metadata": {},
     "output_type": "display_data"
    },
    {
     "data": {
      "text/html": [
       "<code style='display:block; margin-top:-0.7em; font-family:Consolas,monospace'><b>x-render-origin-server:</b> Render</code>"
      ],
      "text/plain": [
       "<IPython.core.display.HTML object>"
      ]
     },
     "metadata": {},
     "output_type": "display_data"
    },
    {
     "data": {
      "text/html": [
       "<code style='display:block; margin-top:-0.7em; font-family:Consolas,monospace'><b>Vary:</b> Accept-Encoding</code>"
      ],
      "text/plain": [
       "<IPython.core.display.HTML object>"
      ]
     },
     "metadata": {},
     "output_type": "display_data"
    },
    {
     "data": {
      "text/html": [
       "<code style='display:block; margin-top:-0.7em; font-family:Consolas,monospace'><b>Server:</b> cloudflare</code>"
      ],
      "text/plain": [
       "<IPython.core.display.HTML object>"
      ]
     },
     "metadata": {},
     "output_type": "display_data"
    },
    {
     "data": {
      "text/html": [
       "<code style='display:block; margin-top:-0.7em; font-family:Consolas,monospace'><b>alt-svc:</b> h3=\":443\"; ma=86400</code>"
      ],
      "text/plain": [
       "<IPython.core.display.HTML object>"
      ]
     },
     "metadata": {},
     "output_type": "display_data"
    },
    {
     "data": {
      "image/jpeg": "[encoded data removed]",
      "text/plain": [
       "<IPython.core.display.Image object>"
      ]
     },
     "metadata": {},
     "output_type": "display_data"
    }
   ],
   "source": [
    "https_request('GET','mod95-be3.onrender.com','/file1.html')"
   ]
  },
  {
   "cell_type": "code",
   "execution_count": 7,
   "metadata": {
    "collapsed": false,
    "jupyter": {
     "outputs_hidden": false
    },
    "util.bundle": "correcteur"
   },
   "outputs": [
    {
     "data": {
      "text/html": [
       "<code style='font-family:Consolas,monospace; display:block; margin-top: 5px; border-bottom:1px solid #ccc'><span style='font-weight:bold;color:#008'>200</span> - OK</code>"
      ],
      "text/plain": [
       "<IPython.core.display.HTML object>"
      ]
     },
     "metadata": {},
     "output_type": "display_data"
    },
    {
     "data": {
      "text/html": [
       "<code style='display:block; margin-top:-0.7em; font-family:Consolas,monospace'><b>Date:</b> Mon, 11 Dec 2023 13:57:27 GMT</code>"
      ],
      "text/plain": [
       "<IPython.core.display.HTML object>"
      ]
     },
     "metadata": {},
     "output_type": "display_data"
    },
    {
     "data": {
      "text/html": [
       "<code style='display:block; margin-top:-0.7em; font-family:Consolas,monospace'><b>Content-Type:</b> image/gif</code>"
      ],
      "text/plain": [
       "<IPython.core.display.HTML object>"
      ]
     },
     "metadata": {},
     "output_type": "display_data"
    },
    {
     "data": {
      "text/html": [
       "<code style='display:block; margin-top:-0.7em; font-family:Consolas,monospace'><b>Content-Length:</b> 1493</code>"
      ],
      "text/plain": [
       "<IPython.core.display.HTML object>"
      ]
     },
     "metadata": {},
     "output_type": "display_data"
    },
    {
     "data": {
      "text/html": [
       "<code style='display:block; margin-top:-0.7em; font-family:Consolas,monospace'><b>Connection:</b> keep-alive</code>"
      ],
      "text/plain": [
       "<IPython.core.display.HTML object>"
      ]
     },
     "metadata": {},
     "output_type": "display_data"
    },
    {
     "data": {
      "text/html": [
       "<code style='display:block; margin-top:-0.7em; font-family:Consolas,monospace'><b>CF-Ray:</b> 833e3c9ceb7936de-FRA</code>"
      ],
      "text/plain": [
       "<IPython.core.display.HTML object>"
      ]
     },
     "metadata": {},
     "output_type": "display_data"
    },
    {
     "data": {
      "text/html": [
       "<code style='display:block; margin-top:-0.7em; font-family:Consolas,monospace'><b>CF-Cache-Status:</b> DYNAMIC</code>"
      ],
      "text/plain": [
       "<IPython.core.display.HTML object>"
      ]
     },
     "metadata": {},
     "output_type": "display_data"
    },
    {
     "data": {
      "text/html": [
       "<code style='display:block; margin-top:-0.7em; font-family:Consolas,monospace'><b>Last-Modified:</b> Tue, 02 May 2023 16:38:12 GMT</code>"
      ],
      "text/plain": [
       "<IPython.core.display.HTML object>"
      ]
     },
     "metadata": {},
     "output_type": "display_data"
    },
    {
     "data": {
      "text/html": [
       "<code style='display:block; margin-top:-0.7em; font-family:Consolas,monospace'><b>rndr-id:</b> e036199b-fbe0-4cb7</code>"
      ],
      "text/plain": [
       "<IPython.core.display.HTML object>"
      ]
     },
     "metadata": {},
     "output_type": "display_data"
    },
    {
     "data": {
      "text/html": [
       "<code style='display:block; margin-top:-0.7em; font-family:Consolas,monospace'><b>x-powered-by:</b> Express</code>"
      ],
      "text/plain": [
       "<IPython.core.display.HTML object>"
      ]
     },
     "metadata": {},
     "output_type": "display_data"
    },
    {
     "data": {
      "text/html": [
       "<code style='display:block; margin-top:-0.7em; font-family:Consolas,monospace'><b>x-render-origin-server:</b> Render</code>"
      ],
      "text/plain": [
       "<IPython.core.display.HTML object>"
      ]
     },
     "metadata": {},
     "output_type": "display_data"
    },
    {
     "data": {
      "text/html": [
       "<code style='display:block; margin-top:-0.7em; font-family:Consolas,monospace'><b>Vary:</b> Accept-Encoding</code>"
      ],
      "text/plain": [
       "<IPython.core.display.HTML object>"
      ]
     },
     "metadata": {},
     "output_type": "display_data"
    },
    {
     "data": {
      "text/html": [
       "<code style='display:block; margin-top:-0.7em; font-family:Consolas,monospace'><b>Server:</b> cloudflare</code>"
      ],
      "text/plain": [
       "<IPython.core.display.HTML object>"
      ]
     },
     "metadata": {},
     "output_type": "display_data"
    },
    {
     "data": {
      "text/html": [
       "<code style='display:block; margin-top:-0.7em; font-family:Consolas,monospace'><b>alt-svc:</b> h3=\":443\"; ma=86400</code>"
      ],
      "text/plain": [
       "<IPython.core.display.HTML object>"
      ]
     },
     "metadata": {},
     "output_type": "display_data"
    },
    {
     "data": {
      "image/png": "[encoded data removed]",
      "text/plain": [
       "<IPython.core.display.Image object>"
      ]
     },
     "metadata": {},
     "output_type": "display_data"
    }
   ],
   "source": [
    "https_request('GET','mod95-be3.onrender.com','/file2.html')"
   ]
  },
  {
   "cell_type": "code",
   "execution_count": 8,
   "metadata": {
    "collapsed": false,
    "jupyter": {
     "outputs_hidden": false
    },
    "util.bundle": "correcteur"
   },
   "outputs": [
    {
     "data": {
      "text/html": [
       "<code style='font-family:Consolas,monospace; display:block; margin-top: 5px; border-bottom:1px solid #ccc'><span style='font-weight:bold;color:#008'>200</span> - OK</code>"
      ],
      "text/plain": [
       "<IPython.core.display.HTML object>"
      ]
     },
     "metadata": {},
     "output_type": "display_data"
    },
    {
     "data": {
      "text/html": [
       "<code style='display:block; margin-top:-0.7em; font-family:Consolas,monospace'><b>Date:</b> Mon, 11 Dec 2023 13:57:30 GMT</code>"
      ],
      "text/plain": [
       "<IPython.core.display.HTML object>"
      ]
     },
     "metadata": {},
     "output_type": "display_data"
    },
    {
     "data": {
      "text/html": [
       "<code style='display:block; margin-top:-0.7em; font-family:Consolas,monospace'><b>Content-Type:</b> application/pdf</code>"
      ],
      "text/plain": [
       "<IPython.core.display.HTML object>"
      ]
     },
     "metadata": {},
     "output_type": "display_data"
    },
    {
     "data": {
      "text/html": [
       "<code style='display:block; margin-top:-0.7em; font-family:Consolas,monospace'><b>Content-Length:</b> 25319</code>"
      ],
      "text/plain": [
       "<IPython.core.display.HTML object>"
      ]
     },
     "metadata": {},
     "output_type": "display_data"
    },
    {
     "data": {
      "text/html": [
       "<code style='display:block; margin-top:-0.7em; font-family:Consolas,monospace'><b>Connection:</b> keep-alive</code>"
      ],
      "text/plain": [
       "<IPython.core.display.HTML object>"
      ]
     },
     "metadata": {},
     "output_type": "display_data"
    },
    {
     "data": {
      "text/html": [
       "<code style='display:block; margin-top:-0.7em; font-family:Consolas,monospace'><b>CF-Ray:</b> 833e3caf4f4065c4-FRA</code>"
      ],
      "text/plain": [
       "<IPython.core.display.HTML object>"
      ]
     },
     "metadata": {},
     "output_type": "display_data"
    },
    {
     "data": {
      "text/html": [
       "<code style='display:block; margin-top:-0.7em; font-family:Consolas,monospace'><b>CF-Cache-Status:</b> DYNAMIC</code>"
      ],
      "text/plain": [
       "<IPython.core.display.HTML object>"
      ]
     },
     "metadata": {},
     "output_type": "display_data"
    },
    {
     "data": {
      "text/html": [
       "<code style='display:block; margin-top:-0.7em; font-family:Consolas,monospace'><b>Last-Modified:</b> Tue, 02 May 2023 16:38:12 GMT</code>"
      ],
      "text/plain": [
       "<IPython.core.display.HTML object>"
      ]
     },
     "metadata": {},
     "output_type": "display_data"
    },
    {
     "data": {
      "text/html": [
       "<code style='display:block; margin-top:-0.7em; font-family:Consolas,monospace'><b>rndr-id:</b> e00dcb3f-93d2-486b</code>"
      ],
      "text/plain": [
       "<IPython.core.display.HTML object>"
      ]
     },
     "metadata": {},
     "output_type": "display_data"
    },
    {
     "data": {
      "text/html": [
       "<code style='display:block; margin-top:-0.7em; font-family:Consolas,monospace'><b>x-powered-by:</b> Express</code>"
      ],
      "text/plain": [
       "<IPython.core.display.HTML object>"
      ]
     },
     "metadata": {},
     "output_type": "display_data"
    },
    {
     "data": {
      "text/html": [
       "<code style='display:block; margin-top:-0.7em; font-family:Consolas,monospace'><b>x-render-origin-server:</b> Render</code>"
      ],
      "text/plain": [
       "<IPython.core.display.HTML object>"
      ]
     },
     "metadata": {},
     "output_type": "display_data"
    },
    {
     "data": {
      "text/html": [
       "<code style='display:block; margin-top:-0.7em; font-family:Consolas,monospace'><b>Vary:</b> Accept-Encoding</code>"
      ],
      "text/plain": [
       "<IPython.core.display.HTML object>"
      ]
     },
     "metadata": {},
     "output_type": "display_data"
    },
    {
     "data": {
      "text/html": [
       "<code style='display:block; margin-top:-0.7em; font-family:Consolas,monospace'><b>Server:</b> cloudflare</code>"
      ],
      "text/plain": [
       "<IPython.core.display.HTML object>"
      ]
     },
     "metadata": {},
     "output_type": "display_data"
    },
    {
     "data": {
      "text/html": [
       "<code style='display:block; margin-top:-0.7em; font-family:Consolas,monospace'><b>alt-svc:</b> h3=\":443\"; ma=86400</code>"
      ],
      "text/plain": [
       "<IPython.core.display.HTML object>"
      ]
     },
     "metadata": {},
     "output_type": "display_data"
    },
    {
     "data": {
      "text/html": [
       "<i style=\"margin-top:-0.4em; font-family:Consolas,monospace; display:inline-block; margin-top:10px; color:#ccc\">Le notebook ne sait pas afficher le type de contenu application/pdf</i>"
      ],
      "text/plain": [
       "<IPython.core.display.HTML object>"
      ]
     },
     "metadata": {},
     "output_type": "display_data"
    }
   ],
   "source": [
    "https_request('GET','mod95-be3.onrender.com','/file3.html')"
   ]
  },
  {
   "cell_type": "markdown",
   "metadata": {},
   "source": [
    "### Les lignes issues de la requete GET : \n",
    "\n",
    "Les lignes différentes par rapport à lorsque la requete se faisait sur hello\n",
    "html sont : \n",
    "\n",
    "Content-Type: image/jpeg: Cette ligne indique que le type de contenu de la réponse est une image JPEG. C'est différent de hello.html, où le type de contenu était soit du texte brut (text/plain) soit du HTML (text/html).\n",
    "\n",
    "Content-Length: 3053: Cette ligne indique la longueur du contenu de la réponse en octets. Elle est spécifique à cette réponse car la taille du contenu (une image JPEG dans ce cas) est différente de celle des fichiers HTML précédemment mentionnés. La présence de cette ligne indique également que la réponse n'est pas transmise en morceaux (Transfer-Encoding: chunked).\n",
    "\n",
    "### Ouvrir les file sur navigateur \n",
    "\n",
    "en ouvrant file1.html sur navigateur on obtient une image jpeg où il y'a écrit \"Hello ceci est un exemple de jpeg\", en ouvrant file1.html on obtient bien un gif où il y'a écrit \"Hello ceci est un exemple de gif\" cependant en ouvrant file3.html on ouvre un pdf où il y'a écrit ceci est un exemple de PDF, ou sur certains navigateurs on télécharge ce-dit PDF. \n",
    "\n",
    "Cette expérience montre bien que le client est agnostique de l'extension du fichier requetté (.html ici). En effet le client se base sur le content-type dans le header pour définir quel est le type du fichier qu'il reçoit."
   ]
  },
  {
   "cell_type": "markdown",
   "metadata": {},
   "source": [
    "<h4 style=\"font-size:150%;color:#06A;margin-bottom:1.33em;border-top:3px solid #7fb2d4; padding-top:0.5em\">3. Requêtes conditionnelles.</h4>\n",
    "\n",
    "<div style=\"background-color:#def;padding:5px 10px;margin-top: 5px;border-radius:3px\">\n",
    "__[3.1]__ - Afin de faciliter la gestion des caches, HTTP/1.0 possède la directive Last-Modified, tandis que HTTP/1.1 a introduit la notion d'Etag. Noter la date de dernière modification et l'Etag de la ressource\n",
    "<a href=\"https://mod95-be3.onrender.com/hello.html\">hello.html</a>.\n",
    "</div>"
   ]
  },
  {
   "cell_type": "code",
   "execution_count": 18,
   "metadata": {
    "collapsed": false,
    "jupyter": {
     "outputs_hidden": false
    },
    "util.bundle": "correcteur"
   },
   "outputs": [
    {
     "data": {
      "text/html": [
       "<code style='font-family:Consolas,monospace; display:block; margin-top: 5px; border-bottom:1px solid #ccc'><span style='font-weight:bold;color:#008'>200</span> - OK</code>"
      ],
      "text/plain": [
       "<IPython.core.display.HTML object>"
      ]
     },
     "metadata": {},
     "output_type": "display_data"
    },
    {
     "data": {
      "text/html": [
       "<code style='display:block; margin-top:-0.7em; font-family:Consolas,monospace'><b>Date:</b> Mon, 11 Dec 2023 14:10:19 GMT</code>"
      ],
      "text/plain": [
       "<IPython.core.display.HTML object>"
      ]
     },
     "metadata": {},
     "output_type": "display_data"
    },
    {
     "data": {
      "text/html": [
       "<code style='display:block; margin-top:-0.7em; font-family:Consolas,monospace'><b>Content-Type:</b> text/html; charset=UTF-8</code>"
      ],
      "text/plain": [
       "<IPython.core.display.HTML object>"
      ]
     },
     "metadata": {},
     "output_type": "display_data"
    },
    {
     "data": {
      "text/html": [
       "<code style='display:block; margin-top:-0.7em; font-family:Consolas,monospace'><b>Transfer-Encoding:</b> chunked</code>"
      ],
      "text/plain": [
       "<IPython.core.display.HTML object>"
      ]
     },
     "metadata": {},
     "output_type": "display_data"
    },
    {
     "data": {
      "text/html": [
       "<code style='display:block; margin-top:-0.7em; font-family:Consolas,monospace'><b>Connection:</b> keep-alive</code>"
      ],
      "text/plain": [
       "<IPython.core.display.HTML object>"
      ]
     },
     "metadata": {},
     "output_type": "display_data"
    },
    {
     "data": {
      "text/html": [
       "<code style='display:block; margin-top:-0.7em; font-family:Consolas,monospace'><b>CF-Ray:</b> 833e4f7a09759010-FRA</code>"
      ],
      "text/plain": [
       "<IPython.core.display.HTML object>"
      ]
     },
     "metadata": {},
     "output_type": "display_data"
    },
    {
     "data": {
      "text/html": [
       "<code style='display:block; margin-top:-0.7em; font-family:Consolas,monospace'><b>CF-Cache-Status:</b> DYNAMIC</code>"
      ],
      "text/plain": [
       "<IPython.core.display.HTML object>"
      ]
     },
     "metadata": {},
     "output_type": "display_data"
    },
    {
     "data": {
      "text/html": [
       "<code style='display:block; margin-top:-0.7em; font-family:Consolas,monospace'><b>Cache-Control:</b> public, max-age=0</code>"
      ],
      "text/plain": [
       "<IPython.core.display.HTML object>"
      ]
     },
     "metadata": {},
     "output_type": "display_data"
    },
    {
     "data": {
      "text/html": [
       "<code style='display:block; margin-top:-0.7em; font-family:Consolas,monospace'><b>ETag:</b> W/\"b6-187dd542520\"</code>"
      ],
      "text/plain": [
       "<IPython.core.display.HTML object>"
      ]
     },
     "metadata": {},
     "output_type": "display_data"
    },
    {
     "data": {
      "text/html": [
       "<code style='display:block; margin-top:-0.7em; font-family:Consolas,monospace'><b>Last-Modified:</b> Tue, 02 May 2023 16:38:12 GMT</code>"
      ],
      "text/plain": [
       "<IPython.core.display.HTML object>"
      ]
     },
     "metadata": {},
     "output_type": "display_data"
    },
    {
     "data": {
      "text/html": [
       "<code style='display:block; margin-top:-0.7em; font-family:Consolas,monospace'><b>Vary:</b> Accept-Encoding</code>"
      ],
      "text/plain": [
       "<IPython.core.display.HTML object>"
      ]
     },
     "metadata": {},
     "output_type": "display_data"
    },
    {
     "data": {
      "text/html": [
       "<code style='display:block; margin-top:-0.7em; font-family:Consolas,monospace'><b>rndr-id:</b> 4d25eb64-9b6b-453f</code>"
      ],
      "text/plain": [
       "<IPython.core.display.HTML object>"
      ]
     },
     "metadata": {},
     "output_type": "display_data"
    },
    {
     "data": {
      "text/html": [
       "<code style='display:block; margin-top:-0.7em; font-family:Consolas,monospace'><b>x-powered-by:</b> Express</code>"
      ],
      "text/plain": [
       "<IPython.core.display.HTML object>"
      ]
     },
     "metadata": {},
     "output_type": "display_data"
    },
    {
     "data": {
      "text/html": [
       "<code style='display:block; margin-top:-0.7em; font-family:Consolas,monospace'><b>x-render-origin-server:</b> Render</code>"
      ],
      "text/plain": [
       "<IPython.core.display.HTML object>"
      ]
     },
     "metadata": {},
     "output_type": "display_data"
    },
    {
     "data": {
      "text/html": [
       "<code style='display:block; margin-top:-0.7em; font-family:Consolas,monospace'><b>Server:</b> cloudflare</code>"
      ],
      "text/plain": [
       "<IPython.core.display.HTML object>"
      ]
     },
     "metadata": {},
     "output_type": "display_data"
    },
    {
     "data": {
      "text/html": [
       "<code style='display:block; margin-top:-0.7em; font-family:Consolas,monospace'><b>alt-svc:</b> h3=\":443\"; ma=86400</code>"
      ],
      "text/plain": [
       "<IPython.core.display.HTML object>"
      ]
     },
     "metadata": {},
     "output_type": "display_data"
    },
    {
     "data": {
      "text/html": [
       "<div style='padding:5px; border: 1px solid #ccc; border-radius:5px; box-shadow: 5px 5px 5px #ccc; margin:5px 0 10px 0; display: inline-block; min-width: 50%'><!DOCTYPE html>\n",
       "<html lang=\"fr\">\n",
       "<meta charset=\"utf-8\">\n",
       "<title>Exemple HTML</title>\n",
       "<h1 style=\"margin:0 0 0.33em\">Exemple</h1>\n",
       "<div>Hello, ceci est un exemple de document HTML</div>\n",
       "</div>"
      ],
      "text/plain": [
       "<IPython.core.display.HTML object>"
      ]
     },
     "metadata": {},
     "output_type": "display_data"
    }
   ],
   "source": [
    "https_request('GET','mod95-be3.onrender.com','/hello.html')"
   ]
  },
  {
   "cell_type": "markdown",
   "metadata": {},
   "source": [
    "Last-Modified: Tue, 02 May 2023 16:38:12 GMT\n",
    "\n",
    "ETag: W/\"b6-187dd542520\""
   ]
  },
  {
   "cell_type": "markdown",
   "metadata": {},
   "source": [
    "<div style=\"background-color:#def;padding:5px 10px;margin-top: 5px;border-radius:3px\">\n",
    "__[3.2]__ - Effectuer une requête GET conditionnelle vers cette même ressource, dont la directive If-Modified-Since correspond à la date de dernière modification du document. En effectuer une autre avec une date antérieure. Commenter les résultats observés et conclure sur le fonctionnement et l'utilité de cette directive.\n",
    "</div>"
   ]
  },
  {
   "cell_type": "code",
   "execution_count": 26,
   "metadata": {},
   "outputs": [
    {
     "data": {
      "text/html": [
       "<code style='font-family:Consolas,monospace; display:block; margin-top: 5px; border-bottom:1px solid #ccc'><span style='font-weight:bold;color:#008'>304</span> - Not Modified</code>"
      ],
      "text/plain": [
       "<IPython.core.display.HTML object>"
      ]
     },
     "metadata": {},
     "output_type": "display_data"
    },
    {
     "data": {
      "text/html": [
       "<code style='display:block; margin-top:-0.7em; font-family:Consolas,monospace'><b>Date:</b> Mon, 11 Dec 2023 14:23:22 GMT</code>"
      ],
      "text/plain": [
       "<IPython.core.display.HTML object>"
      ]
     },
     "metadata": {},
     "output_type": "display_data"
    },
    {
     "data": {
      "text/html": [
       "<code style='display:block; margin-top:-0.7em; font-family:Consolas,monospace'><b>Connection:</b> keep-alive</code>"
      ],
      "text/plain": [
       "<IPython.core.display.HTML object>"
      ]
     },
     "metadata": {},
     "output_type": "display_data"
    },
    {
     "data": {
      "text/html": [
       "<code style='display:block; margin-top:-0.7em; font-family:Consolas,monospace'><b>CF-Ray:</b> 833e6296fb58916b-FRA</code>"
      ],
      "text/plain": [
       "<IPython.core.display.HTML object>"
      ]
     },
     "metadata": {},
     "output_type": "display_data"
    },
    {
     "data": {
      "text/html": [
       "<code style='display:block; margin-top:-0.7em; font-family:Consolas,monospace'><b>CF-Cache-Status:</b> DYNAMIC</code>"
      ],
      "text/plain": [
       "<IPython.core.display.HTML object>"
      ]
     },
     "metadata": {},
     "output_type": "display_data"
    },
    {
     "data": {
      "text/html": [
       "<code style='display:block; margin-top:-0.7em; font-family:Consolas,monospace'><b>Accept-Ranges:</b> bytes</code>"
      ],
      "text/plain": [
       "<IPython.core.display.HTML object>"
      ]
     },
     "metadata": {},
     "output_type": "display_data"
    },
    {
     "data": {
      "text/html": [
       "<code style='display:block; margin-top:-0.7em; font-family:Consolas,monospace'><b>Cache-Control:</b> public, max-age=0</code>"
      ],
      "text/plain": [
       "<IPython.core.display.HTML object>"
      ]
     },
     "metadata": {},
     "output_type": "display_data"
    },
    {
     "data": {
      "text/html": [
       "<code style='display:block; margin-top:-0.7em; font-family:Consolas,monospace'><b>ETag:</b> W/\"b6-187dd542520\"</code>"
      ],
      "text/plain": [
       "<IPython.core.display.HTML object>"
      ]
     },
     "metadata": {},
     "output_type": "display_data"
    },
    {
     "data": {
      "text/html": [
       "<code style='display:block; margin-top:-0.7em; font-family:Consolas,monospace'><b>Last-Modified:</b> Tue, 02 May 2023 16:38:12 GMT</code>"
      ],
      "text/plain": [
       "<IPython.core.display.HTML object>"
      ]
     },
     "metadata": {},
     "output_type": "display_data"
    },
    {
     "data": {
      "text/html": [
       "<code style='display:block; margin-top:-0.7em; font-family:Consolas,monospace'><b>rndr-id:</b> e8f478c0-5b96-4e3d</code>"
      ],
      "text/plain": [
       "<IPython.core.display.HTML object>"
      ]
     },
     "metadata": {},
     "output_type": "display_data"
    },
    {
     "data": {
      "text/html": [
       "<code style='display:block; margin-top:-0.7em; font-family:Consolas,monospace'><b>x-powered-by:</b> Express</code>"
      ],
      "text/plain": [
       "<IPython.core.display.HTML object>"
      ]
     },
     "metadata": {},
     "output_type": "display_data"
    },
    {
     "data": {
      "text/html": [
       "<code style='display:block; margin-top:-0.7em; font-family:Consolas,monospace'><b>x-render-origin-server:</b> Render</code>"
      ],
      "text/plain": [
       "<IPython.core.display.HTML object>"
      ]
     },
     "metadata": {},
     "output_type": "display_data"
    },
    {
     "data": {
      "text/html": [
       "<code style='display:block; margin-top:-0.7em; font-family:Consolas,monospace'><b>Vary:</b> Accept-Encoding</code>"
      ],
      "text/plain": [
       "<IPython.core.display.HTML object>"
      ]
     },
     "metadata": {},
     "output_type": "display_data"
    },
    {
     "data": {
      "text/html": [
       "<code style='display:block; margin-top:-0.7em; font-family:Consolas,monospace'><b>Server:</b> cloudflare</code>"
      ],
      "text/plain": [
       "<IPython.core.display.HTML object>"
      ]
     },
     "metadata": {},
     "output_type": "display_data"
    },
    {
     "data": {
      "text/html": [
       "<code style='display:block; margin-top:-0.7em; font-family:Consolas,monospace'><b>alt-svc:</b> h3=\":443\"; ma=86400</code>"
      ],
      "text/plain": [
       "<IPython.core.display.HTML object>"
      ]
     },
     "metadata": {},
     "output_type": "display_data"
    }
   ],
   "source": [
    "https_request('GET','mod95-be3.onrender.com','/hello.html',headers={\n",
    "    'If-modified-Since': 'Tue, 02 May 2023 16:38:12 GMT'\n",
    "})"
   ]
  },
  {
   "cell_type": "code",
   "execution_count": 23,
   "metadata": {},
   "outputs": [
    {
     "data": {
      "text/html": [
       "<code style='font-family:Consolas,monospace; display:block; margin-top: 5px; border-bottom:1px solid #ccc'><span style='font-weight:bold;color:#008'>200</span> - OK</code>"
      ],
      "text/plain": [
       "<IPython.core.display.HTML object>"
      ]
     },
     "metadata": {},
     "output_type": "display_data"
    },
    {
     "data": {
      "text/html": [
       "<code style='display:block; margin-top:-0.7em; font-family:Consolas,monospace'><b>Date:</b> Mon, 11 Dec 2023 14:17:24 GMT</code>"
      ],
      "text/plain": [
       "<IPython.core.display.HTML object>"
      ]
     },
     "metadata": {},
     "output_type": "display_data"
    },
    {
     "data": {
      "text/html": [
       "<code style='display:block; margin-top:-0.7em; font-family:Consolas,monospace'><b>Content-Type:</b> text/html; charset=UTF-8</code>"
      ],
      "text/plain": [
       "<IPython.core.display.HTML object>"
      ]
     },
     "metadata": {},
     "output_type": "display_data"
    },
    {
     "data": {
      "text/html": [
       "<code style='display:block; margin-top:-0.7em; font-family:Consolas,monospace'><b>Transfer-Encoding:</b> chunked</code>"
      ],
      "text/plain": [
       "<IPython.core.display.HTML object>"
      ]
     },
     "metadata": {},
     "output_type": "display_data"
    },
    {
     "data": {
      "text/html": [
       "<code style='display:block; margin-top:-0.7em; font-family:Consolas,monospace'><b>Connection:</b> keep-alive</code>"
      ],
      "text/plain": [
       "<IPython.core.display.HTML object>"
      ]
     },
     "metadata": {},
     "output_type": "display_data"
    },
    {
     "data": {
      "text/html": [
       "<code style='display:block; margin-top:-0.7em; font-family:Consolas,monospace'><b>CF-Ray:</b> 833e59d54854bbdf-FRA</code>"
      ],
      "text/plain": [
       "<IPython.core.display.HTML object>"
      ]
     },
     "metadata": {},
     "output_type": "display_data"
    },
    {
     "data": {
      "text/html": [
       "<code style='display:block; margin-top:-0.7em; font-family:Consolas,monospace'><b>CF-Cache-Status:</b> DYNAMIC</code>"
      ],
      "text/plain": [
       "<IPython.core.display.HTML object>"
      ]
     },
     "metadata": {},
     "output_type": "display_data"
    },
    {
     "data": {
      "text/html": [
       "<code style='display:block; margin-top:-0.7em; font-family:Consolas,monospace'><b>Cache-Control:</b> public, max-age=0</code>"
      ],
      "text/plain": [
       "<IPython.core.display.HTML object>"
      ]
     },
     "metadata": {},
     "output_type": "display_data"
    },
    {
     "data": {
      "text/html": [
       "<code style='display:block; margin-top:-0.7em; font-family:Consolas,monospace'><b>ETag:</b> W/\"b6-187dd542520\"</code>"
      ],
      "text/plain": [
       "<IPython.core.display.HTML object>"
      ]
     },
     "metadata": {},
     "output_type": "display_data"
    },
    {
     "data": {
      "text/html": [
       "<code style='display:block; margin-top:-0.7em; font-family:Consolas,monospace'><b>Last-Modified:</b> Tue, 02 May 2023 16:38:12 GMT</code>"
      ],
      "text/plain": [
       "<IPython.core.display.HTML object>"
      ]
     },
     "metadata": {},
     "output_type": "display_data"
    },
    {
     "data": {
      "text/html": [
       "<code style='display:block; margin-top:-0.7em; font-family:Consolas,monospace'><b>Vary:</b> Accept-Encoding</code>"
      ],
      "text/plain": [
       "<IPython.core.display.HTML object>"
      ]
     },
     "metadata": {},
     "output_type": "display_data"
    },
    {
     "data": {
      "text/html": [
       "<code style='display:block; margin-top:-0.7em; font-family:Consolas,monospace'><b>rndr-id:</b> 51b9e28d-225d-4805</code>"
      ],
      "text/plain": [
       "<IPython.core.display.HTML object>"
      ]
     },
     "metadata": {},
     "output_type": "display_data"
    },
    {
     "data": {
      "text/html": [
       "<code style='display:block; margin-top:-0.7em; font-family:Consolas,monospace'><b>x-powered-by:</b> Express</code>"
      ],
      "text/plain": [
       "<IPython.core.display.HTML object>"
      ]
     },
     "metadata": {},
     "output_type": "display_data"
    },
    {
     "data": {
      "text/html": [
       "<code style='display:block; margin-top:-0.7em; font-family:Consolas,monospace'><b>x-render-origin-server:</b> Render</code>"
      ],
      "text/plain": [
       "<IPython.core.display.HTML object>"
      ]
     },
     "metadata": {},
     "output_type": "display_data"
    },
    {
     "data": {
      "text/html": [
       "<code style='display:block; margin-top:-0.7em; font-family:Consolas,monospace'><b>Server:</b> cloudflare</code>"
      ],
      "text/plain": [
       "<IPython.core.display.HTML object>"
      ]
     },
     "metadata": {},
     "output_type": "display_data"
    },
    {
     "data": {
      "text/html": [
       "<code style='display:block; margin-top:-0.7em; font-family:Consolas,monospace'><b>alt-svc:</b> h3=\":443\"; ma=86400</code>"
      ],
      "text/plain": [
       "<IPython.core.display.HTML object>"
      ]
     },
     "metadata": {},
     "output_type": "display_data"
    },
    {
     "data": {
      "text/html": [
       "<div style='padding:5px; border: 1px solid #ccc; border-radius:5px; box-shadow: 5px 5px 5px #ccc; margin:5px 0 10px 0; display: inline-block; min-width: 50%'><!DOCTYPE html>\n",
       "<html lang=\"fr\">\n",
       "<meta charset=\"utf-8\">\n",
       "<title>Exemple HTML</title>\n",
       "<h1 style=\"margin:0 0 0.33em\">Exemple</h1>\n",
       "<div>Hello, ceci est un exemple de document HTML</div>\n",
       "</div>"
      ],
      "text/plain": [
       "<IPython.core.display.HTML object>"
      ]
     },
     "metadata": {},
     "output_type": "display_data"
    }
   ],
   "source": [
    "https_request('GET','mod95-be3.onrender.com','/hello.html',headers={\n",
    "    'If-modified-Since': 'Mon, 01 May 2023 16:38:12 GMT'\n",
    "})"
   ]
  },
  {
   "cell_type": "markdown",
   "metadata": {},
   "source": [
    "Lorsqu'il n'y a pas eu de modification depuis \"Last modified\", le statut du fichier devient : \"304 - Not Modified\". Cela évite notamment de recharger inutilement le fichier."
   ]
  },
  {
   "cell_type": "markdown",
   "metadata": {},
   "source": [
    "<div style=\"background-color:#def;padding:5px 10px;margin-top: 5px;border-radius:3px\">\n",
    "__[3.3]__ - Effectuer le même exercice avec une requête conditionnelle basée sur l'Etag. A votre avis, pourquoi y a-t-il eu cette nouvelle possibilité en HTTP/1.1 ?\n",
    "</div>"
   ]
  },
  {
   "cell_type": "code",
   "execution_count": 22,
   "metadata": {
    "collapsed": false,
    "jupyter": {
     "outputs_hidden": false
    },
    "util.bundle": "correcteur"
   },
   "outputs": [
    {
     "data": {
      "text/html": [
       "<code style='font-family:Consolas,monospace; display:block; margin-top: 5px; border-bottom:1px solid #ccc'><span style='font-weight:bold;color:#008'>304</span> - Not Modified</code>"
      ],
      "text/plain": [
       "<IPython.core.display.HTML object>"
      ]
     },
     "metadata": {},
     "output_type": "display_data"
    },
    {
     "data": {
      "text/html": [
       "<code style='display:block; margin-top:-0.7em; font-family:Consolas,monospace'><b>Date:</b> Mon, 11 Dec 2023 14:11:29 GMT</code>"
      ],
      "text/plain": [
       "<IPython.core.display.HTML object>"
      ]
     },
     "metadata": {},
     "output_type": "display_data"
    },
    {
     "data": {
      "text/html": [
       "<code style='display:block; margin-top:-0.7em; font-family:Consolas,monospace'><b>Connection:</b> keep-alive</code>"
      ],
      "text/plain": [
       "<IPython.core.display.HTML object>"
      ]
     },
     "metadata": {},
     "output_type": "display_data"
    },
    {
     "data": {
      "text/html": [
       "<code style='display:block; margin-top:-0.7em; font-family:Consolas,monospace'><b>CF-Ray:</b> 833e512d9e3465d1-FRA</code>"
      ],
      "text/plain": [
       "<IPython.core.display.HTML object>"
      ]
     },
     "metadata": {},
     "output_type": "display_data"
    },
    {
     "data": {
      "text/html": [
       "<code style='display:block; margin-top:-0.7em; font-family:Consolas,monospace'><b>CF-Cache-Status:</b> DYNAMIC</code>"
      ],
      "text/plain": [
       "<IPython.core.display.HTML object>"
      ]
     },
     "metadata": {},
     "output_type": "display_data"
    },
    {
     "data": {
      "text/html": [
       "<code style='display:block; margin-top:-0.7em; font-family:Consolas,monospace'><b>Accept-Ranges:</b> bytes</code>"
      ],
      "text/plain": [
       "<IPython.core.display.HTML object>"
      ]
     },
     "metadata": {},
     "output_type": "display_data"
    },
    {
     "data": {
      "text/html": [
       "<code style='display:block; margin-top:-0.7em; font-family:Consolas,monospace'><b>Cache-Control:</b> public, max-age=0</code>"
      ],
      "text/plain": [
       "<IPython.core.display.HTML object>"
      ]
     },
     "metadata": {},
     "output_type": "display_data"
    },
    {
     "data": {
      "text/html": [
       "<code style='display:block; margin-top:-0.7em; font-family:Consolas,monospace'><b>ETag:</b> W/\"b6-187dd542520\"</code>"
      ],
      "text/plain": [
       "<IPython.core.display.HTML object>"
      ]
     },
     "metadata": {},
     "output_type": "display_data"
    },
    {
     "data": {
      "text/html": [
       "<code style='display:block; margin-top:-0.7em; font-family:Consolas,monospace'><b>Last-Modified:</b> Tue, 02 May 2023 16:38:12 GMT</code>"
      ],
      "text/plain": [
       "<IPython.core.display.HTML object>"
      ]
     },
     "metadata": {},
     "output_type": "display_data"
    },
    {
     "data": {
      "text/html": [
       "<code style='display:block; margin-top:-0.7em; font-family:Consolas,monospace'><b>rndr-id:</b> e562ca63-298c-48ca</code>"
      ],
      "text/plain": [
       "<IPython.core.display.HTML object>"
      ]
     },
     "metadata": {},
     "output_type": "display_data"
    },
    {
     "data": {
      "text/html": [
       "<code style='display:block; margin-top:-0.7em; font-family:Consolas,monospace'><b>x-powered-by:</b> Express</code>"
      ],
      "text/plain": [
       "<IPython.core.display.HTML object>"
      ]
     },
     "metadata": {},
     "output_type": "display_data"
    },
    {
     "data": {
      "text/html": [
       "<code style='display:block; margin-top:-0.7em; font-family:Consolas,monospace'><b>x-render-origin-server:</b> Render</code>"
      ],
      "text/plain": [
       "<IPython.core.display.HTML object>"
      ]
     },
     "metadata": {},
     "output_type": "display_data"
    },
    {
     "data": {
      "text/html": [
       "<code style='display:block; margin-top:-0.7em; font-family:Consolas,monospace'><b>Vary:</b> Accept-Encoding</code>"
      ],
      "text/plain": [
       "<IPython.core.display.HTML object>"
      ]
     },
     "metadata": {},
     "output_type": "display_data"
    },
    {
     "data": {
      "text/html": [
       "<code style='display:block; margin-top:-0.7em; font-family:Consolas,monospace'><b>Server:</b> cloudflare</code>"
      ],
      "text/plain": [
       "<IPython.core.display.HTML object>"
      ]
     },
     "metadata": {},
     "output_type": "display_data"
    },
    {
     "data": {
      "text/html": [
       "<code style='display:block; margin-top:-0.7em; font-family:Consolas,monospace'><b>alt-svc:</b> h3=\":443\"; ma=86400</code>"
      ],
      "text/plain": [
       "<IPython.core.display.HTML object>"
      ]
     },
     "metadata": {},
     "output_type": "display_data"
    }
   ],
   "source": [
    "https_request('GET','mod95-be3.onrender.com','/hello.html',headers={\n",
    "    'If-None-Match': 'W/\"b6-187dd542520\"'\n",
    "})"
   ]
  },
  {
   "cell_type": "code",
   "execution_count": 24,
   "metadata": {
    "collapsed": false,
    "jupyter": {
     "outputs_hidden": false
    },
    "util.bundle": "correcteur"
   },
   "outputs": [
    {
     "data": {
      "text/html": [
       "<code style='font-family:Consolas,monospace; display:block; margin-top: 5px; border-bottom:1px solid #ccc'><span style='font-weight:bold;color:#008'>200</span> - OK</code>"
      ],
      "text/plain": [
       "<IPython.core.display.HTML object>"
      ]
     },
     "metadata": {},
     "output_type": "display_data"
    },
    {
     "data": {
      "text/html": [
       "<code style='display:block; margin-top:-0.7em; font-family:Consolas,monospace'><b>Date:</b> Mon, 11 Dec 2023 14:18:42 GMT</code>"
      ],
      "text/plain": [
       "<IPython.core.display.HTML object>"
      ]
     },
     "metadata": {},
     "output_type": "display_data"
    },
    {
     "data": {
      "text/html": [
       "<code style='display:block; margin-top:-0.7em; font-family:Consolas,monospace'><b>Content-Type:</b> text/html; charset=UTF-8</code>"
      ],
      "text/plain": [
       "<IPython.core.display.HTML object>"
      ]
     },
     "metadata": {},
     "output_type": "display_data"
    },
    {
     "data": {
      "text/html": [
       "<code style='display:block; margin-top:-0.7em; font-family:Consolas,monospace'><b>Transfer-Encoding:</b> chunked</code>"
      ],
      "text/plain": [
       "<IPython.core.display.HTML object>"
      ]
     },
     "metadata": {},
     "output_type": "display_data"
    },
    {
     "data": {
      "text/html": [
       "<code style='display:block; margin-top:-0.7em; font-family:Consolas,monospace'><b>Connection:</b> keep-alive</code>"
      ],
      "text/plain": [
       "<IPython.core.display.HTML object>"
      ]
     },
     "metadata": {},
     "output_type": "display_data"
    },
    {
     "data": {
      "text/html": [
       "<code style='display:block; margin-top:-0.7em; font-family:Consolas,monospace'><b>CF-Ray:</b> 833e5bbe3abc904e-FRA</code>"
      ],
      "text/plain": [
       "<IPython.core.display.HTML object>"
      ]
     },
     "metadata": {},
     "output_type": "display_data"
    },
    {
     "data": {
      "text/html": [
       "<code style='display:block; margin-top:-0.7em; font-family:Consolas,monospace'><b>CF-Cache-Status:</b> DYNAMIC</code>"
      ],
      "text/plain": [
       "<IPython.core.display.HTML object>"
      ]
     },
     "metadata": {},
     "output_type": "display_data"
    },
    {
     "data": {
      "text/html": [
       "<code style='display:block; margin-top:-0.7em; font-family:Consolas,monospace'><b>Cache-Control:</b> public, max-age=0</code>"
      ],
      "text/plain": [
       "<IPython.core.display.HTML object>"
      ]
     },
     "metadata": {},
     "output_type": "display_data"
    },
    {
     "data": {
      "text/html": [
       "<code style='display:block; margin-top:-0.7em; font-family:Consolas,monospace'><b>ETag:</b> W/\"b6-187dd542520\"</code>"
      ],
      "text/plain": [
       "<IPython.core.display.HTML object>"
      ]
     },
     "metadata": {},
     "output_type": "display_data"
    },
    {
     "data": {
      "text/html": [
       "<code style='display:block; margin-top:-0.7em; font-family:Consolas,monospace'><b>Last-Modified:</b> Tue, 02 May 2023 16:38:12 GMT</code>"
      ],
      "text/plain": [
       "<IPython.core.display.HTML object>"
      ]
     },
     "metadata": {},
     "output_type": "display_data"
    },
    {
     "data": {
      "text/html": [
       "<code style='display:block; margin-top:-0.7em; font-family:Consolas,monospace'><b>Vary:</b> Accept-Encoding</code>"
      ],
      "text/plain": [
       "<IPython.core.display.HTML object>"
      ]
     },
     "metadata": {},
     "output_type": "display_data"
    },
    {
     "data": {
      "text/html": [
       "<code style='display:block; margin-top:-0.7em; font-family:Consolas,monospace'><b>rndr-id:</b> 3625b562-2bbd-4928</code>"
      ],
      "text/plain": [
       "<IPython.core.display.HTML object>"
      ]
     },
     "metadata": {},
     "output_type": "display_data"
    },
    {
     "data": {
      "text/html": [
       "<code style='display:block; margin-top:-0.7em; font-family:Consolas,monospace'><b>x-powered-by:</b> Express</code>"
      ],
      "text/plain": [
       "<IPython.core.display.HTML object>"
      ]
     },
     "metadata": {},
     "output_type": "display_data"
    },
    {
     "data": {
      "text/html": [
       "<code style='display:block; margin-top:-0.7em; font-family:Consolas,monospace'><b>x-render-origin-server:</b> Render</code>"
      ],
      "text/plain": [
       "<IPython.core.display.HTML object>"
      ]
     },
     "metadata": {},
     "output_type": "display_data"
    },
    {
     "data": {
      "text/html": [
       "<code style='display:block; margin-top:-0.7em; font-family:Consolas,monospace'><b>Server:</b> cloudflare</code>"
      ],
      "text/plain": [
       "<IPython.core.display.HTML object>"
      ]
     },
     "metadata": {},
     "output_type": "display_data"
    },
    {
     "data": {
      "text/html": [
       "<code style='display:block; margin-top:-0.7em; font-family:Consolas,monospace'><b>alt-svc:</b> h3=\":443\"; ma=86400</code>"
      ],
      "text/plain": [
       "<IPython.core.display.HTML object>"
      ]
     },
     "metadata": {},
     "output_type": "display_data"
    },
    {
     "data": {
      "text/html": [
       "<div style='padding:5px; border: 1px solid #ccc; border-radius:5px; box-shadow: 5px 5px 5px #ccc; margin:5px 0 10px 0; display: inline-block; min-width: 50%'><!DOCTYPE html>\n",
       "<html lang=\"fr\">\n",
       "<meta charset=\"utf-8\">\n",
       "<title>Exemple HTML</title>\n",
       "<h1 style=\"margin:0 0 0.33em\">Exemple</h1>\n",
       "<div>Hello, ceci est un exemple de document HTML</div>\n",
       "</div>"
      ],
      "text/plain": [
       "<IPython.core.display.HTML object>"
      ]
     },
     "metadata": {},
     "output_type": "display_data"
    }
   ],
   "source": [
    "https_request('GET','mod95-be3.onrender.com','/hello.html',headers={\n",
    "    'If-None-Match': 'W/\"b6-187dd542510\"'\n",
    "})"
   ]
  },
  {
   "cell_type": "markdown",
   "metadata": {},
   "source": [
    "l'Etag permet d'avoir une réponse intelligente au problème. Se reposer sur le last modified ne permet pas de traiter les problèmes liés à des fichiers non statiques. Par exemple des fichiers générés pour un utilisateur en interrogeant la base de données. Si la base de donnée n'a pas changé alors les fichiers générés sont les mêmes mais le last-modified aura changé. l'Etag permet de répondre à cette problématique."
   ]
  },
  {
   "cell_type": "markdown",
   "metadata": {},
   "source": [
    "<h4 style=\"font-size:150%;color:#06A;margin-bottom:1.33em;border-top:3px solid #7fb2d4; padding-top:0.5em\">4. Redirections.</h4>\n",
    "\n",
    "<div style=\"background-color:#def;padding:5px 10px;margin-top: 5px;border-radius:3px\">\n",
    "__[4.1]__ - Examiner la réponse obtenue lors d'une requête vers \n",
    "<a href=\"https://mod95-be3.onrender.com/moved\">cette ressource</a> et décrire le comportement\n",
    "d'un navigateur lorsqu'il reçoit ce type de réponse.<br>\n",
    "<em>-- attention, il y a éventuellement un piège --</em>\n",
    "</div>"
   ]
  },
  {
   "cell_type": "code",
   "execution_count": 27,
   "metadata": {
    "collapsed": false,
    "jupyter": {
     "outputs_hidden": false
    },
    "util.bundle": "correcteur"
   },
   "outputs": [
    {
     "data": {
      "text/html": [
       "<code style='font-family:Consolas,monospace; display:block; margin-top: 5px; border-bottom:1px solid #ccc'><span style='font-weight:bold;color:#008'>301</span> - Moved Permanently</code>"
      ],
      "text/plain": [
       "<IPython.core.display.HTML object>"
      ]
     },
     "metadata": {},
     "output_type": "display_data"
    },
    {
     "data": {
      "text/html": [
       "<code style='display:block; margin-top:-0.7em; font-family:Consolas,monospace'><b>Date:</b> Mon, 11 Dec 2023 14:35:30 GMT</code>"
      ],
      "text/plain": [
       "<IPython.core.display.HTML object>"
      ]
     },
     "metadata": {},
     "output_type": "display_data"
    },
    {
     "data": {
      "text/html": [
       "<code style='display:block; margin-top:-0.7em; font-family:Consolas,monospace'><b>Content-Type:</b> text/html; charset=utf-8</code>"
      ],
      "text/plain": [
       "<IPython.core.display.HTML object>"
      ]
     },
     "metadata": {},
     "output_type": "display_data"
    },
    {
     "data": {
      "text/html": [
       "<code style='display:block; margin-top:-0.7em; font-family:Consolas,monospace'><b>Transfer-Encoding:</b> chunked</code>"
      ],
      "text/plain": [
       "<IPython.core.display.HTML object>"
      ]
     },
     "metadata": {},
     "output_type": "display_data"
    },
    {
     "data": {
      "text/html": [
       "<code style='display:block; margin-top:-0.7em; font-family:Consolas,monospace'><b>Connection:</b> keep-alive</code>"
      ],
      "text/plain": [
       "<IPython.core.display.HTML object>"
      ]
     },
     "metadata": {},
     "output_type": "display_data"
    },
    {
     "data": {
      "text/html": [
       "<code style='display:block; margin-top:-0.7em; font-family:Consolas,monospace'><b>Location:</b> http://www.ec-lyon.fr</code>"
      ],
      "text/plain": [
       "<IPython.core.display.HTML object>"
      ]
     },
     "metadata": {},
     "output_type": "display_data"
    },
    {
     "data": {
      "text/html": [
       "<code style='display:block; margin-top:-0.7em; font-family:Consolas,monospace'><b>CF-Ray:</b> 833e745c29d3900d-FRA</code>"
      ],
      "text/plain": [
       "<IPython.core.display.HTML object>"
      ]
     },
     "metadata": {},
     "output_type": "display_data"
    },
    {
     "data": {
      "text/html": [
       "<code style='display:block; margin-top:-0.7em; font-family:Consolas,monospace'><b>CF-Cache-Status:</b> DYNAMIC</code>"
      ],
      "text/plain": [
       "<IPython.core.display.HTML object>"
      ]
     },
     "metadata": {},
     "output_type": "display_data"
    },
    {
     "data": {
      "text/html": [
       "<code style='display:block; margin-top:-0.7em; font-family:Consolas,monospace'><b>ETag:</b> W/\"133-TSfWvMV3cNLRLEQ7G7Mt83/meP0\"</code>"
      ],
      "text/plain": [
       "<IPython.core.display.HTML object>"
      ]
     },
     "metadata": {},
     "output_type": "display_data"
    },
    {
     "data": {
      "text/html": [
       "<code style='display:block; margin-top:-0.7em; font-family:Consolas,monospace'><b>Vary:</b> Accept-Encoding</code>"
      ],
      "text/plain": [
       "<IPython.core.display.HTML object>"
      ]
     },
     "metadata": {},
     "output_type": "display_data"
    },
    {
     "data": {
      "text/html": [
       "<code style='display:block; margin-top:-0.7em; font-family:Consolas,monospace'><b>rndr-id:</b> 79d7af6f-3ecf-4d5e</code>"
      ],
      "text/plain": [
       "<IPython.core.display.HTML object>"
      ]
     },
     "metadata": {},
     "output_type": "display_data"
    },
    {
     "data": {
      "text/html": [
       "<code style='display:block; margin-top:-0.7em; font-family:Consolas,monospace'><b>x-powered-by:</b> Express</code>"
      ],
      "text/plain": [
       "<IPython.core.display.HTML object>"
      ]
     },
     "metadata": {},
     "output_type": "display_data"
    },
    {
     "data": {
      "text/html": [
       "<code style='display:block; margin-top:-0.7em; font-family:Consolas,monospace'><b>x-render-origin-server:</b> Render</code>"
      ],
      "text/plain": [
       "<IPython.core.display.HTML object>"
      ]
     },
     "metadata": {},
     "output_type": "display_data"
    },
    {
     "data": {
      "text/html": [
       "<code style='display:block; margin-top:-0.7em; font-family:Consolas,monospace'><b>Server:</b> cloudflare</code>"
      ],
      "text/plain": [
       "<IPython.core.display.HTML object>"
      ]
     },
     "metadata": {},
     "output_type": "display_data"
    },
    {
     "data": {
      "text/html": [
       "<code style='display:block; margin-top:-0.7em; font-family:Consolas,monospace'><b>alt-svc:</b> h3=\":443\"; ma=86400</code>"
      ],
      "text/plain": [
       "<IPython.core.display.HTML object>"
      ]
     },
     "metadata": {},
     "output_type": "display_data"
    },
    {
     "data": {
      "text/html": [
       "<div style='padding:5px; border: 1px solid #ccc; border-radius:5px; box-shadow: 5px 5px 5px #ccc; margin:5px 0 10px 0; display: inline-block; min-width: 50%'><!DOCTYPE html>\r\n",
       "<html lang=\"fr\">\r\n",
       "<meta charset=\"utf-8\">\r\n",
       "\r\n",
       "<div style=\"font-family: Consolas,monospace\">\r\n",
       "<h1 style=\"margin-top:0; padding:0.1em 0.5em;background-color:#aaa;color:white\">301 - Moved Permanently</h1>\r\n",
       "<p>Il faut aller voir <a href=\"http://www.ec-lyon.fr\">http://www.ec-lyon.fr</a>\r\n",
       "</div>\r\n",
       "</div>"
      ],
      "text/plain": [
       "<IPython.core.display.HTML object>"
      ]
     },
     "metadata": {},
     "output_type": "display_data"
    }
   ],
   "source": [
    "https_request('GET','mod95-be3.onrender.com','/moved')"
   ]
  },
  {
   "cell_type": "markdown",
   "metadata": {},
   "source": [
    "En cliquant sur le lien https://mod95-be3.onrender.com/moved on est redirigé vers le site d'accueil de Centrale Lyon. \n",
    "\n",
    "Lorsqu'un navigateur reçoit une réponse HTTP avec un code de statut 301 - Moved Permanently, cela indique que la ressource demandée a été déplacée de façon permanente vers une nouvelle URL. Voici comment le navigateur traite ce type de réponse :\n",
    "\n",
    "Interprétation du Code de Statut 301 : Le navigateur comprend que l'URL de la ressource demandée a changé de manière permanente.\n",
    "\n",
    "En-tête Location : L'en-tête Location dans la réponse fournit la nouvelle URL de la ressource. Dans cet exemple, l'en-tête Location indique http://www.ec-lyon.fr. C'est la nouvelle adresse à laquelle le navigateur doit accéder pour obtenir la ressource.\n",
    "\n",
    "Redirection Automatique : Le navigateur redirige automatiquement l'utilisateur vers la nouvelle URL spécifiée dans l'en-tête Location. Cette redirection se fait sans intervention de l'utilisateur, créant une expérience de navigation fluide."
   ]
  },
  {
   "cell_type": "markdown",
   "metadata": {},
   "source": [
    "<div style=\"background-color:#def;padding:5px 10px;margin-top: 5px;border-radius:3px\">\n",
    "__[4.2]__ - Essayer maintenant\n",
    "<a href=\"https://mod95-be3.onrender.com/perm\">cette nouvelle ressource</a>. Quelle sont les différences avec la précédente ? Consulter par exemple la <a href=\"https://en.wikipedia.org/wiki/List_of_HTTP_status_codes#4xx_Client_errors\">liste des statuts HTTP</a> et préciser en quoi le comportement attendu des clients est différent.\n",
    "</div>"
   ]
  },
  {
   "cell_type": "code",
   "execution_count": 28,
   "metadata": {
    "collapsed": false,
    "jupyter": {
     "outputs_hidden": false
    },
    "util.bundle": "correcteur"
   },
   "outputs": [
    {
     "data": {
      "text/html": [
       "<code style='font-family:Consolas,monospace; display:block; margin-top: 5px; border-bottom:1px solid #ccc'><span style='font-weight:bold;color:#008'>308</span> - Permanent Redirect</code>"
      ],
      "text/plain": [
       "<IPython.core.display.HTML object>"
      ]
     },
     "metadata": {},
     "output_type": "display_data"
    },
    {
     "data": {
      "text/html": [
       "<code style='display:block; margin-top:-0.7em; font-family:Consolas,monospace'><b>Date:</b> Mon, 11 Dec 2023 14:38:35 GMT</code>"
      ],
      "text/plain": [
       "<IPython.core.display.HTML object>"
      ]
     },
     "metadata": {},
     "output_type": "display_data"
    },
    {
     "data": {
      "text/html": [
       "<code style='display:block; margin-top:-0.7em; font-family:Consolas,monospace'><b>Content-Type:</b> text/html; charset=utf-8</code>"
      ],
      "text/plain": [
       "<IPython.core.display.HTML object>"
      ]
     },
     "metadata": {},
     "output_type": "display_data"
    },
    {
     "data": {
      "text/html": [
       "<code style='display:block; margin-top:-0.7em; font-family:Consolas,monospace'><b>Transfer-Encoding:</b> chunked</code>"
      ],
      "text/plain": [
       "<IPython.core.display.HTML object>"
      ]
     },
     "metadata": {},
     "output_type": "display_data"
    },
    {
     "data": {
      "text/html": [
       "<code style='display:block; margin-top:-0.7em; font-family:Consolas,monospace'><b>Connection:</b> keep-alive</code>"
      ],
      "text/plain": [
       "<IPython.core.display.HTML object>"
      ]
     },
     "metadata": {},
     "output_type": "display_data"
    },
    {
     "data": {
      "text/html": [
       "<code style='display:block; margin-top:-0.7em; font-family:Consolas,monospace'><b>Location:</b> http://www.ec-lyon.fr</code>"
      ],
      "text/plain": [
       "<IPython.core.display.HTML object>"
      ]
     },
     "metadata": {},
     "output_type": "display_data"
    },
    {
     "data": {
      "text/html": [
       "<code style='display:block; margin-top:-0.7em; font-family:Consolas,monospace'><b>CF-Ray:</b> 833e78de7ffbbb5f-FRA</code>"
      ],
      "text/plain": [
       "<IPython.core.display.HTML object>"
      ]
     },
     "metadata": {},
     "output_type": "display_data"
    },
    {
     "data": {
      "text/html": [
       "<code style='display:block; margin-top:-0.7em; font-family:Consolas,monospace'><b>CF-Cache-Status:</b> DYNAMIC</code>"
      ],
      "text/plain": [
       "<IPython.core.display.HTML object>"
      ]
     },
     "metadata": {},
     "output_type": "display_data"
    },
    {
     "data": {
      "text/html": [
       "<code style='display:block; margin-top:-0.7em; font-family:Consolas,monospace'><b>ETag:</b> W/\"134-tOlb5ZHWcJ2daMDRK3Sn6XB6s7M\"</code>"
      ],
      "text/plain": [
       "<IPython.core.display.HTML object>"
      ]
     },
     "metadata": {},
     "output_type": "display_data"
    },
    {
     "data": {
      "text/html": [
       "<code style='display:block; margin-top:-0.7em; font-family:Consolas,monospace'><b>Vary:</b> Accept-Encoding</code>"
      ],
      "text/plain": [
       "<IPython.core.display.HTML object>"
      ]
     },
     "metadata": {},
     "output_type": "display_data"
    },
    {
     "data": {
      "text/html": [
       "<code style='display:block; margin-top:-0.7em; font-family:Consolas,monospace'><b>rndr-id:</b> 6a99f5c6-a303-423b</code>"
      ],
      "text/plain": [
       "<IPython.core.display.HTML object>"
      ]
     },
     "metadata": {},
     "output_type": "display_data"
    },
    {
     "data": {
      "text/html": [
       "<code style='display:block; margin-top:-0.7em; font-family:Consolas,monospace'><b>x-powered-by:</b> Express</code>"
      ],
      "text/plain": [
       "<IPython.core.display.HTML object>"
      ]
     },
     "metadata": {},
     "output_type": "display_data"
    },
    {
     "data": {
      "text/html": [
       "<code style='display:block; margin-top:-0.7em; font-family:Consolas,monospace'><b>x-render-origin-server:</b> Render</code>"
      ],
      "text/plain": [
       "<IPython.core.display.HTML object>"
      ]
     },
     "metadata": {},
     "output_type": "display_data"
    },
    {
     "data": {
      "text/html": [
       "<code style='display:block; margin-top:-0.7em; font-family:Consolas,monospace'><b>Server:</b> cloudflare</code>"
      ],
      "text/plain": [
       "<IPython.core.display.HTML object>"
      ]
     },
     "metadata": {},
     "output_type": "display_data"
    },
    {
     "data": {
      "text/html": [
       "<code style='display:block; margin-top:-0.7em; font-family:Consolas,monospace'><b>alt-svc:</b> h3=\":443\"; ma=86400</code>"
      ],
      "text/plain": [
       "<IPython.core.display.HTML object>"
      ]
     },
     "metadata": {},
     "output_type": "display_data"
    },
    {
     "data": {
      "text/html": [
       "<div style='padding:5px; border: 1px solid #ccc; border-radius:5px; box-shadow: 5px 5px 5px #ccc; margin:5px 0 10px 0; display: inline-block; min-width: 50%'><!DOCTYPE html>\r\n",
       "<html lang=\"fr\">\r\n",
       "<meta charset=\"utf-8\">\r\n",
       "\r\n",
       "<div style=\"font-family: Consolas,monospace\">\r\n",
       "<h1 style=\"margin-top:0; padding:0.1em 0.5em;background-color:#aaa;color:white\">308 - Permanent Redirect</h1>\r\n",
       "<p>Il faut aller voir <a href=\"http://www.ec-lyon.fr\">http://www.ec-lyon.fr</a>\r\n",
       "</div>\r\n",
       "</div>"
      ],
      "text/plain": [
       "<IPython.core.display.HTML object>"
      ]
     },
     "metadata": {},
     "output_type": "display_data"
    }
   ],
   "source": [
    "https_request('GET','mod95-be3.onrender.com','/perm')"
   ]
  },
  {
   "cell_type": "markdown",
   "metadata": {},
   "source": [
    "#Réponse de la requete HTTP : \n",
    "\n",
    "réponse HTTP avec un code de statut 308 - Permanent Redirect est similaire dans son objectif au code 301 - Moved Permanently, mais avec quelques différences clés dans son comportement.\n",
    "\n",
    "308 - Permanent Redirect: Ce code de statut indique que la ressource demandée a été déplacée de manière permanente vers une nouvelle URL, tout comme le code 301. Cependant, la différence principale est que 308 exige que la méthode de requête (par exemple, GET, POST) et les corps de requête soient préservés lors de la redirection, ce qui n'est pas exigé par 301.\n",
    "\n",
    "### Comportement du Navigateur avec 308\n",
    "\n",
    "Préservation de la Méthode de Requête et du Corps de Requête: Si la requête initiale était un POST avec un certain corps de données, par exemple, la requête redirigée sera également un POST avec le même corps de données.\n",
    "\n",
    "Redirection Automatique: Comme avec 301, le navigateur redirige automatiquement l'utilisateur vers la nouvelle URL spécifiée dans l'en-tête Location, sans action requise de la part de l'utilisateur.\n",
    "\n",
    "Cache de la Redirection: Cette redirection sera également mise en cache pour éviter des requêtes répétitives au serveur d'origine, à chaque requete sur l'URL de départ le client passera directement à la \"bonne\" URL qu'il a en cache."
   ]
  },
  {
   "cell_type": "markdown",
   "metadata": {},
   "source": [
    "<div style=\"background-color:#def;padding:5px 10px;margin-top: 5px;border-radius:3px\">\n",
    "__[4.3]__ - Ce type de redirection est utilisé par les raccourcisseurs d'URLs. Vérifier ceci en envoyant une requête\n",
    "vers la ressource <a href=\"http://bit.ly/2Oz8wbC\">http://bit.ly/2Oz8wbC</a>. Commenter le résultat obtenu et expliquer pourquoi ce type de réponse est approprié pour ces services.\n",
    "</div>"
   ]
  },
  {
   "cell_type": "code",
   "execution_count": 29,
   "metadata": {
    "collapsed": false,
    "jupyter": {
     "outputs_hidden": false
    },
    "util.bundle": "correcteur"
   },
   "outputs": [
    {
     "data": {
      "text/html": [
       "<code style='font-family:Consolas,monospace; display:block; margin-top: 5px; border-bottom:1px solid #ccc'><span style='font-weight:bold;color:#008'>301</span> - Moved Permanently</code>"
      ],
      "text/plain": [
       "<IPython.core.display.HTML object>"
      ]
     },
     "metadata": {},
     "output_type": "display_data"
    },
    {
     "data": {
      "text/html": [
       "<code style='display:block; margin-top:-0.7em; font-family:Consolas,monospace'><b>Server:</b> nginx</code>"
      ],
      "text/plain": [
       "<IPython.core.display.HTML object>"
      ]
     },
     "metadata": {},
     "output_type": "display_data"
    },
    {
     "data": {
      "text/html": [
       "<code style='display:block; margin-top:-0.7em; font-family:Consolas,monospace'><b>Date:</b> Mon, 11 Dec 2023 14:42:35 GMT</code>"
      ],
      "text/plain": [
       "<IPython.core.display.HTML object>"
      ]
     },
     "metadata": {},
     "output_type": "display_data"
    },
    {
     "data": {
      "text/html": [
       "<code style='display:block; margin-top:-0.7em; font-family:Consolas,monospace'><b>Content-Type:</b> text/html; charset=utf-8</code>"
      ],
      "text/plain": [
       "<IPython.core.display.HTML object>"
      ]
     },
     "metadata": {},
     "output_type": "display_data"
    },
    {
     "data": {
      "text/html": [
       "<code style='display:block; margin-top:-0.7em; font-family:Consolas,monospace'><b>Content-Length:</b> 109</code>"
      ],
      "text/plain": [
       "<IPython.core.display.HTML object>"
      ]
     },
     "metadata": {},
     "output_type": "display_data"
    },
    {
     "data": {
      "text/html": [
       "<code style='display:block; margin-top:-0.7em; font-family:Consolas,monospace'><b>Cache-Control:</b> private, max-age=90</code>"
      ],
      "text/plain": [
       "<IPython.core.display.HTML object>"
      ]
     },
     "metadata": {},
     "output_type": "display_data"
    },
    {
     "data": {
      "text/html": [
       "<code style='display:block; margin-top:-0.7em; font-family:Consolas,monospace'><b>Content-Security-Policy:</b> referrer always;</code>"
      ],
      "text/plain": [
       "<IPython.core.display.HTML object>"
      ]
     },
     "metadata": {},
     "output_type": "display_data"
    },
    {
     "data": {
      "text/html": [
       "<code style='display:block; margin-top:-0.7em; font-family:Consolas,monospace'><b>Location:</b> http://www.ec-lyon.fr/</code>"
      ],
      "text/plain": [
       "<IPython.core.display.HTML object>"
      ]
     },
     "metadata": {},
     "output_type": "display_data"
    },
    {
     "data": {
      "text/html": [
       "<code style='display:block; margin-top:-0.7em; font-family:Consolas,monospace'><b>Referrer-Policy:</b> unsafe-url</code>"
      ],
      "text/plain": [
       "<IPython.core.display.HTML object>"
      ]
     },
     "metadata": {},
     "output_type": "display_data"
    },
    {
     "data": {
      "text/html": [
       "<code style='display:block; margin-top:-0.7em; font-family:Consolas,monospace'><b>Set-Cookie:</b> _bit=nbbeGz-0dd95593291d9d5587-00s; Domain=bit.ly; Expires=Sat, 08 Jun 2024 14:42:35 GMT</code>"
      ],
      "text/plain": [
       "<IPython.core.display.HTML object>"
      ]
     },
     "metadata": {},
     "output_type": "display_data"
    },
    {
     "data": {
      "text/html": [
       "<code style='display:block; margin-top:-0.7em; font-family:Consolas,monospace'><b>Via:</b> 1.1 google</code>"
      ],
      "text/plain": [
       "<IPython.core.display.HTML object>"
      ]
     },
     "metadata": {},
     "output_type": "display_data"
    },
    {
     "data": {
      "text/html": [
       "<div style='padding:5px; border: 1px solid #ccc; border-radius:5px; box-shadow: 5px 5px 5px #ccc; margin:5px 0 10px 0; display: inline-block; min-width: 50%'><html>\n",
       "<head><title>Bitly</title></head>\n",
       "<body><a href=\"http://www.ec-lyon.fr/\">moved here</a></body>\n",
       "</html></div>"
      ],
      "text/plain": [
       "<IPython.core.display.HTML object>"
      ]
     },
     "metadata": {},
     "output_type": "display_data"
    }
   ],
   "source": [
    "http_request('GET','bit.ly','/2Oz8wbC')"
   ]
  },
  {
   "cell_type": "markdown",
   "metadata": {},
   "source": [
    "On peut ajouter d'autres informations quant au statut 301 notamment : \n",
    "\n",
    "- Permanence de la Redirection : Les raccourcisseurs d'URL ont pour but de créer des liens stables et permanents qui redirigeront toujours vers la même destination. Un code 301 indique que la redirection n'est pas temporaire et que l'URL raccourcie restera valide à long terme.\n",
    "\n",
    "- Mise à jour des Liens : Les utilisateurs et les moteurs de recherche sont encouragés à mettre à jour leurs liens ou favoris avec l'URL de destination, puisque le code 301 indique un changement d'adresse permanent.\n",
    "\n",
    "- Efficacité et Performance : En utilisant un 301, les raccourcisseurs d'URL garantissent que les navigateurs et les moteurs de recherche mettront en cache la redirection. Cela signifie que les requêtes futures vers la même URL raccourcie seront redirigées plus rapidement, car le navigateur se souviendra de la destination finale."
   ]
  },
  {
   "cell_type": "markdown",
   "metadata": {},
   "source": [
    "<div style=\"background-color:#def;padding:5px 10px;margin-top: 5px;border-radius:3px\">\n",
    "__[4.4]__ - Voici encore\n",
    "<a href=\"https://mod95-be3.onrender.com/found\">une ressource</a> et\n",
    "<a href=\"https://mod95-be3.onrender.com/temp\">une dernière</a>\n",
    "effectuant chacune une redirection. En vous référant encore une fois à la documentation, expliquer les différences de comportement attendues de la part d'un client recevant chacune de ces réponses, l'une par rapport à l'autre, puis par rapport aux deux codes de redirection observés précédemment.\n",
    "</div>"
   ]
  },
  {
   "cell_type": "code",
   "execution_count": 30,
   "metadata": {
    "collapsed": false,
    "jupyter": {
     "outputs_hidden": false
    },
    "util.bundle": "correcteur"
   },
   "outputs": [
    {
     "data": {
      "text/html": [
       "<code style='font-family:Consolas,monospace; display:block; margin-top: 5px; border-bottom:1px solid #ccc'><span style='font-weight:bold;color:#008'>302</span> - Found</code>"
      ],
      "text/plain": [
       "<IPython.core.display.HTML object>"
      ]
     },
     "metadata": {},
     "output_type": "display_data"
    },
    {
     "data": {
      "text/html": [
       "<code style='display:block; margin-top:-0.7em; font-family:Consolas,monospace'><b>Date:</b> Mon, 11 Dec 2023 14:43:48 GMT</code>"
      ],
      "text/plain": [
       "<IPython.core.display.HTML object>"
      ]
     },
     "metadata": {},
     "output_type": "display_data"
    },
    {
     "data": {
      "text/html": [
       "<code style='display:block; margin-top:-0.7em; font-family:Consolas,monospace'><b>Content-Type:</b> text/html; charset=utf-8</code>"
      ],
      "text/plain": [
       "<IPython.core.display.HTML object>"
      ]
     },
     "metadata": {},
     "output_type": "display_data"
    },
    {
     "data": {
      "text/html": [
       "<code style='display:block; margin-top:-0.7em; font-family:Consolas,monospace'><b>Transfer-Encoding:</b> chunked</code>"
      ],
      "text/plain": [
       "<IPython.core.display.HTML object>"
      ]
     },
     "metadata": {},
     "output_type": "display_data"
    },
    {
     "data": {
      "text/html": [
       "<code style='display:block; margin-top:-0.7em; font-family:Consolas,monospace'><b>Connection:</b> keep-alive</code>"
      ],
      "text/plain": [
       "<IPython.core.display.HTML object>"
      ]
     },
     "metadata": {},
     "output_type": "display_data"
    },
    {
     "data": {
      "text/html": [
       "<code style='display:block; margin-top:-0.7em; font-family:Consolas,monospace'><b>Location:</b> http://www.ec-lyon.fr</code>"
      ],
      "text/plain": [
       "<IPython.core.display.HTML object>"
      ]
     },
     "metadata": {},
     "output_type": "display_data"
    },
    {
     "data": {
      "text/html": [
       "<code style='display:block; margin-top:-0.7em; font-family:Consolas,monospace'><b>CF-Ray:</b> 833e8081db9639c1-FRA</code>"
      ],
      "text/plain": [
       "<IPython.core.display.HTML object>"
      ]
     },
     "metadata": {},
     "output_type": "display_data"
    },
    {
     "data": {
      "text/html": [
       "<code style='display:block; margin-top:-0.7em; font-family:Consolas,monospace'><b>CF-Cache-Status:</b> DYNAMIC</code>"
      ],
      "text/plain": [
       "<IPython.core.display.HTML object>"
      ]
     },
     "metadata": {},
     "output_type": "display_data"
    },
    {
     "data": {
      "text/html": [
       "<code style='display:block; margin-top:-0.7em; font-family:Consolas,monospace'><b>ETag:</b> W/\"133-sEUfxJg3y3i6cDyuv2UQUl0iT14\"</code>"
      ],
      "text/plain": [
       "<IPython.core.display.HTML object>"
      ]
     },
     "metadata": {},
     "output_type": "display_data"
    },
    {
     "data": {
      "text/html": [
       "<code style='display:block; margin-top:-0.7em; font-family:Consolas,monospace'><b>Vary:</b> Accept-Encoding</code>"
      ],
      "text/plain": [
       "<IPython.core.display.HTML object>"
      ]
     },
     "metadata": {},
     "output_type": "display_data"
    },
    {
     "data": {
      "text/html": [
       "<code style='display:block; margin-top:-0.7em; font-family:Consolas,monospace'><b>rndr-id:</b> e1883dc0-afb3-4302</code>"
      ],
      "text/plain": [
       "<IPython.core.display.HTML object>"
      ]
     },
     "metadata": {},
     "output_type": "display_data"
    },
    {
     "data": {
      "text/html": [
       "<code style='display:block; margin-top:-0.7em; font-family:Consolas,monospace'><b>x-powered-by:</b> Express</code>"
      ],
      "text/plain": [
       "<IPython.core.display.HTML object>"
      ]
     },
     "metadata": {},
     "output_type": "display_data"
    },
    {
     "data": {
      "text/html": [
       "<code style='display:block; margin-top:-0.7em; font-family:Consolas,monospace'><b>x-render-origin-server:</b> Render</code>"
      ],
      "text/plain": [
       "<IPython.core.display.HTML object>"
      ]
     },
     "metadata": {},
     "output_type": "display_data"
    },
    {
     "data": {
      "text/html": [
       "<code style='display:block; margin-top:-0.7em; font-family:Consolas,monospace'><b>Server:</b> cloudflare</code>"
      ],
      "text/plain": [
       "<IPython.core.display.HTML object>"
      ]
     },
     "metadata": {},
     "output_type": "display_data"
    },
    {
     "data": {
      "text/html": [
       "<code style='display:block; margin-top:-0.7em; font-family:Consolas,monospace'><b>alt-svc:</b> h3=\":443\"; ma=86400</code>"
      ],
      "text/plain": [
       "<IPython.core.display.HTML object>"
      ]
     },
     "metadata": {},
     "output_type": "display_data"
    },
    {
     "data": {
      "text/html": [
       "<div style='padding:5px; border: 1px solid #ccc; border-radius:5px; box-shadow: 5px 5px 5px #ccc; margin:5px 0 10px 0; display: inline-block; min-width: 50%'><!DOCTYPE html>\r\n",
       "<html lang=\"fr\">\r\n",
       "<meta charset=\"utf-8\">\r\n",
       "\r\n",
       "<div style=\"font-family: Consolas,monospace\">\r\n",
       "<h1 style=\"margin-top:0; padding:0.1em 0.5em;background-color:#aaa;color:white\">302 - Moved Temporarily</h1>\r\n",
       "<p>Il faut aller voir <a href=\"http://www.ec-lyon.fr\">http://www.ec-lyon.fr</a>\r\n",
       "</div>\r\n",
       "</div>"
      ],
      "text/plain": [
       "<IPython.core.display.HTML object>"
      ]
     },
     "metadata": {},
     "output_type": "display_data"
    }
   ],
   "source": [
    "https_request('GET','mod95-be3.onrender.com','/found')"
   ]
  },
  {
   "cell_type": "markdown",
   "metadata": {},
   "source": [
    "On obtient un code de statut HTTP 302, également connu sous le nom de 302 Moved Temporarily, est utilisé pour indiquer une redirection temporaire d'une URL. Contrairement à un 301 Moved Permanently, un 302 n'indique pas un changement permanent de l'URL.\n",
    "\n",
    "Fonctionnement du Code de Statut 302 Redirection Temporaire : Lorsqu'un serveur renvoie un 302, il informe le client que la ressource demandée est temporairement disponible à une autre URL. Cette redirection est considérée comme temporaire, ce qui signifie que l'URL originale est toujours considérée comme valide.\n",
    "\n",
    "En-tête Location : Tout comme avec les autres types de redirections, un 302 est accompagné d'un en-tête Location qui indique l'URL temporaire où la ressource peut être trouvée. Le navigateur redirige automatiquement l'utilisateur vers cette nouvelle URL.\n",
    "\n",
    "Conservation de la Méthode de Requête : Normalement, la méthode de la requête (comme GET ou POST) est conservée lors de la redirection."
   ]
  },
  {
   "cell_type": "code",
   "execution_count": 31,
   "metadata": {
    "collapsed": false,
    "jupyter": {
     "outputs_hidden": false
    },
    "util.bundle": "correcteur"
   },
   "outputs": [
    {
     "data": {
      "text/html": [
       "<code style='font-family:Consolas,monospace; display:block; margin-top: 5px; border-bottom:1px solid #ccc'><span style='font-weight:bold;color:#008'>307</span> - Temporary Redirect</code>"
      ],
      "text/plain": [
       "<IPython.core.display.HTML object>"
      ]
     },
     "metadata": {},
     "output_type": "display_data"
    },
    {
     "data": {
      "text/html": [
       "<code style='display:block; margin-top:-0.7em; font-family:Consolas,monospace'><b>Date:</b> Mon, 11 Dec 2023 14:44:14 GMT</code>"
      ],
      "text/plain": [
       "<IPython.core.display.HTML object>"
      ]
     },
     "metadata": {},
     "output_type": "display_data"
    },
    {
     "data": {
      "text/html": [
       "<code style='display:block; margin-top:-0.7em; font-family:Consolas,monospace'><b>Content-Type:</b> text/html; charset=utf-8</code>"
      ],
      "text/plain": [
       "<IPython.core.display.HTML object>"
      ]
     },
     "metadata": {},
     "output_type": "display_data"
    },
    {
     "data": {
      "text/html": [
       "<code style='display:block; margin-top:-0.7em; font-family:Consolas,monospace'><b>Transfer-Encoding:</b> chunked</code>"
      ],
      "text/plain": [
       "<IPython.core.display.HTML object>"
      ]
     },
     "metadata": {},
     "output_type": "display_data"
    },
    {
     "data": {
      "text/html": [
       "<code style='display:block; margin-top:-0.7em; font-family:Consolas,monospace'><b>Connection:</b> keep-alive</code>"
      ],
      "text/plain": [
       "<IPython.core.display.HTML object>"
      ]
     },
     "metadata": {},
     "output_type": "display_data"
    },
    {
     "data": {
      "text/html": [
       "<code style='display:block; margin-top:-0.7em; font-family:Consolas,monospace'><b>Location:</b> http://www.ec-lyon.fr</code>"
      ],
      "text/plain": [
       "<IPython.core.display.HTML object>"
      ]
     },
     "metadata": {},
     "output_type": "display_data"
    },
    {
     "data": {
      "text/html": [
       "<code style='display:block; margin-top:-0.7em; font-family:Consolas,monospace'><b>CF-Ray:</b> 833e81242ef31c3e-FRA</code>"
      ],
      "text/plain": [
       "<IPython.core.display.HTML object>"
      ]
     },
     "metadata": {},
     "output_type": "display_data"
    },
    {
     "data": {
      "text/html": [
       "<code style='display:block; margin-top:-0.7em; font-family:Consolas,monospace'><b>CF-Cache-Status:</b> DYNAMIC</code>"
      ],
      "text/plain": [
       "<IPython.core.display.HTML object>"
      ]
     },
     "metadata": {},
     "output_type": "display_data"
    },
    {
     "data": {
      "text/html": [
       "<code style='display:block; margin-top:-0.7em; font-family:Consolas,monospace'><b>ETag:</b> W/\"134-YHEEA1xHwFqYK5I7RwFxXZY/kSs\"</code>"
      ],
      "text/plain": [
       "<IPython.core.display.HTML object>"
      ]
     },
     "metadata": {},
     "output_type": "display_data"
    },
    {
     "data": {
      "text/html": [
       "<code style='display:block; margin-top:-0.7em; font-family:Consolas,monospace'><b>Vary:</b> Accept-Encoding</code>"
      ],
      "text/plain": [
       "<IPython.core.display.HTML object>"
      ]
     },
     "metadata": {},
     "output_type": "display_data"
    },
    {
     "data": {
      "text/html": [
       "<code style='display:block; margin-top:-0.7em; font-family:Consolas,monospace'><b>rndr-id:</b> 48b00f6f-b96a-467f</code>"
      ],
      "text/plain": [
       "<IPython.core.display.HTML object>"
      ]
     },
     "metadata": {},
     "output_type": "display_data"
    },
    {
     "data": {
      "text/html": [
       "<code style='display:block; margin-top:-0.7em; font-family:Consolas,monospace'><b>x-powered-by:</b> Express</code>"
      ],
      "text/plain": [
       "<IPython.core.display.HTML object>"
      ]
     },
     "metadata": {},
     "output_type": "display_data"
    },
    {
     "data": {
      "text/html": [
       "<code style='display:block; margin-top:-0.7em; font-family:Consolas,monospace'><b>x-render-origin-server:</b> Render</code>"
      ],
      "text/plain": [
       "<IPython.core.display.HTML object>"
      ]
     },
     "metadata": {},
     "output_type": "display_data"
    },
    {
     "data": {
      "text/html": [
       "<code style='display:block; margin-top:-0.7em; font-family:Consolas,monospace'><b>Server:</b> cloudflare</code>"
      ],
      "text/plain": [
       "<IPython.core.display.HTML object>"
      ]
     },
     "metadata": {},
     "output_type": "display_data"
    },
    {
     "data": {
      "text/html": [
       "<code style='display:block; margin-top:-0.7em; font-family:Consolas,monospace'><b>alt-svc:</b> h3=\":443\"; ma=86400</code>"
      ],
      "text/plain": [
       "<IPython.core.display.HTML object>"
      ]
     },
     "metadata": {},
     "output_type": "display_data"
    },
    {
     "data": {
      "text/html": [
       "<div style='padding:5px; border: 1px solid #ccc; border-radius:5px; box-shadow: 5px 5px 5px #ccc; margin:5px 0 10px 0; display: inline-block; min-width: 50%'><!DOCTYPE html>\r\n",
       "<html lang=\"fr\">\r\n",
       "<meta charset=\"utf-8\">\r\n",
       "\r\n",
       "<div style=\"font-family: Consolas,monospace\">\r\n",
       "<h1 style=\"margin-top:0; padding:0.1em 0.5em;background-color:#aaa;color:white\">307 - Temporary Redirect</h1>\r\n",
       "<p>Il faut aller voir <a href=\"http://www.ec-lyon.fr\">http://www.ec-lyon.fr</a>\r\n",
       "</div>\r\n",
       "</div>"
      ],
      "text/plain": [
       "<IPython.core.display.HTML object>"
      ]
     },
     "metadata": {},
     "output_type": "display_data"
    }
   ],
   "source": [
    "https_request('GET','mod95-be3.onrender.com','/temp')"
   ]
  },
  {
   "cell_type": "markdown",
   "metadata": {},
   "source": [
    "Le code de statut HTTP 307 Temporary Redirect est utilisé pour indiquer qu'une ressource demandée a été temporairement déplacée vers une autre URL, avec la particularité de préserver la méthode HTTP originale (comme GET ou POST) lors de la redirection. Contrairement au 302 Found, où certains navigateurs peuvent changer une requête POST en GET, un 307 garantit que la méthode et le corps de la requête restent inchangés lors du suivi de la redirection. Cela le rend idéal pour des situations où il est important de maintenir la méthode de la requête originale, comme dans les formulaires web ou d'autres interactions où les données doivent être conservées. L'en-tête Location dans la réponse indique l'URL temporaire de redirection. Les navigateurs redirigent automatiquement l'utilisateur vers cette nouvelle adresse, mais les utilisateurs et les applications doivent être conscients que la redirection est temporaire et que l'URL originale pourrait redevenir valide à l'avenir."
   ]
  },
  {
   "cell_type": "markdown",
   "metadata": {},
   "source": [
    "<div style=\"background-color:#def;padding:5px 10px;margin-top: 5px;border-radius:3px\">\n",
    "__[4.5]__ - Ce type de redirection est utilisé par les portails captifs. Vérifier ceci en envoyant une requête\n",
    "vers la ressource <a href=\"https://campus.ec-lyon.fr\">https://campus.ec-lyon.fr</a>. Commenter le résultat obtenu et expliquer pourquoi ce type de réponse est approprié pour ces services.\n",
    "</div>"
   ]
  },
  {
   "cell_type": "code",
   "execution_count": 32,
   "metadata": {
    "collapsed": false,
    "jupyter": {
     "outputs_hidden": false
    },
    "util.bundle": "correcteur"
   },
   "outputs": [
    {
     "data": {
      "text/html": [
       "<code style='font-family:Consolas,monospace; display:block; margin-top: 5px; border-bottom:1px solid #ccc'><span style='font-weight:bold;color:#008'>302</span> - Déplacé Temporairement</code>"
      ],
      "text/plain": [
       "<IPython.core.display.HTML object>"
      ]
     },
     "metadata": {},
     "output_type": "display_data"
    },
    {
     "data": {
      "text/html": [
       "<code style='display:block; margin-top:-0.7em; font-family:Consolas,monospace'><b>Date:</b> Mon, 11 Dec 2023 15:00:38 GMT</code>"
      ],
      "text/plain": [
       "<IPython.core.display.HTML object>"
      ]
     },
     "metadata": {},
     "output_type": "display_data"
    },
    {
     "data": {
      "text/html": [
       "<code style='display:block; margin-top:-0.7em; font-family:Consolas,monospace'><b>Server:</b> Apache/2.4.10 (Debian)</code>"
      ],
      "text/plain": [
       "<IPython.core.display.HTML object>"
      ]
     },
     "metadata": {},
     "output_type": "display_data"
    },
    {
     "data": {
      "text/html": [
       "<code style='display:block; margin-top:-0.7em; font-family:Consolas,monospace'><b>Set-Cookie:</b> JSESSIONID=03145A0E36C2BBD8F8BA523E71AA4AF1; Path=/; Secure; HttpOnly</code>"
      ],
      "text/plain": [
       "<IPython.core.display.HTML object>"
      ]
     },
     "metadata": {},
     "output_type": "display_data"
    },
    {
     "data": {
      "text/html": [
       "<code style='display:block; margin-top:-0.7em; font-family:Consolas,monospace'><b>Location:</b> https://cas.ec-lyon.fr/login?service=https%3A%2F%2Fcampus.ec-lyon.fr%2Fservlet%2Fcom.jsbsoft.jtf.core.SG%3FPROC%3DIDENTIFICATION_FRONT</code>"
      ],
      "text/plain": [
       "<IPython.core.display.HTML object>"
      ]
     },
     "metadata": {},
     "output_type": "display_data"
    },
    {
     "data": {
      "text/html": [
       "<code style='display:block; margin-top:-0.7em; font-family:Consolas,monospace'><b>Content-Length:</b> 0</code>"
      ],
      "text/plain": [
       "<IPython.core.display.HTML object>"
      ]
     },
     "metadata": {},
     "output_type": "display_data"
    }
   ],
   "source": [
    "https_request('GET','campus.ec-lyon.fr','/')"
   ]
  },
  {
   "cell_type": "markdown",
   "metadata": {},
   "source": [
    "Mohamed Bouchafaa\n",
    "En cliquant sur la ressource on est redirigé vers le portail captif de centrale Lyon. Les portails captifs, souvent utilisés dans les réseaux Wi-Fi publics comme les hôtels, les écoles, les aéroports emploient le code de statut HTTP 307 Temporary Redirect pour plusieurs raisons pertinentes à leur fonctionnement :\n",
    "\n",
    "1. Conservation de la Méthode de Requête : Les portails captifs nécessitent souvent que les utilisateurs s'authentifient ou acceptent des conditions d'utilisation avant d'accéder à Internet. Le code 307 garantit que la méthode HTTP (comme GET ou POST) et les données de la requête initiale de l'utilisateur sont préservées pendant la redirection. Cela est crucial si l'utilisateur commence par une requête POST, par exemple, en soumettant un formulaire, car la modification de la méthode de requête pourrait entraîner la perte des données soumises.\n",
    "\n",
    "2. Redirection Temporaire : Le 307 est un mécanisme de redirection temporaire, ce qui est approprié pour les portails captifs car l'accès restreint au réseau est généralement temporaire. Une fois que l'utilisateur s'est authentifié ou a accepté les termes, il peut continuer à naviguer normalement.\n",
    "\n",
    "3. Préservation de l'URL Originale : Après l'authentification ou l'acceptation des conditions, les utilisateurs s'attendent généralement à être redirigés vers leur destination initiale. Le 307 aide à préserver l'URL d'origine, permettant ainsi une transition transparente pour l'utilisateur une fois les étapes du portail captif complétées."
   ]
  },
  {
   "cell_type": "markdown",
   "metadata": {},
   "source": [
    "<div style=\"background-color:#def;padding:5px 10px;margin-top: 5px;border-radius:3px\">\n",
    "__[4.6]__ - Voici un dernier exemple : <a href=\"http://mod95-be3.onrender.com/hello.html\">http://mod95-be3.onrender.com/hello.html</a>. Commenter.\n",
    "</div>"
   ]
  },
  {
   "cell_type": "code",
   "execution_count": 34,
   "metadata": {
    "collapsed": false,
    "jupyter": {
     "outputs_hidden": false
    },
    "util.bundle": "correcteur"
   },
   "outputs": [
    {
     "data": {
      "text/html": [
       "<code style='font-family:Consolas,monospace; display:block; margin-top: 5px; border-bottom:1px solid #ccc'><span style='font-weight:bold;color:#008'>301</span> - Moved Permanently</code>"
      ],
      "text/plain": [
       "<IPython.core.display.HTML object>"
      ]
     },
     "metadata": {},
     "output_type": "display_data"
    },
    {
     "data": {
      "text/html": [
       "<code style='display:block; margin-top:-0.7em; font-family:Consolas,monospace'><b>Date:</b> Mon, 11 Dec 2023 15:01:51 GMT</code>"
      ],
      "text/plain": [
       "<IPython.core.display.HTML object>"
      ]
     },
     "metadata": {},
     "output_type": "display_data"
    },
    {
     "data": {
      "text/html": [
       "<code style='display:block; margin-top:-0.7em; font-family:Consolas,monospace'><b>Content-Type:</b> text/html; charset=utf-8</code>"
      ],
      "text/plain": [
       "<IPython.core.display.HTML object>"
      ]
     },
     "metadata": {},
     "output_type": "display_data"
    },
    {
     "data": {
      "text/html": [
       "<code style='display:block; margin-top:-0.7em; font-family:Consolas,monospace'><b>Content-Length:</b> 76</code>"
      ],
      "text/plain": [
       "<IPython.core.display.HTML object>"
      ]
     },
     "metadata": {},
     "output_type": "display_data"
    },
    {
     "data": {
      "text/html": [
       "<code style='display:block; margin-top:-0.7em; font-family:Consolas,monospace'><b>Connection:</b> keep-alive</code>"
      ],
      "text/plain": [
       "<IPython.core.display.HTML object>"
      ]
     },
     "metadata": {},
     "output_type": "display_data"
    },
    {
     "data": {
      "text/html": [
       "<code style='display:block; margin-top:-0.7em; font-family:Consolas,monospace'><b>Location:</b> https://mod95-be3.onrender.com/hello.html</code>"
      ],
      "text/plain": [
       "<IPython.core.display.HTML object>"
      ]
     },
     "metadata": {},
     "output_type": "display_data"
    },
    {
     "data": {
      "text/html": [
       "<code style='display:block; margin-top:-0.7em; font-family:Consolas,monospace'><b>CF-Ray:</b> 833e9af71d678fce-FRA</code>"
      ],
      "text/plain": [
       "<IPython.core.display.HTML object>"
      ]
     },
     "metadata": {},
     "output_type": "display_data"
    },
    {
     "data": {
      "text/html": [
       "<code style='display:block; margin-top:-0.7em; font-family:Consolas,monospace'><b>CF-Cache-Status:</b> DYNAMIC</code>"
      ],
      "text/plain": [
       "<IPython.core.display.HTML object>"
      ]
     },
     "metadata": {},
     "output_type": "display_data"
    },
    {
     "data": {
      "text/html": [
       "<code style='display:block; margin-top:-0.7em; font-family:Consolas,monospace'><b>Vary:</b> Accept-Encoding</code>"
      ],
      "text/plain": [
       "<IPython.core.display.HTML object>"
      ]
     },
     "metadata": {},
     "output_type": "display_data"
    },
    {
     "data": {
      "text/html": [
       "<code style='display:block; margin-top:-0.7em; font-family:Consolas,monospace'><b>Server:</b> cloudflare</code>"
      ],
      "text/plain": [
       "<IPython.core.display.HTML object>"
      ]
     },
     "metadata": {},
     "output_type": "display_data"
    },
    {
     "data": {
      "text/html": [
       "<code style='display:block; margin-top:-0.7em; font-family:Consolas,monospace'><b>alt-svc:</b> h3=\":443\"; ma=86400</code>"
      ],
      "text/plain": [
       "<IPython.core.display.HTML object>"
      ]
     },
     "metadata": {},
     "output_type": "display_data"
    },
    {
     "data": {
      "text/html": [
       "<div style='padding:5px; border: 1px solid #ccc; border-radius:5px; box-shadow: 5px 5px 5px #ccc; margin:5px 0 10px 0; display: inline-block; min-width: 50%'><a href=\"https://mod95-be3.onrender.com/hello.html\">Moved Permanently</a>.\n",
       "\n",
       "</div>"
      ],
      "text/plain": [
       "<IPython.core.display.HTML object>"
      ]
     },
     "metadata": {},
     "output_type": "display_data"
    }
   ],
   "source": [
    "http_request('GET','mod95-be3.onrender.com','/hello.html')"
   ]
  },
  {
   "cell_type": "markdown",
   "metadata": {},
   "source": [
    "Ici, on est sur un cas de redirection d'une page qui fonctionnait à la base avec le protocole http et qu'on a redirigé vers la même page avec le protocole https."
   ]
  },
  {
   "cell_type": "markdown",
   "metadata": {},
   "source": [
    "<h4 style=\"font-size:150%;color:#06A;margin-bottom:1.33em;border-top:3px solid #7fb2d4; padding-top:0.5em\">5. Authentification.</h4>\n",
    "\n",
    "<div style=\"background-color:#def;padding:5px 10px;margin-top: 5px;border-radius:3px\">\n",
    "__[5.1]__ - La ressource <a href=\"https://mod95-be3.onrender.com/user.html\">user.html</a>\n",
    "est protégée avec un nom d'utilisateur et un mot de passe. Quelles sont les informations renvoyées par le serveur permettant au navigateur de gérer cette situation ? Comment réagit le navigateur ?\n",
    "</div>"
   ]
  },
  {
   "cell_type": "code",
   "execution_count": 36,
   "metadata": {
    "collapsed": false,
    "jupyter": {
     "outputs_hidden": false
    },
    "util.bundle": "correcteur"
   },
   "outputs": [
    {
     "data": {
      "text/html": [
       "<code style='font-family:Consolas,monospace; display:block; margin-top: 5px; border-bottom:1px solid #ccc'><span style='font-weight:bold;color:#008'>401</span> - Unauthorized</code>"
      ],
      "text/plain": [
       "<IPython.core.display.HTML object>"
      ]
     },
     "metadata": {},
     "output_type": "display_data"
    },
    {
     "data": {
      "text/html": [
       "<code style='display:block; margin-top:-0.7em; font-family:Consolas,monospace'><b>Date:</b> Mon, 11 Dec 2023 15:16:31 GMT</code>"
      ],
      "text/plain": [
       "<IPython.core.display.HTML object>"
      ]
     },
     "metadata": {},
     "output_type": "display_data"
    },
    {
     "data": {
      "text/html": [
       "<code style='display:block; margin-top:-0.7em; font-family:Consolas,monospace'><b>Content-Type:</b> text/html; charset=utf-8</code>"
      ],
      "text/plain": [
       "<IPython.core.display.HTML object>"
      ]
     },
     "metadata": {},
     "output_type": "display_data"
    },
    {
     "data": {
      "text/html": [
       "<code style='display:block; margin-top:-0.7em; font-family:Consolas,monospace'><b>Transfer-Encoding:</b> chunked</code>"
      ],
      "text/plain": [
       "<IPython.core.display.HTML object>"
      ]
     },
     "metadata": {},
     "output_type": "display_data"
    },
    {
     "data": {
      "text/html": [
       "<code style='display:block; margin-top:-0.7em; font-family:Consolas,monospace'><b>Connection:</b> keep-alive</code>"
      ],
      "text/plain": [
       "<IPython.core.display.HTML object>"
      ]
     },
     "metadata": {},
     "output_type": "display_data"
    },
    {
     "data": {
      "text/html": [
       "<code style='display:block; margin-top:-0.7em; font-family:Consolas,monospace'><b>CF-Ray:</b> 833eb06d9eda5d7c-FRA</code>"
      ],
      "text/plain": [
       "<IPython.core.display.HTML object>"
      ]
     },
     "metadata": {},
     "output_type": "display_data"
    },
    {
     "data": {
      "text/html": [
       "<code style='display:block; margin-top:-0.7em; font-family:Consolas,monospace'><b>CF-Cache-Status:</b> DYNAMIC</code>"
      ],
      "text/plain": [
       "<IPython.core.display.HTML object>"
      ]
     },
     "metadata": {},
     "output_type": "display_data"
    },
    {
     "data": {
      "text/html": [
       "<code style='display:block; margin-top:-0.7em; font-family:Consolas,monospace'><b>ETag:</b> W/\"10f-y4wdLSa8p9c5VZ8SORy3kZHNLOk\"</code>"
      ],
      "text/plain": [
       "<IPython.core.display.HTML object>"
      ]
     },
     "metadata": {},
     "output_type": "display_data"
    },
    {
     "data": {
      "text/html": [
       "<code style='display:block; margin-top:-0.7em; font-family:Consolas,monospace'><b>Vary:</b> Accept-Encoding</code>"
      ],
      "text/plain": [
       "<IPython.core.display.HTML object>"
      ]
     },
     "metadata": {},
     "output_type": "display_data"
    },
    {
     "data": {
      "text/html": [
       "<code style='display:block; margin-top:-0.7em; font-family:Consolas,monospace'><b>WWW-Authenticate:</b> Basic realm=\"BE-HTTP\"</code>"
      ],
      "text/plain": [
       "<IPython.core.display.HTML object>"
      ]
     },
     "metadata": {},
     "output_type": "display_data"
    },
    {
     "data": {
      "text/html": [
       "<code style='display:block; margin-top:-0.7em; font-family:Consolas,monospace'><b>rndr-id:</b> 8255b19e-f241-4234</code>"
      ],
      "text/plain": [
       "<IPython.core.display.HTML object>"
      ]
     },
     "metadata": {},
     "output_type": "display_data"
    },
    {
     "data": {
      "text/html": [
       "<code style='display:block; margin-top:-0.7em; font-family:Consolas,monospace'><b>x-powered-by:</b> Express</code>"
      ],
      "text/plain": [
       "<IPython.core.display.HTML object>"
      ]
     },
     "metadata": {},
     "output_type": "display_data"
    },
    {
     "data": {
      "text/html": [
       "<code style='display:block; margin-top:-0.7em; font-family:Consolas,monospace'><b>x-render-origin-server:</b> Render</code>"
      ],
      "text/plain": [
       "<IPython.core.display.HTML object>"
      ]
     },
     "metadata": {},
     "output_type": "display_data"
    },
    {
     "data": {
      "text/html": [
       "<code style='display:block; margin-top:-0.7em; font-family:Consolas,monospace'><b>Server:</b> cloudflare</code>"
      ],
      "text/plain": [
       "<IPython.core.display.HTML object>"
      ]
     },
     "metadata": {},
     "output_type": "display_data"
    },
    {
     "data": {
      "text/html": [
       "<code style='display:block; margin-top:-0.7em; font-family:Consolas,monospace'><b>alt-svc:</b> h3=\":443\"; ma=86400</code>"
      ],
      "text/plain": [
       "<IPython.core.display.HTML object>"
      ]
     },
     "metadata": {},
     "output_type": "display_data"
    },
    {
     "data": {
      "text/html": [
       "<div style='padding:5px; border: 1px solid #ccc; border-radius:5px; box-shadow: 5px 5px 5px #ccc; margin:5px 0 10px 0; display: inline-block; min-width: 50%'><!DOCTYPE html>\r\n",
       "<html lang=\"fr\">\r\n",
       "<meta charset=\"utf-8\">\r\n",
       "\r\n",
       "<div style=\"font-family: Consolas,monospace\">\r\n",
       "<h1 style=\"margin-top:0; padding:0.1em 0.5em;background-color:#066;color:white\">401 - Authorization Required</h1>\r\n",
       "<p>Document protégé par mot de passe\r\n",
       "</div>\r\n",
       "</div>"
      ],
      "text/plain": [
       "<IPython.core.display.HTML object>"
      ]
     },
     "metadata": {},
     "output_type": "display_data"
    }
   ],
   "source": [
    "https_request('GET','mod95-be3.onrender.com','/user.html')"
   ]
  },
  {
   "cell_type": "markdown",
   "metadata": {},
   "source": [
    "Afin que le navigateur gère cette stiuation il reçoit l'encodage pour l'authentification : ici on a : WWW-Authenticate: Basic realm=\"BE-HTTP\"\n",
    "\n",
    "Lorsque que le navigateur recoit le statut 401 il affiche un pop-up afin que l'user s'identifie."
   ]
  },
  {
   "cell_type": "markdown",
   "metadata": {},
   "source": [
    "<div style=\"background-color:#def;padding:5px 10px;margin-top: 5px;border-radius:3px\">\n",
    "__[5.2]__ - Le nom d'utilisateur et le mot de passe permettant d'accéder à la ressource\n",
    "<a href=\"https://mod95-be3.onrender.com/user.html\">user.html</a> sont respectivement\n",
    "<code>be-http</code> et <code>cool!</code>. Indiquer quelle est la directive à ajouter à la requête pour accéder à cette ressource, et comment est construite la valeur transmise au serveur."
   ]
  },
  {
   "cell_type": "markdown",
   "metadata": {
    "collapsed": false,
    "jupyter": {
     "outputs_hidden": false
    }
   },
   "source": [
    "Ici, il faut encoder le login et le password en base 64 sous la forme suivante : base64(login:pwd). \n",
    "\n",
    "Ensuite il ne reste plus qu'à ajouter la directive suivante : Authorization : Basic base64(login:pwd)"
   ]
  },
  {
   "cell_type": "markdown",
   "metadata": {},
   "source": [
    "<div style=\"background-color:#def;padding:5px 10px;margin-top: 5px;border-radius:3px\">\n",
    "__[5.3]__ -  Le module Python nommé base64 permet d'encoder des chaînes de caractères en base64. Après vous être documenté sur la façon d'utiliser ce module, déterminer quelle est l'entête exacte permettant au navigateur d'obtenir la ressource protégée, et vérifier à l'aide d'une requête que cela fonctionne."
   ]
  },
  {
   "cell_type": "code",
   "execution_count": 45,
   "metadata": {
    "collapsed": false,
    "jupyter": {
     "outputs_hidden": false
    },
    "util.bundle": "correcteur"
   },
   "outputs": [
    {
     "data": {
      "text/html": [
       "<code style='font-family:Consolas,monospace; display:block; margin-top: 5px; border-bottom:1px solid #ccc'><span style='font-weight:bold;color:#008'>200</span> - OK</code>"
      ],
      "text/plain": [
       "<IPython.core.display.HTML object>"
      ]
     },
     "metadata": {},
     "output_type": "display_data"
    },
    {
     "data": {
      "text/html": [
       "<code style='display:block; margin-top:-0.7em; font-family:Consolas,monospace'><b>Date:</b> Mon, 11 Dec 2023 15:36:05 GMT</code>"
      ],
      "text/plain": [
       "<IPython.core.display.HTML object>"
      ]
     },
     "metadata": {},
     "output_type": "display_data"
    },
    {
     "data": {
      "text/html": [
       "<code style='display:block; margin-top:-0.7em; font-family:Consolas,monospace'><b>Content-Type:</b> text/html; charset=UTF-8</code>"
      ],
      "text/plain": [
       "<IPython.core.display.HTML object>"
      ]
     },
     "metadata": {},
     "output_type": "display_data"
    },
    {
     "data": {
      "text/html": [
       "<code style='display:block; margin-top:-0.7em; font-family:Consolas,monospace'><b>Transfer-Encoding:</b> chunked</code>"
      ],
      "text/plain": [
       "<IPython.core.display.HTML object>"
      ]
     },
     "metadata": {},
     "output_type": "display_data"
    },
    {
     "data": {
      "text/html": [
       "<code style='display:block; margin-top:-0.7em; font-family:Consolas,monospace'><b>Connection:</b> keep-alive</code>"
      ],
      "text/plain": [
       "<IPython.core.display.HTML object>"
      ]
     },
     "metadata": {},
     "output_type": "display_data"
    },
    {
     "data": {
      "text/html": [
       "<code style='display:block; margin-top:-0.7em; font-family:Consolas,monospace'><b>CF-Ray:</b> 833ecd1bccf99ba1-FRA</code>"
      ],
      "text/plain": [
       "<IPython.core.display.HTML object>"
      ]
     },
     "metadata": {},
     "output_type": "display_data"
    },
    {
     "data": {
      "text/html": [
       "<code style='display:block; margin-top:-0.7em; font-family:Consolas,monospace'><b>CF-Cache-Status:</b> DYNAMIC</code>"
      ],
      "text/plain": [
       "<IPython.core.display.HTML object>"
      ]
     },
     "metadata": {},
     "output_type": "display_data"
    },
    {
     "data": {
      "text/html": [
       "<code style='display:block; margin-top:-0.7em; font-family:Consolas,monospace'><b>Cache-Control:</b> public, max-age=0</code>"
      ],
      "text/plain": [
       "<IPython.core.display.HTML object>"
      ]
     },
     "metadata": {},
     "output_type": "display_data"
    },
    {
     "data": {
      "text/html": [
       "<code style='display:block; margin-top:-0.7em; font-family:Consolas,monospace'><b>ETag:</b> W/\"16f-187dd542520\"</code>"
      ],
      "text/plain": [
       "<IPython.core.display.HTML object>"
      ]
     },
     "metadata": {},
     "output_type": "display_data"
    },
    {
     "data": {
      "text/html": [
       "<code style='display:block; margin-top:-0.7em; font-family:Consolas,monospace'><b>Last-Modified:</b> Tue, 02 May 2023 16:38:12 GMT</code>"
      ],
      "text/plain": [
       "<IPython.core.display.HTML object>"
      ]
     },
     "metadata": {},
     "output_type": "display_data"
    },
    {
     "data": {
      "text/html": [
       "<code style='display:block; margin-top:-0.7em; font-family:Consolas,monospace'><b>Vary:</b> Accept-Encoding</code>"
      ],
      "text/plain": [
       "<IPython.core.display.HTML object>"
      ]
     },
     "metadata": {},
     "output_type": "display_data"
    },
    {
     "data": {
      "text/html": [
       "<code style='display:block; margin-top:-0.7em; font-family:Consolas,monospace'><b>rndr-id:</b> 012a84fe-4e9d-4f27</code>"
      ],
      "text/plain": [
       "<IPython.core.display.HTML object>"
      ]
     },
     "metadata": {},
     "output_type": "display_data"
    },
    {
     "data": {
      "text/html": [
       "<code style='display:block; margin-top:-0.7em; font-family:Consolas,monospace'><b>x-powered-by:</b> Express</code>"
      ],
      "text/plain": [
       "<IPython.core.display.HTML object>"
      ]
     },
     "metadata": {},
     "output_type": "display_data"
    },
    {
     "data": {
      "text/html": [
       "<code style='display:block; margin-top:-0.7em; font-family:Consolas,monospace'><b>x-render-origin-server:</b> Render</code>"
      ],
      "text/plain": [
       "<IPython.core.display.HTML object>"
      ]
     },
     "metadata": {},
     "output_type": "display_data"
    },
    {
     "data": {
      "text/html": [
       "<code style='display:block; margin-top:-0.7em; font-family:Consolas,monospace'><b>Server:</b> cloudflare</code>"
      ],
      "text/plain": [
       "<IPython.core.display.HTML object>"
      ]
     },
     "metadata": {},
     "output_type": "display_data"
    },
    {
     "data": {
      "text/html": [
       "<code style='display:block; margin-top:-0.7em; font-family:Consolas,monospace'><b>alt-svc:</b> h3=\":443\"; ma=86400</code>"
      ],
      "text/plain": [
       "<IPython.core.display.HTML object>"
      ]
     },
     "metadata": {},
     "output_type": "display_data"
    },
    {
     "data": {
      "text/html": [
       "<div style='padding:5px; border: 1px solid #ccc; border-radius:5px; box-shadow: 5px 5px 5px #ccc; margin:5px 0 10px 0; display: inline-block; min-width: 50%'><!DOCTYPE html>\r\n",
       "<html lang=\"fr\">\r\n",
       "<meta charset=\"utf-8\">\r\n",
       "<title>Document protégé via Basic</title>\r\n",
       "<h2 style=\"margin-top:0;color:#8cc\">Document protégé via Basic</h2>\r\n",
       "<p>Ce document est protégé à l'aide du nom d'utilisateur 'be-http' avec le mot de passe 'cool!'</p>\r\n",
       "<p>Si vous voyez ce message c'est que vous vous êtes correctement authentifié.</p>\r\n",
       "\r\n",
       "</div>"
      ],
      "text/plain": [
       "<IPython.core.display.HTML object>"
      ]
     },
     "metadata": {},
     "output_type": "display_data"
    }
   ],
   "source": [
    "import base64\n",
    "\n",
    "c = base64.b64encode('be-http:cool!'.encode('utf-8')).decode()\n",
    "\n",
    "https_request('GET','mod95-be3.onrender.com','/user.html', headers ={\n",
    "    'Authorization' : f'Basic {c}'\n",
    "})"
   ]
  },
  {
   "cell_type": "markdown",
   "metadata": {},
   "source": [
    "<div style=\"background-color:#def;padding:5px 10px;margin-top: 5px;border-radius:3px\">\n",
    "__[5.4]__ - Donner votre avis quant au niveau de sécurité apporté par la méthode d'authentification Basic, et des exemples de contexte dans lequel il est tout de même acceptable de l'utiliser.\n",
    "</div>"
   ]
  },
  {
   "cell_type": "markdown",
   "metadata": {},
   "source": [
    "La méthode d'authentification \"Basic\" n'est pas considérée comme sécurisée pour la plupart des applications modernes, en particulier lorsque des informations sensibles doivent être protégées. Elle transmet les informations d'identification (nom d'utilisateur et mot de passe) sous forme de texte brut, ce qui les rend vulnérables aux interceptions par des acteurs malveillants, notamment en cas d'utilisation de réseaux non sécurisés comme HTTP, ou lorsque des acteurs siphonnent les paquets tranmsmis par wifi. Par conséquent, elle ne devrait pas être utilisée pour les applications où la sécurité est une préoccupation majeure."
   ]
  },
  {
   "cell_type": "markdown",
   "metadata": {},
   "source": [
    "<div style=\"background-color:#def;padding:5px 10px;margin-top: 5px;border-radius:3px\">\n",
    "__[5.5]__ - Le lien <a href=\"https://mod95-be3.onrender.com/401/basic\">logout</a>\n",
    "permet de se déconnecter et oblige l'utilisateur à fournir à nouveau le mot de passe lors de l'accès suivant\n",
    "à la ressource <a href=\"https://mod95-be3.onrender.com/user.html\">user.html</a>.\n",
    "Expliquer ce que fait le serveur pour arriver à ce résultat.\n",
    "</div>"
   ]
  },
  {
   "cell_type": "code",
   "execution_count": 69,
   "metadata": {
    "collapsed": false,
    "jupyter": {
     "outputs_hidden": false
    },
    "util.bundle": "correcteur"
   },
   "outputs": [
    {
     "data": {
      "text/html": [
       "<code style='font-family:Consolas,monospace; display:block; margin-top: 5px; border-bottom:1px solid #ccc'><span style='font-weight:bold;color:#008'>401</span> - Unauthorized</code>"
      ],
      "text/plain": [
       "<IPython.core.display.HTML object>"
      ]
     },
     "metadata": {},
     "output_type": "display_data"
    },
    {
     "data": {
      "text/html": [
       "<code style='display:block; margin-top:-0.7em; font-family:Consolas,monospace'><b>Date:</b> Mon, 11 Dec 2023 16:07:27 GMT</code>"
      ],
      "text/plain": [
       "<IPython.core.display.HTML object>"
      ]
     },
     "metadata": {},
     "output_type": "display_data"
    },
    {
     "data": {
      "text/html": [
       "<code style='display:block; margin-top:-0.7em; font-family:Consolas,monospace'><b>Content-Type:</b> text/html; charset=utf-8</code>"
      ],
      "text/plain": [
       "<IPython.core.display.HTML object>"
      ]
     },
     "metadata": {},
     "output_type": "display_data"
    },
    {
     "data": {
      "text/html": [
       "<code style='display:block; margin-top:-0.7em; font-family:Consolas,monospace'><b>Transfer-Encoding:</b> chunked</code>"
      ],
      "text/plain": [
       "<IPython.core.display.HTML object>"
      ]
     },
     "metadata": {},
     "output_type": "display_data"
    },
    {
     "data": {
      "text/html": [
       "<code style='display:block; margin-top:-0.7em; font-family:Consolas,monospace'><b>Connection:</b> keep-alive</code>"
      ],
      "text/plain": [
       "<IPython.core.display.HTML object>"
      ]
     },
     "metadata": {},
     "output_type": "display_data"
    },
    {
     "data": {
      "text/html": [
       "<code style='display:block; margin-top:-0.7em; font-family:Consolas,monospace'><b>CF-Ray:</b> 833efb0b7ad41961-FRA</code>"
      ],
      "text/plain": [
       "<IPython.core.display.HTML object>"
      ]
     },
     "metadata": {},
     "output_type": "display_data"
    },
    {
     "data": {
      "text/html": [
       "<code style='display:block; margin-top:-0.7em; font-family:Consolas,monospace'><b>CF-Cache-Status:</b> DYNAMIC</code>"
      ],
      "text/plain": [
       "<IPython.core.display.HTML object>"
      ]
     },
     "metadata": {},
     "output_type": "display_data"
    },
    {
     "data": {
      "text/html": [
       "<code style='display:block; margin-top:-0.7em; font-family:Consolas,monospace'><b>ETag:</b> W/\"10f-y4wdLSa8p9c5VZ8SORy3kZHNLOk\"</code>"
      ],
      "text/plain": [
       "<IPython.core.display.HTML object>"
      ]
     },
     "metadata": {},
     "output_type": "display_data"
    },
    {
     "data": {
      "text/html": [
       "<code style='display:block; margin-top:-0.7em; font-family:Consolas,monospace'><b>Vary:</b> Accept-Encoding</code>"
      ],
      "text/plain": [
       "<IPython.core.display.HTML object>"
      ]
     },
     "metadata": {},
     "output_type": "display_data"
    },
    {
     "data": {
      "text/html": [
       "<code style='display:block; margin-top:-0.7em; font-family:Consolas,monospace'><b>WWW-Authenticate:</b> Basic realm=\"BE-HTTP\"</code>"
      ],
      "text/plain": [
       "<IPython.core.display.HTML object>"
      ]
     },
     "metadata": {},
     "output_type": "display_data"
    },
    {
     "data": {
      "text/html": [
       "<code style='display:block; margin-top:-0.7em; font-family:Consolas,monospace'><b>rndr-id:</b> c87e956f-d0c1-41a5</code>"
      ],
      "text/plain": [
       "<IPython.core.display.HTML object>"
      ]
     },
     "metadata": {},
     "output_type": "display_data"
    },
    {
     "data": {
      "text/html": [
       "<code style='display:block; margin-top:-0.7em; font-family:Consolas,monospace'><b>x-powered-by:</b> Express</code>"
      ],
      "text/plain": [
       "<IPython.core.display.HTML object>"
      ]
     },
     "metadata": {},
     "output_type": "display_data"
    },
    {
     "data": {
      "text/html": [
       "<code style='display:block; margin-top:-0.7em; font-family:Consolas,monospace'><b>x-render-origin-server:</b> Render</code>"
      ],
      "text/plain": [
       "<IPython.core.display.HTML object>"
      ]
     },
     "metadata": {},
     "output_type": "display_data"
    },
    {
     "data": {
      "text/html": [
       "<code style='display:block; margin-top:-0.7em; font-family:Consolas,monospace'><b>Server:</b> cloudflare</code>"
      ],
      "text/plain": [
       "<IPython.core.display.HTML object>"
      ]
     },
     "metadata": {},
     "output_type": "display_data"
    },
    {
     "data": {
      "text/html": [
       "<code style='display:block; margin-top:-0.7em; font-family:Consolas,monospace'><b>alt-svc:</b> h3=\":443\"; ma=86400</code>"
      ],
      "text/plain": [
       "<IPython.core.display.HTML object>"
      ]
     },
     "metadata": {},
     "output_type": "display_data"
    },
    {
     "data": {
      "text/html": [
       "<div style='padding:5px; border: 1px solid #ccc; border-radius:5px; box-shadow: 5px 5px 5px #ccc; margin:5px 0 10px 0; display: inline-block; min-width: 50%'><!DOCTYPE html>\r\n",
       "<html lang=\"fr\">\r\n",
       "<meta charset=\"utf-8\">\r\n",
       "\r\n",
       "<div style=\"font-family: Consolas,monospace\">\r\n",
       "<h1 style=\"margin-top:0; padding:0.1em 0.5em;background-color:#066;color:white\">401 - Authorization Required</h1>\r\n",
       "<p>Document protégé par mot de passe\r\n",
       "</div>\r\n",
       "</div>"
      ],
      "text/plain": [
       "<IPython.core.display.HTML object>"
      ]
     },
     "metadata": {},
     "output_type": "display_data"
    }
   ],
   "source": [
    "https_request('GET','mod95-be3.onrender.com','/401/basic')"
   ]
  },
  {
   "cell_type": "markdown",
   "metadata": {},
   "source": [
    "Lors du click sur le lien logout voici les étapes que le serveur réalise : \n",
    "\n",
    "1. Invalidation de la session : Afin de suivre \"l'état de connexion de l'utilisateur\" les applications web passent par des session (sessionStorage, localeStorage etc..) pour suivre l'état de l'utilisateur après son authentification. Lorsque vous cliquez sur \"logout\", le serveur invalide généralement la session associée à votre identité. Cela signifie que toutes les données de session stockées, y compris les informations d'authentification, sont effacées. Ce qui implique qu'au renvoie d'une requete HTTP au serveur, l'utilisateur ne sera plus considéré comme authentifié (d'où le \"deconnexion\").\n",
    "\n",
    "2. destruction du cookie de session : Si le serveur utilise des cookies de session pour maintenir la session de l'utilisateur, il supprime également le cookie de session du navigateur de l'utilisateur. Cela empêche le navigateur de transmettre automatiquement l'identifiant de session lors des futures requêtes, forçant ainsi l'utilisateur à s'authentifier à nouveau.\n",
    "\n",
    "3. Redirection vers la page d'authentification : Après avoir invalidé la session et détruit le cookie de session, le serveur redirige généralement l'utilisateur vers la page d'authentification. Auquel cas l'utilisateur n'aura plus accès aux données protégées par une authentification."
   ]
  },
  {
   "cell_type": "markdown",
   "metadata": {},
   "source": [
    "<div style=\"background-color:#def;padding:5px 10px;margin-top: 5px;border-radius:3px\">\n",
    "__[5.6]__ - La ressource <a href=\"https://mod95-be3.onrender.com/digest.html\">digest.html</a> est protégée avec la méthode d'authentification Digest. Le nom d'utilisateur et le mot de passe sont les mêmes que précédemment. Décrire les nouveaux éléments dans la réponse du serveur.\n",
    "</div>"
   ]
  },
  {
   "cell_type": "code",
   "execution_count": 66,
   "metadata": {
    "collapsed": false,
    "jupyter": {
     "outputs_hidden": false
    },
    "util.bundle": "correcteur"
   },
   "outputs": [
    {
     "data": {
      "text/html": [
       "<code style='font-family:Consolas,monospace; display:block; margin-top: 5px; border-bottom:1px solid #ccc'><span style='font-weight:bold;color:#008'>401</span> - Unauthorized</code>"
      ],
      "text/plain": [
       "<IPython.core.display.HTML object>"
      ]
     },
     "metadata": {},
     "output_type": "display_data"
    },
    {
     "data": {
      "text/html": [
       "<code style='display:block; margin-top:-0.7em; font-family:Consolas,monospace'><b>Date:</b> Mon, 11 Dec 2023 16:06:43 GMT</code>"
      ],
      "text/plain": [
       "<IPython.core.display.HTML object>"
      ]
     },
     "metadata": {},
     "output_type": "display_data"
    },
    {
     "data": {
      "text/html": [
       "<code style='display:block; margin-top:-0.7em; font-family:Consolas,monospace'><b>Content-Type:</b> text/html; charset=utf-8</code>"
      ],
      "text/plain": [
       "<IPython.core.display.HTML object>"
      ]
     },
     "metadata": {},
     "output_type": "display_data"
    },
    {
     "data": {
      "text/html": [
       "<code style='display:block; margin-top:-0.7em; font-family:Consolas,monospace'><b>Transfer-Encoding:</b> chunked</code>"
      ],
      "text/plain": [
       "<IPython.core.display.HTML object>"
      ]
     },
     "metadata": {},
     "output_type": "display_data"
    },
    {
     "data": {
      "text/html": [
       "<code style='display:block; margin-top:-0.7em; font-family:Consolas,monospace'><b>Connection:</b> keep-alive</code>"
      ],
      "text/plain": [
       "<IPython.core.display.HTML object>"
      ]
     },
     "metadata": {},
     "output_type": "display_data"
    },
    {
     "data": {
      "text/html": [
       "<code style='display:block; margin-top:-0.7em; font-family:Consolas,monospace'><b>CF-Ray:</b> 833ef9fb7cec68eb-FRA</code>"
      ],
      "text/plain": [
       "<IPython.core.display.HTML object>"
      ]
     },
     "metadata": {},
     "output_type": "display_data"
    },
    {
     "data": {
      "text/html": [
       "<code style='display:block; margin-top:-0.7em; font-family:Consolas,monospace'><b>CF-Cache-Status:</b> DYNAMIC</code>"
      ],
      "text/plain": [
       "<IPython.core.display.HTML object>"
      ]
     },
     "metadata": {},
     "output_type": "display_data"
    },
    {
     "data": {
      "text/html": [
       "<code style='display:block; margin-top:-0.7em; font-family:Consolas,monospace'><b>ETag:</b> W/\"10f-8UMUS7Gu2T7UiMks6Xl8Axl+GEQ\"</code>"
      ],
      "text/plain": [
       "<IPython.core.display.HTML object>"
      ]
     },
     "metadata": {},
     "output_type": "display_data"
    },
    {
     "data": {
      "text/html": [
       "<code style='display:block; margin-top:-0.7em; font-family:Consolas,monospace'><b>Vary:</b> Accept-Encoding</code>"
      ],
      "text/plain": [
       "<IPython.core.display.HTML object>"
      ]
     },
     "metadata": {},
     "output_type": "display_data"
    },
    {
     "data": {
      "text/html": [
       "<code style='display:block; margin-top:-0.7em; font-family:Consolas,monospace'><b>WWW-Authenticate:</b> Digest realm=\"BE-HTTP\", nonce=\"1a19f560ec3169bfb875ec865d0d267f\"</code>"
      ],
      "text/plain": [
       "<IPython.core.display.HTML object>"
      ]
     },
     "metadata": {},
     "output_type": "display_data"
    },
    {
     "data": {
      "text/html": [
       "<code style='display:block; margin-top:-0.7em; font-family:Consolas,monospace'><b>rndr-id:</b> cacfdaf8-9124-424c</code>"
      ],
      "text/plain": [
       "<IPython.core.display.HTML object>"
      ]
     },
     "metadata": {},
     "output_type": "display_data"
    },
    {
     "data": {
      "text/html": [
       "<code style='display:block; margin-top:-0.7em; font-family:Consolas,monospace'><b>x-powered-by:</b> Express</code>"
      ],
      "text/plain": [
       "<IPython.core.display.HTML object>"
      ]
     },
     "metadata": {},
     "output_type": "display_data"
    },
    {
     "data": {
      "text/html": [
       "<code style='display:block; margin-top:-0.7em; font-family:Consolas,monospace'><b>x-render-origin-server:</b> Render</code>"
      ],
      "text/plain": [
       "<IPython.core.display.HTML object>"
      ]
     },
     "metadata": {},
     "output_type": "display_data"
    },
    {
     "data": {
      "text/html": [
       "<code style='display:block; margin-top:-0.7em; font-family:Consolas,monospace'><b>Server:</b> cloudflare</code>"
      ],
      "text/plain": [
       "<IPython.core.display.HTML object>"
      ]
     },
     "metadata": {},
     "output_type": "display_data"
    },
    {
     "data": {
      "text/html": [
       "<code style='display:block; margin-top:-0.7em; font-family:Consolas,monospace'><b>alt-svc:</b> h3=\":443\"; ma=86400</code>"
      ],
      "text/plain": [
       "<IPython.core.display.HTML object>"
      ]
     },
     "metadata": {},
     "output_type": "display_data"
    },
    {
     "data": {
      "text/html": [
       "<div style='padding:5px; border: 1px solid #ccc; border-radius:5px; box-shadow: 5px 5px 5px #ccc; margin:5px 0 10px 0; display: inline-block; min-width: 50%'><!DOCTYPE html>\r\n",
       "<html lang=\"fr\">\r\n",
       "<meta charset=\"utf-8\">\r\n",
       "\r\n",
       "<div style=\"font-family: Consolas,monospace\">\r\n",
       "<h1 style=\"margin-top:0; padding:0.1em 0.5em;background-color:#060;color:white\">401 - Authorization Required</h1>\r\n",
       "<p>Document protégé par mot de passe\r\n",
       "</div>\r\n",
       "</div>"
      ],
      "text/plain": [
       "<IPython.core.display.HTML object>"
      ]
     },
     "metadata": {},
     "output_type": "display_data"
    }
   ],
   "source": [
    "https_request('GET','mod95-be3.onrender.com','/digest.html')"
   ]
  },
  {
   "cell_type": "markdown",
   "metadata": {},
   "source": [
    "Ici les nouveaux éléments sont dans la lignes : WWW-Authenticate: Digest realm=\"BE-HTTP\", nonce=\"b498f608b3c460783f77c9dc3aad3e7a\". \n",
    "\n",
    "On voit que le type d'authentification à changer. On est passé de basic à Digest. Cela signifie qu'ici les données d'authentification seront encryptées selon le protocole md5 (voire question suivante)."
   ]
  },
  {
   "cell_type": "markdown",
   "metadata": {},
   "source": [
    "<div style=\"background-color:#def;padding:5px 10px;margin-top: 5px;border-radius:3px\">\n",
    "__[5.7]__ - Expliquer comment construire la requête permettant d'accéder à la ressource\n",
    "<a href=\"https://mod95-be3.onrender.com/digest.html\">digest.html</a>."
   ]
  },
  {
   "cell_type": "markdown",
   "metadata": {},
   "source": [
    "Pour construire la requête on doit calculer les données encryptées, pour cela on calcule les valeurs suivantes : \n",
    "\n",
    "A1 = MD5(username:realm:password)\n",
    "\n",
    "A2 = MD5(method:digestURI)\n",
    "\n",
    "response = MD5(A1,nonce,A2)\n",
    "\n",
    "Ici, MD5 est le protocole d'encryptage, realm et nonce sont récupérées grâce à la requête : https_request('GET','mod95-be3.onrender.com','/digest.html',silent=True)"
   ]
  },
  {
   "cell_type": "markdown",
   "metadata": {},
   "source": [
    "<div style=\"background-color:#def;padding:5px 10px;margin-top: 5px;border-radius:3px\">\n",
    "__[5.8]__ - Utiliser le module Python nommé hashlib pour crypter les chaînes requises via l'algorithme MD5\n",
    "pour construire pas à pas la requête permettant d'accéder à la ressource <a href=\"https://mod95-be3.onrender.com/digest.html\">digest.html</a>.\n",
    "</div>"
   ]
  },
  {
   "cell_type": "code",
   "execution_count": 30,
   "metadata": {
    "collapsed": false,
    "jupyter": {
     "outputs_hidden": false
    },
    "util.bundle": "correcteur"
   },
   "outputs": [],
   "source": [
    "def get_auth_info(response):\n",
    "    info = {}\n",
    "    s = response.getheader('WWW-Authenticate')\n",
    "    data = s.split(' ',1)\n",
    "    chunks = data[1].split(', ')\n",
    "    for c in chunks:\n",
    "        (k,v) = c.split('=',1)\n",
    "        info[k] = v[1:-1]\n",
    "    return info"
   ]
  },
  {
   "cell_type": "code",
   "execution_count": 83,
   "metadata": {
    "collapsed": false,
    "jupyter": {
     "outputs_hidden": false
    },
    "util.bundle": "correcteur"
   },
   "outputs": [
    {
     "name": "stdout",
     "output_type": "stream",
     "text": [
      "{'realm': 'BE-HTTP', 'nonce': '93659872f151296fa9cafadbc0c2f15d'}\n",
      "35590c47c622a7f22d322648450aebc7 067dd51dd94d8ac68b1a774716e00cbf c1fdb21ce87a94a9c7120795da4a9c7a\n"
     ]
    },
    {
     "data": {
      "text/html": [
       "<code style='font-family:Consolas,monospace; display:block; margin-top: 5px; border-bottom:1px solid #ccc'><span style='font-weight:bold;color:#008'>200</span> - OK</code>"
      ],
      "text/plain": [
       "<IPython.core.display.HTML object>"
      ]
     },
     "metadata": {},
     "output_type": "display_data"
    },
    {
     "data": {
      "text/html": [
       "<code style='display:block; margin-top:-0.7em; font-family:Consolas,monospace'><b>Date:</b> Mon, 11 Dec 2023 16:29:33 GMT</code>"
      ],
      "text/plain": [
       "<IPython.core.display.HTML object>"
      ]
     },
     "metadata": {},
     "output_type": "display_data"
    },
    {
     "data": {
      "text/html": [
       "<code style='display:block; margin-top:-0.7em; font-family:Consolas,monospace'><b>Content-Type:</b> text/html; charset=UTF-8</code>"
      ],
      "text/plain": [
       "<IPython.core.display.HTML object>"
      ]
     },
     "metadata": {},
     "output_type": "display_data"
    },
    {
     "data": {
      "text/html": [
       "<code style='display:block; margin-top:-0.7em; font-family:Consolas,monospace'><b>Transfer-Encoding:</b> chunked</code>"
      ],
      "text/plain": [
       "<IPython.core.display.HTML object>"
      ]
     },
     "metadata": {},
     "output_type": "display_data"
    },
    {
     "data": {
      "text/html": [
       "<code style='display:block; margin-top:-0.7em; font-family:Consolas,monospace'><b>Connection:</b> keep-alive</code>"
      ],
      "text/plain": [
       "<IPython.core.display.HTML object>"
      ]
     },
     "metadata": {},
     "output_type": "display_data"
    },
    {
     "data": {
      "text/html": [
       "<code style='display:block; margin-top:-0.7em; font-family:Consolas,monospace'><b>CF-Ray:</b> 833f1b6f3eb99226-FRA</code>"
      ],
      "text/plain": [
       "<IPython.core.display.HTML object>"
      ]
     },
     "metadata": {},
     "output_type": "display_data"
    },
    {
     "data": {
      "text/html": [
       "<code style='display:block; margin-top:-0.7em; font-family:Consolas,monospace'><b>CF-Cache-Status:</b> DYNAMIC</code>"
      ],
      "text/plain": [
       "<IPython.core.display.HTML object>"
      ]
     },
     "metadata": {},
     "output_type": "display_data"
    },
    {
     "data": {
      "text/html": [
       "<code style='display:block; margin-top:-0.7em; font-family:Consolas,monospace'><b>Cache-Control:</b> public, max-age=0</code>"
      ],
      "text/plain": [
       "<IPython.core.display.HTML object>"
      ]
     },
     "metadata": {},
     "output_type": "display_data"
    },
    {
     "data": {
      "text/html": [
       "<code style='display:block; margin-top:-0.7em; font-family:Consolas,monospace'><b>ETag:</b> W/\"171-187dd542520\"</code>"
      ],
      "text/plain": [
       "<IPython.core.display.HTML object>"
      ]
     },
     "metadata": {},
     "output_type": "display_data"
    },
    {
     "data": {
      "text/html": [
       "<code style='display:block; margin-top:-0.7em; font-family:Consolas,monospace'><b>Last-Modified:</b> Tue, 02 May 2023 16:38:12 GMT</code>"
      ],
      "text/plain": [
       "<IPython.core.display.HTML object>"
      ]
     },
     "metadata": {},
     "output_type": "display_data"
    },
    {
     "data": {
      "text/html": [
       "<code style='display:block; margin-top:-0.7em; font-family:Consolas,monospace'><b>Vary:</b> Accept-Encoding</code>"
      ],
      "text/plain": [
       "<IPython.core.display.HTML object>"
      ]
     },
     "metadata": {},
     "output_type": "display_data"
    },
    {
     "data": {
      "text/html": [
       "<code style='display:block; margin-top:-0.7em; font-family:Consolas,monospace'><b>rndr-id:</b> 00c9a04f-4717-48c8</code>"
      ],
      "text/plain": [
       "<IPython.core.display.HTML object>"
      ]
     },
     "metadata": {},
     "output_type": "display_data"
    },
    {
     "data": {
      "text/html": [
       "<code style='display:block; margin-top:-0.7em; font-family:Consolas,monospace'><b>x-powered-by:</b> Express</code>"
      ],
      "text/plain": [
       "<IPython.core.display.HTML object>"
      ]
     },
     "metadata": {},
     "output_type": "display_data"
    },
    {
     "data": {
      "text/html": [
       "<code style='display:block; margin-top:-0.7em; font-family:Consolas,monospace'><b>x-render-origin-server:</b> Render</code>"
      ],
      "text/plain": [
       "<IPython.core.display.HTML object>"
      ]
     },
     "metadata": {},
     "output_type": "display_data"
    },
    {
     "data": {
      "text/html": [
       "<code style='display:block; margin-top:-0.7em; font-family:Consolas,monospace'><b>Server:</b> cloudflare</code>"
      ],
      "text/plain": [
       "<IPython.core.display.HTML object>"
      ]
     },
     "metadata": {},
     "output_type": "display_data"
    },
    {
     "data": {
      "text/html": [
       "<code style='display:block; margin-top:-0.7em; font-family:Consolas,monospace'><b>alt-svc:</b> h3=\":443\"; ma=86400</code>"
      ],
      "text/plain": [
       "<IPython.core.display.HTML object>"
      ]
     },
     "metadata": {},
     "output_type": "display_data"
    },
    {
     "data": {
      "text/html": [
       "<div style='padding:5px; border: 1px solid #ccc; border-radius:5px; box-shadow: 5px 5px 5px #ccc; margin:5px 0 10px 0; display: inline-block; min-width: 50%'><!DOCTYPE html>\r\n",
       "<html lang=\"fr\">\r\n",
       "<meta charset=\"utf-8\">\r\n",
       "<title>Document protégé via Digest</title>\r\n",
       "<h2 style=\"margin-top:0;color:#8c8\">Document protégé via Digest</h2>\r\n",
       "<p>Ce document est protégé à l'aide du nom d'utilisateur 'be-http' avec le mot de passe 'cool!'</p>\r\n",
       "<p>Si vous voyez ce message c'est que vous vous êtes correctement authentifié.</p>\r\n",
       "\r\n",
       "</div>"
      ],
      "text/plain": [
       "<IPython.core.display.HTML object>"
      ]
     },
     "metadata": {},
     "output_type": "display_data"
    }
   ],
   "source": [
    "import hashlib\n",
    "\n",
    "def md5(st):\n",
    "    return hashlib.md5(st.encode('UTF-8')).hexdigest()\n",
    "\n",
    "(response,body)= https_request('GET','mod95-be3.onrender.com','/digest.html',silent=True)\n",
    "info = get_auth_info(response)\n",
    "print(info)\n",
    "A1 = md5('be-http:{}:cool!'.format(info['realm']))\n",
    "A2 = md5('GET:/digest.html')\n",
    "c = md5('{}:{}:{}'.format(A1,info['nonce'],A2))\n",
    "\n",
    "print(A1,A2,c)\n",
    "\n",
    "https_request('GET','mod95-be3.onrender.com','/digest.html', headers ={\n",
    "    'Authorization' : 'Digest username=\"be-http\", realm=\"{}\", nonce=\"{}\" , uri=\"/digest.html\",response=\"{}\"'.format(info['realm'],info['nonce'],c)\n",
    "})"
   ]
  },
  {
   "cell_type": "markdown",
   "metadata": {},
   "source": [
    "<div style=\"background-color:#def;padding:5px 10px;margin-top: 5px;border-radius:3px\">\n",
    "__[5.9]__ - __Remarque:__ le nonce peut être généré par le serveur à sa convenance, en fonction du client (adresse IP), de la date de la requête (durée limitée), de l'URI de la ressource (portée limitée) et être vérifié lors de toute requête ultérieure.\n",
    "<p>C'est le cas du serveur recevant les requêtes précédentes qui crée des nonces dont la durée de validité est de 1 minute. C'est bien sûr trop court pour un serveur de documents statiques, et éventuellement trop long pour une API. Mais cela permet de jouer...\n",
    "<p>Vérifier qu'un nonce arbitraire ainsi qu'un nonce dont la durée de vie est dépassée ne sont pas acceptés.\n",
    "</div>"
   ]
  },
  {
   "cell_type": "code",
   "execution_count": 85,
   "metadata": {
    "collapsed": false,
    "jupyter": {
     "outputs_hidden": false
    },
    "util.bundle": "correcteur"
   },
   "outputs": [
    {
     "name": "stdout",
     "output_type": "stream",
     "text": [
      "{'realm': 'BE-HTTP', 'nonce': 'asrth33ez63zg825baa9mop2a3656751'}\n",
      "35590c47c622a7f22d322648450aebc7 067dd51dd94d8ac68b1a774716e00cbf 73f973f144c2276025b82af00472d358\n"
     ]
    },
    {
     "data": {
      "text/html": [
       "<code style='font-family:Consolas,monospace; display:block; margin-top: 5px; border-bottom:1px solid #ccc'><span style='font-weight:bold;color:#008'>401</span> - Unauthorized</code>"
      ],
      "text/plain": [
       "<IPython.core.display.HTML object>"
      ]
     },
     "metadata": {},
     "output_type": "display_data"
    },
    {
     "data": {
      "text/html": [
       "<code style='display:block; margin-top:-0.7em; font-family:Consolas,monospace'><b>Date:</b> Mon, 11 Dec 2023 16:31:10 GMT</code>"
      ],
      "text/plain": [
       "<IPython.core.display.HTML object>"
      ]
     },
     "metadata": {},
     "output_type": "display_data"
    },
    {
     "data": {
      "text/html": [
       "<code style='display:block; margin-top:-0.7em; font-family:Consolas,monospace'><b>Content-Type:</b> text/html; charset=utf-8</code>"
      ],
      "text/plain": [
       "<IPython.core.display.HTML object>"
      ]
     },
     "metadata": {},
     "output_type": "display_data"
    },
    {
     "data": {
      "text/html": [
       "<code style='display:block; margin-top:-0.7em; font-family:Consolas,monospace'><b>Transfer-Encoding:</b> chunked</code>"
      ],
      "text/plain": [
       "<IPython.core.display.HTML object>"
      ]
     },
     "metadata": {},
     "output_type": "display_data"
    },
    {
     "data": {
      "text/html": [
       "<code style='display:block; margin-top:-0.7em; font-family:Consolas,monospace'><b>Connection:</b> keep-alive</code>"
      ],
      "text/plain": [
       "<IPython.core.display.HTML object>"
      ]
     },
     "metadata": {},
     "output_type": "display_data"
    },
    {
     "data": {
      "text/html": [
       "<code style='display:block; margin-top:-0.7em; font-family:Consolas,monospace'><b>CF-Ray:</b> 833f1dc85e6737ea-FRA</code>"
      ],
      "text/plain": [
       "<IPython.core.display.HTML object>"
      ]
     },
     "metadata": {},
     "output_type": "display_data"
    },
    {
     "data": {
      "text/html": [
       "<code style='display:block; margin-top:-0.7em; font-family:Consolas,monospace'><b>CF-Cache-Status:</b> DYNAMIC</code>"
      ],
      "text/plain": [
       "<IPython.core.display.HTML object>"
      ]
     },
     "metadata": {},
     "output_type": "display_data"
    },
    {
     "data": {
      "text/html": [
       "<code style='display:block; margin-top:-0.7em; font-family:Consolas,monospace'><b>ETag:</b> W/\"fb-SKKKiMPWgg+yzCJb6qEFKbsBse8\"</code>"
      ],
      "text/plain": [
       "<IPython.core.display.HTML object>"
      ]
     },
     "metadata": {},
     "output_type": "display_data"
    },
    {
     "data": {
      "text/html": [
       "<code style='display:block; margin-top:-0.7em; font-family:Consolas,monospace'><b>Vary:</b> Accept-Encoding</code>"
      ],
      "text/plain": [
       "<IPython.core.display.HTML object>"
      ]
     },
     "metadata": {},
     "output_type": "display_data"
    },
    {
     "data": {
      "text/html": [
       "<code style='display:block; margin-top:-0.7em; font-family:Consolas,monospace'><b>WWW-Authenticate:</b> Digest realm=\"BE-HTTP\", nonce=\"f55e474ef44d7d14a36039ccc3b71908\"</code>"
      ],
      "text/plain": [
       "<IPython.core.display.HTML object>"
      ]
     },
     "metadata": {},
     "output_type": "display_data"
    },
    {
     "data": {
      "text/html": [
       "<code style='display:block; margin-top:-0.7em; font-family:Consolas,monospace'><b>rndr-id:</b> 56adae2f-4130-4e0c</code>"
      ],
      "text/plain": [
       "<IPython.core.display.HTML object>"
      ]
     },
     "metadata": {},
     "output_type": "display_data"
    },
    {
     "data": {
      "text/html": [
       "<code style='display:block; margin-top:-0.7em; font-family:Consolas,monospace'><b>x-powered-by:</b> Express</code>"
      ],
      "text/plain": [
       "<IPython.core.display.HTML object>"
      ]
     },
     "metadata": {},
     "output_type": "display_data"
    },
    {
     "data": {
      "text/html": [
       "<code style='display:block; margin-top:-0.7em; font-family:Consolas,monospace'><b>x-render-origin-server:</b> Render</code>"
      ],
      "text/plain": [
       "<IPython.core.display.HTML object>"
      ]
     },
     "metadata": {},
     "output_type": "display_data"
    },
    {
     "data": {
      "text/html": [
       "<code style='display:block; margin-top:-0.7em; font-family:Consolas,monospace'><b>Server:</b> cloudflare</code>"
      ],
      "text/plain": [
       "<IPython.core.display.HTML object>"
      ]
     },
     "metadata": {},
     "output_type": "display_data"
    },
    {
     "data": {
      "text/html": [
       "<code style='display:block; margin-top:-0.7em; font-family:Consolas,monospace'><b>alt-svc:</b> h3=\":443\"; ma=86400</code>"
      ],
      "text/plain": [
       "<IPython.core.display.HTML object>"
      ]
     },
     "metadata": {},
     "output_type": "display_data"
    },
    {
     "data": {
      "text/html": [
       "<div style='padding:5px; border: 1px solid #ccc; border-radius:5px; box-shadow: 5px 5px 5px #ccc; margin:5px 0 10px 0; display: inline-block; min-width: 50%'><!DOCTYPE html>\r\n",
       "<html lang=\"fr\">\r\n",
       "<meta charset=\"utf-8\">\r\n",
       "\r\n",
       "<div style=\"font-family: Consolas,monospace\">\r\n",
       "<h1 style=\"margin-top:0; padding:0.1em 0.5em;background-color:#060;color:white\">401 - Authorization Required</h1>\r\n",
       "<p>Nonce incorrect\r\n",
       "</div>\r\n",
       "</div>"
      ],
      "text/plain": [
       "<IPython.core.display.HTML object>"
      ]
     },
     "metadata": {},
     "output_type": "display_data"
    }
   ],
   "source": [
    "# avec un nonce arbitraire : \n",
    "info = {'realm': 'BE-HTTP', 'nonce': 'asrth33ez63zg825baa9mop2a3656751'}\n",
    "print(info)\n",
    "A1 = md5('be-http:{}:cool!'.format(info['realm']))\n",
    "A2 = md5('GET:/digest.html')\n",
    "c = md5('{}:{}:{}'.format(A1,info['nonce'],A2))\n",
    "\n",
    "print(A1,A2,c)\n",
    "\n",
    "https_request('GET','mod95-be3.onrender.com','/digest.html', headers ={\n",
    "    'Authorization' : 'Digest username=\"be-http\", realm=\"{}\", nonce=\"{}\" , uri=\"/digest.html\",response=\"{}\"'.format(info['realm'],info['nonce'],c)\n",
    "})"
   ]
  },
  {
   "cell_type": "code",
   "execution_count": 84,
   "metadata": {
    "collapsed": false,
    "jupyter": {
     "outputs_hidden": false
    },
    "util.bundle": "correcteur"
   },
   "outputs": [
    {
     "name": "stdout",
     "output_type": "stream",
     "text": [
      "{'realm': 'BE-HTTP', 'nonce': '237b7fc12e00fb089af071f99d8ac289'}\n",
      "35590c47c622a7f22d322648450aebc7 067dd51dd94d8ac68b1a774716e00cbf 62cbde2956e00151f5326060e976ee5e\n"
     ]
    },
    {
     "data": {
      "text/html": [
       "<code style='font-family:Consolas,monospace; display:block; margin-top: 5px; border-bottom:1px solid #ccc'><span style='font-weight:bold;color:#008'>401</span> - Unauthorized</code>"
      ],
      "text/plain": [
       "<IPython.core.display.HTML object>"
      ]
     },
     "metadata": {},
     "output_type": "display_data"
    },
    {
     "data": {
      "text/html": [
       "<code style='display:block; margin-top:-0.7em; font-family:Consolas,monospace'><b>Date:</b> Mon, 11 Dec 2023 16:30:59 GMT</code>"
      ],
      "text/plain": [
       "<IPython.core.display.HTML object>"
      ]
     },
     "metadata": {},
     "output_type": "display_data"
    },
    {
     "data": {
      "text/html": [
       "<code style='display:block; margin-top:-0.7em; font-family:Consolas,monospace'><b>Content-Type:</b> text/html; charset=utf-8</code>"
      ],
      "text/plain": [
       "<IPython.core.display.HTML object>"
      ]
     },
     "metadata": {},
     "output_type": "display_data"
    },
    {
     "data": {
      "text/html": [
       "<code style='display:block; margin-top:-0.7em; font-family:Consolas,monospace'><b>Transfer-Encoding:</b> chunked</code>"
      ],
      "text/plain": [
       "<IPython.core.display.HTML object>"
      ]
     },
     "metadata": {},
     "output_type": "display_data"
    },
    {
     "data": {
      "text/html": [
       "<code style='display:block; margin-top:-0.7em; font-family:Consolas,monospace'><b>Connection:</b> keep-alive</code>"
      ],
      "text/plain": [
       "<IPython.core.display.HTML object>"
      ]
     },
     "metadata": {},
     "output_type": "display_data"
    },
    {
     "data": {
      "text/html": [
       "<code style='display:block; margin-top:-0.7em; font-family:Consolas,monospace'><b>CF-Ray:</b> 833f1d86dcd81e49-FRA</code>"
      ],
      "text/plain": [
       "<IPython.core.display.HTML object>"
      ]
     },
     "metadata": {},
     "output_type": "display_data"
    },
    {
     "data": {
      "text/html": [
       "<code style='display:block; margin-top:-0.7em; font-family:Consolas,monospace'><b>CF-Cache-Status:</b> DYNAMIC</code>"
      ],
      "text/plain": [
       "<IPython.core.display.HTML object>"
      ]
     },
     "metadata": {},
     "output_type": "display_data"
    },
    {
     "data": {
      "text/html": [
       "<code style='display:block; margin-top:-0.7em; font-family:Consolas,monospace'><b>ETag:</b> W/\"113-HpCG+0UAHn1MqoW+tCCGcQRSb7k\"</code>"
      ],
      "text/plain": [
       "<IPython.core.display.HTML object>"
      ]
     },
     "metadata": {},
     "output_type": "display_data"
    },
    {
     "data": {
      "text/html": [
       "<code style='display:block; margin-top:-0.7em; font-family:Consolas,monospace'><b>Vary:</b> Accept-Encoding</code>"
      ],
      "text/plain": [
       "<IPython.core.display.HTML object>"
      ]
     },
     "metadata": {},
     "output_type": "display_data"
    },
    {
     "data": {
      "text/html": [
       "<code style='display:block; margin-top:-0.7em; font-family:Consolas,monospace'><b>WWW-Authenticate:</b> Digest realm=\"BE-HTTP\", nonce=\"3f49ee32f5608c3779d1b6c7c860ccb3\"</code>"
      ],
      "text/plain": [
       "<IPython.core.display.HTML object>"
      ]
     },
     "metadata": {},
     "output_type": "display_data"
    },
    {
     "data": {
      "text/html": [
       "<code style='display:block; margin-top:-0.7em; font-family:Consolas,monospace'><b>rndr-id:</b> 70745a00-f7fa-46d5</code>"
      ],
      "text/plain": [
       "<IPython.core.display.HTML object>"
      ]
     },
     "metadata": {},
     "output_type": "display_data"
    },
    {
     "data": {
      "text/html": [
       "<code style='display:block; margin-top:-0.7em; font-family:Consolas,monospace'><b>x-powered-by:</b> Express</code>"
      ],
      "text/plain": [
       "<IPython.core.display.HTML object>"
      ]
     },
     "metadata": {},
     "output_type": "display_data"
    },
    {
     "data": {
      "text/html": [
       "<code style='display:block; margin-top:-0.7em; font-family:Consolas,monospace'><b>x-render-origin-server:</b> Render</code>"
      ],
      "text/plain": [
       "<IPython.core.display.HTML object>"
      ]
     },
     "metadata": {},
     "output_type": "display_data"
    },
    {
     "data": {
      "text/html": [
       "<code style='display:block; margin-top:-0.7em; font-family:Consolas,monospace'><b>Server:</b> cloudflare</code>"
      ],
      "text/plain": [
       "<IPython.core.display.HTML object>"
      ]
     },
     "metadata": {},
     "output_type": "display_data"
    },
    {
     "data": {
      "text/html": [
       "<code style='display:block; margin-top:-0.7em; font-family:Consolas,monospace'><b>alt-svc:</b> h3=\":443\"; ma=86400</code>"
      ],
      "text/plain": [
       "<IPython.core.display.HTML object>"
      ]
     },
     "metadata": {},
     "output_type": "display_data"
    },
    {
     "data": {
      "text/html": [
       "<div style='padding:5px; border: 1px solid #ccc; border-radius:5px; box-shadow: 5px 5px 5px #ccc; margin:5px 0 10px 0; display: inline-block; min-width: 50%'><!DOCTYPE html>\r\n",
       "<html lang=\"fr\">\r\n",
       "<meta charset=\"utf-8\">\r\n",
       "\r\n",
       "<div style=\"font-family: Consolas,monospace\">\r\n",
       "<h1 style=\"margin-top:0; padding:0.1em 0.5em;background-color:#060;color:white\">401 - Authorization Required</h1>\r\n",
       "<p>Durée de validité du nonce dépassée\r\n",
       "</div>\r\n",
       "</div>"
      ],
      "text/plain": [
       "<IPython.core.display.HTML object>"
      ]
     },
     "metadata": {},
     "output_type": "display_data"
    }
   ],
   "source": [
    "# avec un nonce perimé : \n",
    "import time \n",
    "\n",
    "(response,body)= https_request('GET','mod95-be3.onrender.com','/digest.html',silent=True)\n",
    "info = get_auth_info(response)\n",
    "print(info)\n",
    "time.sleep(60)\n",
    "A1 = md5('be-http:{}:cool!'.format(info['realm']))\n",
    "A2 = md5('GET:/digest.html')\n",
    "c = md5('{}:{}:{}'.format(A1,info['nonce'],A2))\n",
    "\n",
    "print(A1,A2,c)\n",
    "\n",
    "https_request('GET','mod95-be3.onrender.com','/digest.html', headers ={\n",
    "    'Authorization' : 'Digest username=\"be-http\", realm=\"{}\", nonce=\"{}\" , uri=\"/digest.html\",response=\"{}\"'.format(info['realm'],info['nonce'],c)\n",
    "})\n"
   ]
  },
  {
   "cell_type": "markdown",
   "metadata": {},
   "source": [
    "<div style=\"background-color:#def;padding:5px 10px;margin-top: 5px;border-radius:3px\">\n",
    "__[5.10]__ - Conclure sur la méthode Digest, avec ses avantages et ses inconvénients (s'il y en a), par rapport notamment à la méthode Basic.\n",
    "</div>"
   ]
  },
  {
   "cell_type": "markdown",
   "metadata": {},
   "source": [
    "La méthode d'authentification Digest est une alternative plus sécurisée à la méthode d'authentification Basic, principalement parce qu'elle ne transmet pas les informations d'identification (nom d'utilisateur et mot de passe) en texte brut. Au lieu de cela, elle utilise un mécanisme de hachage pour sécuriser ces informations. On peut en tirer quelques avantages et inconvénients par rapport à la méthode Basic : \n",
    "\n",
    "Avantages de la méthode Digest par rapport à Basic :\n",
    "\n",
    "1. Sécurité améliorée : La méthode Digest utilise des hachages cryptographiques pour protéger les informations d'identification, ce qui les rend beaucoup plus difficiles à intercepter et à déchiffrer que dans le cas de la méthode Basic qui transmet les informations en texte brut.\n",
    "\n",
    "2. Protection contre les attaques par rejeu : La méthode Digest inclut un nonce dans le processus d'authentification, ce qui contribue à prévenir les attaques par rejeu où un attaquant réutilise des requêtes d'authentification précédentes pour tromper le serveur.\n",
    "\n",
    "3. Intégrité des données : La méthode Digest utilise également une valeur de hachage pour vérifier l'intégrité des données transmises, réduisant ainsi le risque de modification des informations d'authentification en transit.\n",
    "\n",
    "Inconvénients de la méthode Digest par rapport à Basic :\n",
    "\n",
    "1. Complexité : La méthode Digest est plus complexe à mettre en œuvre que la méthode Basic, ce qui peut rendre son déploiement plus difficile pour les développeurs.\n",
    "\n",
    "2. Performance : En raison de la complexité supplémentaire de la méthode Digest, elle peut avoir un léger impact sur les performances par rapport à la méthode Basic, bien que cet impact soit généralement négligeable pour la plupart des applications.\n",
    "\n",
    "3. Prise en charge incohérente : Bien que la méthode Digest soit plus sécurisée, elle peut ne pas être prise en charge uniformément par tous les clients et serveurs web, ce qui peut entraîner des problèmes d'interopérabilité."
   ]
  },
  {
   "cell_type": "markdown",
   "metadata": {},
   "source": [
    "<h4 style=\"font-size:150%;color:#06A;margin-bottom:1.33em;border-top:3px solid #7fb2d4; padding-top:0.5em\">6. Service REST</h4>\n",
    "\n",
    "<p>REST est un concept d'architecture permettant de développer des services web\n",
    "<a href=\"https://en.wikipedia.org/wiki/Representational_state_transfer#Relationship_between_URL_and_HTTP_methods\">basés sur les méthodes HTTP</a> pour créer, consulter, modifier ou supprimer des informations <em>(CRUD - Create, Read, Update, Delete)</em>.\n",
    "\n",
    "<p>Le service\n",
    "<a href=\"https://mod95-be3.onrender.com/todolist\">todolist</a> implémente ce type d'architecture, pour créer une TODO_list, lire son contenu, la modifier ou la supprimer. Les questions suivantes permettront de disséquer son fonctionnement."
   ]
  },
  {
   "cell_type": "markdown",
   "metadata": {},
   "source": [
    "<div style=\"background-color:#def;padding:5px 10px;margin-top: 5px;border-radius:3px\">\n",
    "__[6.1]__ - &Eacute;mettre une requête POST vers ce service et en déduire le type de contenu attendu pour créer une liste.\n",
    "</div>"
   ]
  },
  {
   "cell_type": "code",
   "execution_count": 88,
   "metadata": {
    "collapsed": false,
    "jupyter": {
     "outputs_hidden": false
    },
    "util.bundle": "correcteur"
   },
   "outputs": [
    {
     "data": {
      "text/html": [
       "<code style='font-family:Consolas,monospace; display:block; margin-top: 5px; border-bottom:1px solid #ccc'><span style='font-weight:bold;color:#008'>415</span> - Unsupported Media Type</code>"
      ],
      "text/plain": [
       "<IPython.core.display.HTML object>"
      ]
     },
     "metadata": {},
     "output_type": "display_data"
    },
    {
     "data": {
      "text/html": [
       "<code style='display:block; margin-top:-0.7em; font-family:Consolas,monospace'><b>Date:</b> Mon, 11 Dec 2023 16:40:19 GMT</code>"
      ],
      "text/plain": [
       "<IPython.core.display.HTML object>"
      ]
     },
     "metadata": {},
     "output_type": "display_data"
    },
    {
     "data": {
      "text/html": [
       "<code style='display:block; margin-top:-0.7em; font-family:Consolas,monospace'><b>Content-Type:</b> text/html; charset=utf-8</code>"
      ],
      "text/plain": [
       "<IPython.core.display.HTML object>"
      ]
     },
     "metadata": {},
     "output_type": "display_data"
    },
    {
     "data": {
      "text/html": [
       "<code style='display:block; margin-top:-0.7em; font-family:Consolas,monospace'><b>Transfer-Encoding:</b> chunked</code>"
      ],
      "text/plain": [
       "<IPython.core.display.HTML object>"
      ]
     },
     "metadata": {},
     "output_type": "display_data"
    },
    {
     "data": {
      "text/html": [
       "<code style='display:block; margin-top:-0.7em; font-family:Consolas,monospace'><b>Connection:</b> keep-alive</code>"
      ],
      "text/plain": [
       "<IPython.core.display.HTML object>"
      ]
     },
     "metadata": {},
     "output_type": "display_data"
    },
    {
     "data": {
      "text/html": [
       "<code style='display:block; margin-top:-0.7em; font-family:Consolas,monospace'><b>CF-Ray:</b> 833f2b307da44d32-FRA</code>"
      ],
      "text/plain": [
       "<IPython.core.display.HTML object>"
      ]
     },
     "metadata": {},
     "output_type": "display_data"
    },
    {
     "data": {
      "text/html": [
       "<code style='display:block; margin-top:-0.7em; font-family:Consolas,monospace'><b>CF-Cache-Status:</b> DYNAMIC</code>"
      ],
      "text/plain": [
       "<IPython.core.display.HTML object>"
      ]
     },
     "metadata": {},
     "output_type": "display_data"
    },
    {
     "data": {
      "text/html": [
       "<code style='display:block; margin-top:-0.7em; font-family:Consolas,monospace'><b>ETag:</b> W/\"14d-UtT6tZwoHAiRHkq9SZDpVbzj47A\"</code>"
      ],
      "text/plain": [
       "<IPython.core.display.HTML object>"
      ]
     },
     "metadata": {},
     "output_type": "display_data"
    },
    {
     "data": {
      "text/html": [
       "<code style='display:block; margin-top:-0.7em; font-family:Consolas,monospace'><b>Vary:</b> Accept-Encoding</code>"
      ],
      "text/plain": [
       "<IPython.core.display.HTML object>"
      ]
     },
     "metadata": {},
     "output_type": "display_data"
    },
    {
     "data": {
      "text/html": [
       "<code style='display:block; margin-top:-0.7em; font-family:Consolas,monospace'><b>rndr-id:</b> 58468bca-e312-4c9e</code>"
      ],
      "text/plain": [
       "<IPython.core.display.HTML object>"
      ]
     },
     "metadata": {},
     "output_type": "display_data"
    },
    {
     "data": {
      "text/html": [
       "<code style='display:block; margin-top:-0.7em; font-family:Consolas,monospace'><b>x-powered-by:</b> Express</code>"
      ],
      "text/plain": [
       "<IPython.core.display.HTML object>"
      ]
     },
     "metadata": {},
     "output_type": "display_data"
    },
    {
     "data": {
      "text/html": [
       "<code style='display:block; margin-top:-0.7em; font-family:Consolas,monospace'><b>x-render-origin-server:</b> Render</code>"
      ],
      "text/plain": [
       "<IPython.core.display.HTML object>"
      ]
     },
     "metadata": {},
     "output_type": "display_data"
    },
    {
     "data": {
      "text/html": [
       "<code style='display:block; margin-top:-0.7em; font-family:Consolas,monospace'><b>Server:</b> cloudflare</code>"
      ],
      "text/plain": [
       "<IPython.core.display.HTML object>"
      ]
     },
     "metadata": {},
     "output_type": "display_data"
    },
    {
     "data": {
      "text/html": [
       "<code style='display:block; margin-top:-0.7em; font-family:Consolas,monospace'><b>alt-svc:</b> h3=\":443\"; ma=86400</code>"
      ],
      "text/plain": [
       "<IPython.core.display.HTML object>"
      ]
     },
     "metadata": {},
     "output_type": "display_data"
    },
    {
     "data": {
      "text/html": [
       "<div style='padding:5px; border: 1px solid #ccc; border-radius:5px; box-shadow: 5px 5px 5px #ccc; margin:5px 0 10px 0; display: inline-block; min-width: 50%'><!DOCTYPE html>\r\n",
       "<html lang=\"fr\">\r\n",
       "<meta charset=\"utf-8\">\r\n",
       "\r\n",
       "<div style=\"font-family: Consolas,monospace\">\r\n",
       "<h1 style=\"margin-top:0; padding:0.1em 0.5em;background-color:#fa4;color:white\">415 : Unsupported Media Type</h1>\r\n",
       "<p>Type de contenu non supporté ('application/x-www-form-urlencoded' ou 'application/json' attendu)\r\n",
       "</div>\r\n",
       "</div>"
      ],
      "text/plain": [
       "<IPython.core.display.HTML object>"
      ]
     },
     "metadata": {},
     "output_type": "display_data"
    }
   ],
   "source": [
    "https_request('POST','mod95-be3.onrender.com','/todolist')"
   ]
  },
  {
   "cell_type": "markdown",
   "metadata": {},
   "source": [
    "<div style=\"background-color:#def;padding:5px 10px;margin-top: 5px;border-radius:3px\">\n",
    "__[6.2]__ - &Eacute;mettre une requête POST vers ce service avec le premier type de contenu supporté, et en déduire l'information manquante pour créer une liste.\n",
    "</div>"
   ]
  },
  {
   "cell_type": "code",
   "execution_count": 110,
   "metadata": {
    "collapsed": false,
    "jupyter": {
     "outputs_hidden": false
    },
    "util.bundle": "correcteur"
   },
   "outputs": [
    {
     "data": {
      "text/html": [
       "<code style='font-family:Consolas,monospace; display:block; margin-top: 5px; border-bottom:1px solid #ccc'><span style='font-weight:bold;color:#008'>200</span> - OK</code>"
      ],
      "text/plain": [
       "<IPython.core.display.HTML object>"
      ]
     },
     "metadata": {},
     "output_type": "display_data"
    },
    {
     "data": {
      "text/html": [
       "<code style='display:block; margin-top:-0.7em; font-family:Consolas,monospace'><b>Date:</b> Mon, 11 Dec 2023 16:50:47 GMT</code>"
      ],
      "text/plain": [
       "<IPython.core.display.HTML object>"
      ]
     },
     "metadata": {},
     "output_type": "display_data"
    },
    {
     "data": {
      "text/html": [
       "<code style='display:block; margin-top:-0.7em; font-family:Consolas,monospace'><b>Content-Type:</b> application/json; charset=utf-8</code>"
      ],
      "text/plain": [
       "<IPython.core.display.HTML object>"
      ]
     },
     "metadata": {},
     "output_type": "display_data"
    },
    {
     "data": {
      "text/html": [
       "<code style='display:block; margin-top:-0.7em; font-family:Consolas,monospace'><b>Transfer-Encoding:</b> chunked</code>"
      ],
      "text/plain": [
       "<IPython.core.display.HTML object>"
      ]
     },
     "metadata": {},
     "output_type": "display_data"
    },
    {
     "data": {
      "text/html": [
       "<code style='display:block; margin-top:-0.7em; font-family:Consolas,monospace'><b>Connection:</b> keep-alive</code>"
      ],
      "text/plain": [
       "<IPython.core.display.HTML object>"
      ]
     },
     "metadata": {},
     "output_type": "display_data"
    },
    {
     "data": {
      "text/html": [
       "<code style='display:block; margin-top:-0.7em; font-family:Consolas,monospace'><b>CF-Ray:</b> 833f3a85fdb82bb9-FRA</code>"
      ],
      "text/plain": [
       "<IPython.core.display.HTML object>"
      ]
     },
     "metadata": {},
     "output_type": "display_data"
    },
    {
     "data": {
      "text/html": [
       "<code style='display:block; margin-top:-0.7em; font-family:Consolas,monospace'><b>CF-Cache-Status:</b> DYNAMIC</code>"
      ],
      "text/plain": [
       "<IPython.core.display.HTML object>"
      ]
     },
     "metadata": {},
     "output_type": "display_data"
    },
    {
     "data": {
      "text/html": [
       "<code style='display:block; margin-top:-0.7em; font-family:Consolas,monospace'><b>Vary:</b> Accept-Encoding</code>"
      ],
      "text/plain": [
       "<IPython.core.display.HTML object>"
      ]
     },
     "metadata": {},
     "output_type": "display_data"
    },
    {
     "data": {
      "text/html": [
       "<code style='display:block; margin-top:-0.7em; font-family:Consolas,monospace'><b>rndr-id:</b> d7bfb078-5ca4-4805</code>"
      ],
      "text/plain": [
       "<IPython.core.display.HTML object>"
      ]
     },
     "metadata": {},
     "output_type": "display_data"
    },
    {
     "data": {
      "text/html": [
       "<code style='display:block; margin-top:-0.7em; font-family:Consolas,monospace'><b>x-powered-by:</b> Express</code>"
      ],
      "text/plain": [
       "<IPython.core.display.HTML object>"
      ]
     },
     "metadata": {},
     "output_type": "display_data"
    },
    {
     "data": {
      "text/html": [
       "<code style='display:block; margin-top:-0.7em; font-family:Consolas,monospace'><b>x-render-origin-server:</b> Render</code>"
      ],
      "text/plain": [
       "<IPython.core.display.HTML object>"
      ]
     },
     "metadata": {},
     "output_type": "display_data"
    },
    {
     "data": {
      "text/html": [
       "<code style='display:block; margin-top:-0.7em; font-family:Consolas,monospace'><b>Server:</b> cloudflare</code>"
      ],
      "text/plain": [
       "<IPython.core.display.HTML object>"
      ]
     },
     "metadata": {},
     "output_type": "display_data"
    },
    {
     "data": {
      "text/html": [
       "<code style='display:block; margin-top:-0.7em; font-family:Consolas,monospace'><b>alt-svc:</b> h3=\":443\"; ma=86400</code>"
      ],
      "text/plain": [
       "<IPython.core.display.HTML object>"
      ]
     },
     "metadata": {},
     "output_type": "display_data"
    },
    {
     "data": {
      "text/html": [
       "<pre style='font-family:Consolas,monospace; padding:5px; border: 1px solid #ccc; border-radius:5px; box-shadow: 5px 5px 5px #ccc; margin:5px 0 10px 0; display: inline-block; min-width: 50%'>{\"name\":\"list-1702313447390\",\"data\":[\"Acheter du pain\"]}</pre>"
      ],
      "text/plain": [
       "<IPython.core.display.HTML object>"
      ]
     },
     "metadata": {},
     "output_type": "display_data"
    }
   ],
   "source": [
    "https_request('POST','mod95-be3.onrender.com','/todolist', headers ={\n",
    "    'Content-Type' :'application/x-www-form-urlencoded'},\n",
    "    body = 'value=Acheter+du+pain'\n",
    ")"
   ]
  },
  {
   "cell_type": "markdown",
   "metadata": {},
   "source": [
    "<div style=\"background-color:#def;padding:5px 10px;margin-top: 5px;border-radius:3px\">\n",
    "__[6.3]__ - Se documenter au sujet du premier type de contenu demandé, puis formuler une requête POST vers ce service avec les informations nécessaires formattées à l'aide de ce type de contenu pour créer une TODO_list comportant une tâche.\n",
    "</div>"
   ]
  },
  {
   "cell_type": "markdown",
   "metadata": {
    "collapsed": false,
    "jupyter": {
     "outputs_hidden": false
    },
    "util.bundle": "correcteur"
   },
   "source": [
    "https://developer.mozilla.org/fr/docs/Web/HTTP/Methods/POST"
   ]
  },
  {
   "cell_type": "markdown",
   "metadata": {},
   "source": [
    "<div style=\"background-color:#def;padding:5px 10px;margin-top: 5px;border-radius:3px\">\n",
    "__[6.4]__ - Essayer avec la tâche \"Acheter du café\". Sauf exception, il y aura un problème avec les caractères accentués.\n",
    "Plutôt que de bricoler à la main pour résoudre le problème, consulter la documentation de\n",
    "<a href=\"https://docs.python.org/3/library/urllib.parse.html#urllib.parse.urlencode\">urllib.parse.urlencode</a> et\n",
    "reformuler une requête permettant de créer une tâche dont le libellé comporte des caractères accentués. Indiquer comment ces caractères sont encodés.\n",
    "</div>"
   ]
  },
  {
   "cell_type": "code",
   "execution_count": 111,
   "metadata": {
    "collapsed": false,
    "jupyter": {
     "outputs_hidden": false
    },
    "util.bundle": "correcteur"
   },
   "outputs": [
    {
     "data": {
      "text/html": [
       "<code style='font-family:Consolas,monospace; display:block; margin-top: 5px; border-bottom:1px solid #ccc'><span style='font-weight:bold;color:#008'>200</span> - OK</code>"
      ],
      "text/plain": [
       "<IPython.core.display.HTML object>"
      ]
     },
     "metadata": {},
     "output_type": "display_data"
    },
    {
     "data": {
      "text/html": [
       "<code style='display:block; margin-top:-0.7em; font-family:Consolas,monospace'><b>Date:</b> Mon, 11 Dec 2023 16:51:01 GMT</code>"
      ],
      "text/plain": [
       "<IPython.core.display.HTML object>"
      ]
     },
     "metadata": {},
     "output_type": "display_data"
    },
    {
     "data": {
      "text/html": [
       "<code style='display:block; margin-top:-0.7em; font-family:Consolas,monospace'><b>Content-Type:</b> application/json; charset=utf-8</code>"
      ],
      "text/plain": [
       "<IPython.core.display.HTML object>"
      ]
     },
     "metadata": {},
     "output_type": "display_data"
    },
    {
     "data": {
      "text/html": [
       "<code style='display:block; margin-top:-0.7em; font-family:Consolas,monospace'><b>Transfer-Encoding:</b> chunked</code>"
      ],
      "text/plain": [
       "<IPython.core.display.HTML object>"
      ]
     },
     "metadata": {},
     "output_type": "display_data"
    },
    {
     "data": {
      "text/html": [
       "<code style='display:block; margin-top:-0.7em; font-family:Consolas,monospace'><b>Connection:</b> keep-alive</code>"
      ],
      "text/plain": [
       "<IPython.core.display.HTML object>"
      ]
     },
     "metadata": {},
     "output_type": "display_data"
    },
    {
     "data": {
      "text/html": [
       "<code style='display:block; margin-top:-0.7em; font-family:Consolas,monospace'><b>CF-Ray:</b> 833f3adc0c0d2c16-FRA</code>"
      ],
      "text/plain": [
       "<IPython.core.display.HTML object>"
      ]
     },
     "metadata": {},
     "output_type": "display_data"
    },
    {
     "data": {
      "text/html": [
       "<code style='display:block; margin-top:-0.7em; font-family:Consolas,monospace'><b>CF-Cache-Status:</b> DYNAMIC</code>"
      ],
      "text/plain": [
       "<IPython.core.display.HTML object>"
      ]
     },
     "metadata": {},
     "output_type": "display_data"
    },
    {
     "data": {
      "text/html": [
       "<code style='display:block; margin-top:-0.7em; font-family:Consolas,monospace'><b>Vary:</b> Accept-Encoding</code>"
      ],
      "text/plain": [
       "<IPython.core.display.HTML object>"
      ]
     },
     "metadata": {},
     "output_type": "display_data"
    },
    {
     "data": {
      "text/html": [
       "<code style='display:block; margin-top:-0.7em; font-family:Consolas,monospace'><b>rndr-id:</b> 5b5a1df5-5b9e-414f</code>"
      ],
      "text/plain": [
       "<IPython.core.display.HTML object>"
      ]
     },
     "metadata": {},
     "output_type": "display_data"
    },
    {
     "data": {
      "text/html": [
       "<code style='display:block; margin-top:-0.7em; font-family:Consolas,monospace'><b>x-powered-by:</b> Express</code>"
      ],
      "text/plain": [
       "<IPython.core.display.HTML object>"
      ]
     },
     "metadata": {},
     "output_type": "display_data"
    },
    {
     "data": {
      "text/html": [
       "<code style='display:block; margin-top:-0.7em; font-family:Consolas,monospace'><b>x-render-origin-server:</b> Render</code>"
      ],
      "text/plain": [
       "<IPython.core.display.HTML object>"
      ]
     },
     "metadata": {},
     "output_type": "display_data"
    },
    {
     "data": {
      "text/html": [
       "<code style='display:block; margin-top:-0.7em; font-family:Consolas,monospace'><b>Server:</b> cloudflare</code>"
      ],
      "text/plain": [
       "<IPython.core.display.HTML object>"
      ]
     },
     "metadata": {},
     "output_type": "display_data"
    },
    {
     "data": {
      "text/html": [
       "<code style='display:block; margin-top:-0.7em; font-family:Consolas,monospace'><b>alt-svc:</b> h3=\":443\"; ma=86400</code>"
      ],
      "text/plain": [
       "<IPython.core.display.HTML object>"
      ]
     },
     "metadata": {},
     "output_type": "display_data"
    },
    {
     "data": {
      "text/html": [
       "<pre style='font-family:Consolas,monospace; padding:5px; border: 1px solid #ccc; border-radius:5px; box-shadow: 5px 5px 5px #ccc; margin:5px 0 10px 0; display: inline-block; min-width: 50%'>{\"name\":\"list-1702313461157\",\"data\":[\"Acheter du caf�\"]}</pre>"
      ],
      "text/plain": [
       "<IPython.core.display.HTML object>"
      ]
     },
     "metadata": {},
     "output_type": "display_data"
    }
   ],
   "source": [
    "https_request('POST','mod95-be3.onrender.com','/todolist', headers ={\n",
    "    'Content-Type' :'application/x-www-form-urlencoded'},\n",
    "    body = 'value=Acheter+du+café'\n",
    ")"
   ]
  },
  {
   "cell_type": "code",
   "execution_count": 112,
   "metadata": {
    "collapsed": false,
    "jupyter": {
     "outputs_hidden": false
    },
    "util.bundle": "correcteur"
   },
   "outputs": [
    {
     "data": {
      "text/html": [
       "<code style='font-family:Consolas,monospace; display:block; margin-top: 5px; border-bottom:1px solid #ccc'><span style='font-weight:bold;color:#008'>200</span> - OK</code>"
      ],
      "text/plain": [
       "<IPython.core.display.HTML object>"
      ]
     },
     "metadata": {},
     "output_type": "display_data"
    },
    {
     "data": {
      "text/html": [
       "<code style='display:block; margin-top:-0.7em; font-family:Consolas,monospace'><b>Date:</b> Mon, 11 Dec 2023 16:51:16 GMT</code>"
      ],
      "text/plain": [
       "<IPython.core.display.HTML object>"
      ]
     },
     "metadata": {},
     "output_type": "display_data"
    },
    {
     "data": {
      "text/html": [
       "<code style='display:block; margin-top:-0.7em; font-family:Consolas,monospace'><b>Content-Type:</b> application/json; charset=utf-8</code>"
      ],
      "text/plain": [
       "<IPython.core.display.HTML object>"
      ]
     },
     "metadata": {},
     "output_type": "display_data"
    },
    {
     "data": {
      "text/html": [
       "<code style='display:block; margin-top:-0.7em; font-family:Consolas,monospace'><b>Transfer-Encoding:</b> chunked</code>"
      ],
      "text/plain": [
       "<IPython.core.display.HTML object>"
      ]
     },
     "metadata": {},
     "output_type": "display_data"
    },
    {
     "data": {
      "text/html": [
       "<code style='display:block; margin-top:-0.7em; font-family:Consolas,monospace'><b>Connection:</b> keep-alive</code>"
      ],
      "text/plain": [
       "<IPython.core.display.HTML object>"
      ]
     },
     "metadata": {},
     "output_type": "display_data"
    },
    {
     "data": {
      "text/html": [
       "<code style='display:block; margin-top:-0.7em; font-family:Consolas,monospace'><b>CF-Ray:</b> 833f3b3c1f775d73-FRA</code>"
      ],
      "text/plain": [
       "<IPython.core.display.HTML object>"
      ]
     },
     "metadata": {},
     "output_type": "display_data"
    },
    {
     "data": {
      "text/html": [
       "<code style='display:block; margin-top:-0.7em; font-family:Consolas,monospace'><b>CF-Cache-Status:</b> DYNAMIC</code>"
      ],
      "text/plain": [
       "<IPython.core.display.HTML object>"
      ]
     },
     "metadata": {},
     "output_type": "display_data"
    },
    {
     "data": {
      "text/html": [
       "<code style='display:block; margin-top:-0.7em; font-family:Consolas,monospace'><b>Vary:</b> Accept-Encoding</code>"
      ],
      "text/plain": [
       "<IPython.core.display.HTML object>"
      ]
     },
     "metadata": {},
     "output_type": "display_data"
    },
    {
     "data": {
      "text/html": [
       "<code style='display:block; margin-top:-0.7em; font-family:Consolas,monospace'><b>rndr-id:</b> 6cdd9b7a-eba2-4567</code>"
      ],
      "text/plain": [
       "<IPython.core.display.HTML object>"
      ]
     },
     "metadata": {},
     "output_type": "display_data"
    },
    {
     "data": {
      "text/html": [
       "<code style='display:block; margin-top:-0.7em; font-family:Consolas,monospace'><b>x-powered-by:</b> Express</code>"
      ],
      "text/plain": [
       "<IPython.core.display.HTML object>"
      ]
     },
     "metadata": {},
     "output_type": "display_data"
    },
    {
     "data": {
      "text/html": [
       "<code style='display:block; margin-top:-0.7em; font-family:Consolas,monospace'><b>x-render-origin-server:</b> Render</code>"
      ],
      "text/plain": [
       "<IPython.core.display.HTML object>"
      ]
     },
     "metadata": {},
     "output_type": "display_data"
    },
    {
     "data": {
      "text/html": [
       "<code style='display:block; margin-top:-0.7em; font-family:Consolas,monospace'><b>Server:</b> cloudflare</code>"
      ],
      "text/plain": [
       "<IPython.core.display.HTML object>"
      ]
     },
     "metadata": {},
     "output_type": "display_data"
    },
    {
     "data": {
      "text/html": [
       "<code style='display:block; margin-top:-0.7em; font-family:Consolas,monospace'><b>alt-svc:</b> h3=\":443\"; ma=86400</code>"
      ],
      "text/plain": [
       "<IPython.core.display.HTML object>"
      ]
     },
     "metadata": {},
     "output_type": "display_data"
    },
    {
     "data": {
      "text/html": [
       "<pre style='font-family:Consolas,monospace; padding:5px; border: 1px solid #ccc; border-radius:5px; box-shadow: 5px 5px 5px #ccc; margin:5px 0 10px 0; display: inline-block; min-width: 50%'>{\"name\":\"list-1702313476549\",\"data\":[\"Acheter du café\"]}</pre>"
      ],
      "text/plain": [
       "<IPython.core.display.HTML object>"
      ]
     },
     "metadata": {},
     "output_type": "display_data"
    }
   ],
   "source": [
    "from urllib.parse import urlencode\n",
    "https_request('POST','mod95-be3.onrender.com','/todolist', headers ={\n",
    "    'Content-Type' :'application/x-www-form-urlencoded'},\n",
    "    body = urlencode([(\"value\",\"Acheter du café\")],True)\n",
    ")"
   ]
  },
  {
   "cell_type": "markdown",
   "metadata": {},
   "source": [
    "<div style=\"background-color:#def;padding:5px 10px;margin-top: 5px;border-radius:3px\">\n",
    "__[6.5]__ - De fait, le service utilisé permet de créer une TODO_list avec plusieurs tâches. Relire la documentation de\n",
    "<a href=\"https://docs.python.org/3/library/urllib.parse.html#urllib.parse.urlencode\">urllib.parse.urlencode</a>\n",
    "pour découvrir comment spécifier une variable dont la valeur est une liste, puis créer une TODO_list comportant plusieurs tâches.\n",
    "</div>"
   ]
  },
  {
   "cell_type": "markdown",
   "metadata": {},
   "source": [
    "...indiquer comment spécifier une variable prenant plusieurs valeurs (i.e. une liste)"
   ]
  },
  {
   "cell_type": "code",
   "execution_count": 15,
   "metadata": {
    "collapsed": false,
    "jupyter": {
     "outputs_hidden": false
    },
    "util.bundle": "correcteur"
   },
   "outputs": [],
   "source": [
    "from urllib.parse import urlencode\n",
    "import json\n",
    "\n",
    "tasks = [\n",
    "    (\"value\", \"Acheter du café\"),\n",
    "    (\"value\", \"Répondre à ses mails\"),\n",
    "    (\"value\", \"Manger une pomme\")\n",
    "]\n",
    "response, body = https_request(\n",
    "    'POST',\n",
    "    'mod95-be3.onrender.com',\n",
    "    '/todolist',\n",
    "    headers={'Content-Type': 'application/x-www-form-urlencoded'},\n",
    "    body=urlencode(tasks, True),\n",
    "    silent=True \n",
    ")"
   ]
  },
  {
   "cell_type": "markdown",
   "metadata": {},
   "source": [
    "<div style=\"background-color:#def;padding:5px 10px;margin-top: 5px;border-radius:3px\">\n",
    "__[6.6]__ - Le service utilisé accepte également les requêtes au format \n",
    "<a href=\"https://www.json.org/\">JSON</a>. Utiliser le module\n",
    "<a href=\"https://docs.python.org/3/library/json.html\">json</a> pour émettre une requête avec un corps en JSON permettant\n",
    "de créer une TODO_list comportant une ou plusieurs tâches. Ne pas pas oublier de tester des tâches comportant des caractères accentués.\n",
    "</div>"
   ]
  },
  {
   "cell_type": "code",
   "execution_count": 86,
   "metadata": {
    "collapsed": false,
    "jupyter": {
     "outputs_hidden": false
    },
    "util.bundle": "correcteur"
   },
   "outputs": [
    {
     "name": "stdout",
     "output_type": "stream",
     "text": [
      "{\"value\": [\"Boire un caf\\u00e9\", \"Apprendre json\"]}\n"
     ]
    }
   ],
   "source": [
    "import json\n",
    "print(json.dumps({\"value\":[\"Boire un café\",\"Apprendre json\"]}))\n"
   ]
  },
  {
   "cell_type": "code",
   "execution_count": null,
   "metadata": {
    "collapsed": false,
    "jupyter": {
     "outputs_hidden": false
    },
    "util.bundle": "correcteur"
   },
   "outputs": [],
   "source": [
    "info = json.loads(body)\n",
    "list_name = info['name']\n",
    "print(list_name)"
   ]
  },
  {
   "cell_type": "code",
   "execution_count": 26,
   "metadata": {
    "collapsed": false,
    "jupyter": {
     "outputs_hidden": false
    },
    "util.bundle": "correcteur"
   },
   "outputs": [
    {
     "data": {
      "text/html": [
       "<code style='font-family:Consolas,monospace; display:block; margin-top: 5px; border-bottom:1px solid #ccc'><span style='font-weight:bold;color:#008'>200</span> - OK</code>"
      ],
      "text/plain": [
       "<IPython.core.display.HTML object>"
      ]
     },
     "metadata": {},
     "output_type": "display_data"
    },
    {
     "data": {
      "text/html": [
       "<code style='display:block; margin-top:-0.7em; font-family:Consolas,monospace'><b>Date:</b> Mon, 11 Dec 2023 17:09:44 GMT</code>"
      ],
      "text/plain": [
       "<IPython.core.display.HTML object>"
      ]
     },
     "metadata": {},
     "output_type": "display_data"
    },
    {
     "data": {
      "text/html": [
       "<code style='display:block; margin-top:-0.7em; font-family:Consolas,monospace'><b>Content-Type:</b> application/json; charset=utf-8</code>"
      ],
      "text/plain": [
       "<IPython.core.display.HTML object>"
      ]
     },
     "metadata": {},
     "output_type": "display_data"
    },
    {
     "data": {
      "text/html": [
       "<code style='display:block; margin-top:-0.7em; font-family:Consolas,monospace'><b>Transfer-Encoding:</b> chunked</code>"
      ],
      "text/plain": [
       "<IPython.core.display.HTML object>"
      ]
     },
     "metadata": {},
     "output_type": "display_data"
    },
    {
     "data": {
      "text/html": [
       "<code style='display:block; margin-top:-0.7em; font-family:Consolas,monospace'><b>Connection:</b> keep-alive</code>"
      ],
      "text/plain": [
       "<IPython.core.display.HTML object>"
      ]
     },
     "metadata": {},
     "output_type": "display_data"
    },
    {
     "data": {
      "text/html": [
       "<code style='display:block; margin-top:-0.7em; font-family:Consolas,monospace'><b>CF-Ray:</b> 833f564a6aca18bf-FRA</code>"
      ],
      "text/plain": [
       "<IPython.core.display.HTML object>"
      ]
     },
     "metadata": {},
     "output_type": "display_data"
    },
    {
     "data": {
      "text/html": [
       "<code style='display:block; margin-top:-0.7em; font-family:Consolas,monospace'><b>CF-Cache-Status:</b> DYNAMIC</code>"
      ],
      "text/plain": [
       "<IPython.core.display.HTML object>"
      ]
     },
     "metadata": {},
     "output_type": "display_data"
    },
    {
     "data": {
      "text/html": [
       "<code style='display:block; margin-top:-0.7em; font-family:Consolas,monospace'><b>Vary:</b> Accept-Encoding</code>"
      ],
      "text/plain": [
       "<IPython.core.display.HTML object>"
      ]
     },
     "metadata": {},
     "output_type": "display_data"
    },
    {
     "data": {
      "text/html": [
       "<code style='display:block; margin-top:-0.7em; font-family:Consolas,monospace'><b>rndr-id:</b> 6cf00a9d-714f-41cb</code>"
      ],
      "text/plain": [
       "<IPython.core.display.HTML object>"
      ]
     },
     "metadata": {},
     "output_type": "display_data"
    },
    {
     "data": {
      "text/html": [
       "<code style='display:block; margin-top:-0.7em; font-family:Consolas,monospace'><b>x-powered-by:</b> Express</code>"
      ],
      "text/plain": [
       "<IPython.core.display.HTML object>"
      ]
     },
     "metadata": {},
     "output_type": "display_data"
    },
    {
     "data": {
      "text/html": [
       "<code style='display:block; margin-top:-0.7em; font-family:Consolas,monospace'><b>x-render-origin-server:</b> Render</code>"
      ],
      "text/plain": [
       "<IPython.core.display.HTML object>"
      ]
     },
     "metadata": {},
     "output_type": "display_data"
    },
    {
     "data": {
      "text/html": [
       "<code style='display:block; margin-top:-0.7em; font-family:Consolas,monospace'><b>Server:</b> cloudflare</code>"
      ],
      "text/plain": [
       "<IPython.core.display.HTML object>"
      ]
     },
     "metadata": {},
     "output_type": "display_data"
    },
    {
     "data": {
      "text/html": [
       "<code style='display:block; margin-top:-0.7em; font-family:Consolas,monospace'><b>alt-svc:</b> h3=\":443\"; ma=86400</code>"
      ],
      "text/plain": [
       "<IPython.core.display.HTML object>"
      ]
     },
     "metadata": {},
     "output_type": "display_data"
    },
    {
     "data": {
      "text/html": [
       "<pre style='font-family:Consolas,monospace; padding:5px; border: 1px solid #ccc; border-radius:5px; box-shadow: 5px 5px 5px #ccc; margin:5px 0 10px 0; display: inline-block; min-width: 50%'>{\"name\":\"list-1702314584739\",\"data\":[\"Boire un café\",\"Apprendre json\"]}</pre>"
      ],
      "text/plain": [
       "<IPython.core.display.HTML object>"
      ]
     },
     "metadata": {},
     "output_type": "display_data"
    }
   ],
   "source": [
    "from urllib.parse import urlencode\n",
    "https_request('POST','mod95-be3.onrender.com','/todolist', headers ={\n",
    "    'Content-Type' :'application/json'},\n",
    "    body = json.dumps({\"value\":[\"Boire un café\",\"Apprendre json\"]})\n",
    ")"
   ]
  },
  {
   "cell_type": "code",
   "execution_count": 27,
   "metadata": {},
   "outputs": [
    {
     "name": "stdout",
     "output_type": "stream",
     "text": [
      "Nom de la liste : list-1702314306139\n"
     ]
    }
   ],
   "source": [
    "if response.status == 200:\n",
    "    data = json.loads(body.decode('UTF-8'))\n",
    "    list_name = data.get('name')\n",
    "    print(f\"Nom de la liste : {list_name}\")\n",
    "else:\n",
    "    print(f\"Erreur : {response.status} - {response.reason}\")"
   ]
  },
  {
   "cell_type": "markdown",
   "metadata": {},
   "source": [
    "<div style=\"background-color:#def;padding:5px 10px;margin-top: 5px;border-radius:3px\">\n",
    "__[6.7]__ - Une fois une liste de tâches créée, il est possible de relire son contenu avec une requête GET formulée vers la ressource <code>/todolist/list-xxxxxxxxxxxxx</code>, où la dernière partie correspond au nom de la liste à consulter. Vérifier ce fonctionnement.\n",
    "</div>"
   ]
  },
  {
   "cell_type": "code",
   "execution_count": 30,
   "metadata": {
    "collapsed": false,
    "jupyter": {
     "outputs_hidden": false
    },
    "util.bundle": "correcteur"
   },
   "outputs": [
    {
     "data": {
      "text/html": [
       "<code style='font-family:Consolas,monospace; display:block; margin-top: 5px; border-bottom:1px solid #ccc'><span style='font-weight:bold;color:#008'>200</span> - OK</code>"
      ],
      "text/plain": [
       "<IPython.core.display.HTML object>"
      ]
     },
     "metadata": {},
     "output_type": "display_data"
    },
    {
     "data": {
      "text/html": [
       "<code style='display:block; margin-top:-0.7em; font-family:Consolas,monospace'><b>Date:</b> Mon, 11 Dec 2023 17:10:53 GMT</code>"
      ],
      "text/plain": [
       "<IPython.core.display.HTML object>"
      ]
     },
     "metadata": {},
     "output_type": "display_data"
    },
    {
     "data": {
      "text/html": [
       "<code style='display:block; margin-top:-0.7em; font-family:Consolas,monospace'><b>Content-Type:</b> application/json; charset=utf-8</code>"
      ],
      "text/plain": [
       "<IPython.core.display.HTML object>"
      ]
     },
     "metadata": {},
     "output_type": "display_data"
    },
    {
     "data": {
      "text/html": [
       "<code style='display:block; margin-top:-0.7em; font-family:Consolas,monospace'><b>Transfer-Encoding:</b> chunked</code>"
      ],
      "text/plain": [
       "<IPython.core.display.HTML object>"
      ]
     },
     "metadata": {},
     "output_type": "display_data"
    },
    {
     "data": {
      "text/html": [
       "<code style='display:block; margin-top:-0.7em; font-family:Consolas,monospace'><b>Connection:</b> keep-alive</code>"
      ],
      "text/plain": [
       "<IPython.core.display.HTML object>"
      ]
     },
     "metadata": {},
     "output_type": "display_data"
    },
    {
     "data": {
      "text/html": [
       "<code style='display:block; margin-top:-0.7em; font-family:Consolas,monospace'><b>CF-Ray:</b> 833f57f67cea35e4-FRA</code>"
      ],
      "text/plain": [
       "<IPython.core.display.HTML object>"
      ]
     },
     "metadata": {},
     "output_type": "display_data"
    },
    {
     "data": {
      "text/html": [
       "<code style='display:block; margin-top:-0.7em; font-family:Consolas,monospace'><b>CF-Cache-Status:</b> DYNAMIC</code>"
      ],
      "text/plain": [
       "<IPython.core.display.HTML object>"
      ]
     },
     "metadata": {},
     "output_type": "display_data"
    },
    {
     "data": {
      "text/html": [
       "<code style='display:block; margin-top:-0.7em; font-family:Consolas,monospace'><b>Vary:</b> Accept-Encoding</code>"
      ],
      "text/plain": [
       "<IPython.core.display.HTML object>"
      ]
     },
     "metadata": {},
     "output_type": "display_data"
    },
    {
     "data": {
      "text/html": [
       "<code style='display:block; margin-top:-0.7em; font-family:Consolas,monospace'><b>rndr-id:</b> 014acb68-7b10-4a50</code>"
      ],
      "text/plain": [
       "<IPython.core.display.HTML object>"
      ]
     },
     "metadata": {},
     "output_type": "display_data"
    },
    {
     "data": {
      "text/html": [
       "<code style='display:block; margin-top:-0.7em; font-family:Consolas,monospace'><b>x-powered-by:</b> Express</code>"
      ],
      "text/plain": [
       "<IPython.core.display.HTML object>"
      ]
     },
     "metadata": {},
     "output_type": "display_data"
    },
    {
     "data": {
      "text/html": [
       "<code style='display:block; margin-top:-0.7em; font-family:Consolas,monospace'><b>x-render-origin-server:</b> Render</code>"
      ],
      "text/plain": [
       "<IPython.core.display.HTML object>"
      ]
     },
     "metadata": {},
     "output_type": "display_data"
    },
    {
     "data": {
      "text/html": [
       "<code style='display:block; margin-top:-0.7em; font-family:Consolas,monospace'><b>Server:</b> cloudflare</code>"
      ],
      "text/plain": [
       "<IPython.core.display.HTML object>"
      ]
     },
     "metadata": {},
     "output_type": "display_data"
    },
    {
     "data": {
      "text/html": [
       "<code style='display:block; margin-top:-0.7em; font-family:Consolas,monospace'><b>alt-svc:</b> h3=\":443\"; ma=86400</code>"
      ],
      "text/plain": [
       "<IPython.core.display.HTML object>"
      ]
     },
     "metadata": {},
     "output_type": "display_data"
    },
    {
     "data": {
      "text/html": [
       "<pre style='font-family:Consolas,monospace; padding:5px; border: 1px solid #ccc; border-radius:5px; box-shadow: 5px 5px 5px #ccc; margin:5px 0 10px 0; display: inline-block; min-width: 50%'>{\"name\":\"list-1702314306139\",\"data\":[\"Boire un café\",\"Maîtriser le notebook\"]}</pre>"
      ],
      "text/plain": [
       "<IPython.core.display.HTML object>"
      ]
     },
     "metadata": {},
     "output_type": "display_data"
    }
   ],
   "source": [
    "import json\n",
    "https_request('GET','mod95-be3.onrender.com','/todolist/{}'.format(list_name), headers ={\n",
    "    'Content-Type' :'application/json'},\n",
    "    body = json.dumps({\"value\":[\"Boire un café\",\"Maîtriser le notebook\"]})\n",
    ")"
   ]
  },
  {
   "cell_type": "markdown",
   "metadata": {},
   "source": [
    "<div style=\"background-color:#def;padding:5px 10px;margin-top: 5px;border-radius:3px\">\n",
    "__[6.8]__ - Conformément à l'architecture REST, la méthode HTTP PUT formulée vers une adresse comme GET ci-dessus, avec par ailleurs les mêmes paramètres que POST, permet de spécifier un nouveau contenu pour la liste mentionnée. Effectuer ce type d'opération.\n",
    "</div>"
   ]
  },
  {
   "cell_type": "code",
   "execution_count": 40,
   "metadata": {
    "collapsed": false,
    "jupyter": {
     "outputs_hidden": false
    },
    "util.bundle": "correcteur"
   },
   "outputs": [
    {
     "data": {
      "text/html": [
       "<code style='font-family:Consolas,monospace; display:block; margin-top: 5px; border-bottom:1px solid #ccc'><span style='font-weight:bold;color:#008'>200</span> - OK</code>"
      ],
      "text/plain": [
       "<IPython.core.display.HTML object>"
      ]
     },
     "metadata": {},
     "output_type": "display_data"
    },
    {
     "data": {
      "text/html": [
       "<code style='display:block; margin-top:-0.7em; font-family:Consolas,monospace'><b>Date:</b> Mon, 11 Dec 2023 17:15:37 GMT</code>"
      ],
      "text/plain": [
       "<IPython.core.display.HTML object>"
      ]
     },
     "metadata": {},
     "output_type": "display_data"
    },
    {
     "data": {
      "text/html": [
       "<code style='display:block; margin-top:-0.7em; font-family:Consolas,monospace'><b>Content-Type:</b> application/json; charset=utf-8</code>"
      ],
      "text/plain": [
       "<IPython.core.display.HTML object>"
      ]
     },
     "metadata": {},
     "output_type": "display_data"
    },
    {
     "data": {
      "text/html": [
       "<code style='display:block; margin-top:-0.7em; font-family:Consolas,monospace'><b>Transfer-Encoding:</b> chunked</code>"
      ],
      "text/plain": [
       "<IPython.core.display.HTML object>"
      ]
     },
     "metadata": {},
     "output_type": "display_data"
    },
    {
     "data": {
      "text/html": [
       "<code style='display:block; margin-top:-0.7em; font-family:Consolas,monospace'><b>Connection:</b> keep-alive</code>"
      ],
      "text/plain": [
       "<IPython.core.display.HTML object>"
      ]
     },
     "metadata": {},
     "output_type": "display_data"
    },
    {
     "data": {
      "text/html": [
       "<code style='display:block; margin-top:-0.7em; font-family:Consolas,monospace'><b>CF-Ray:</b> 833f5eea38d63685-FRA</code>"
      ],
      "text/plain": [
       "<IPython.core.display.HTML object>"
      ]
     },
     "metadata": {},
     "output_type": "display_data"
    },
    {
     "data": {
      "text/html": [
       "<code style='display:block; margin-top:-0.7em; font-family:Consolas,monospace'><b>CF-Cache-Status:</b> DYNAMIC</code>"
      ],
      "text/plain": [
       "<IPython.core.display.HTML object>"
      ]
     },
     "metadata": {},
     "output_type": "display_data"
    },
    {
     "data": {
      "text/html": [
       "<code style='display:block; margin-top:-0.7em; font-family:Consolas,monospace'><b>Vary:</b> Accept-Encoding</code>"
      ],
      "text/plain": [
       "<IPython.core.display.HTML object>"
      ]
     },
     "metadata": {},
     "output_type": "display_data"
    },
    {
     "data": {
      "text/html": [
       "<code style='display:block; margin-top:-0.7em; font-family:Consolas,monospace'><b>rndr-id:</b> 8ecb49d4-38cd-436a</code>"
      ],
      "text/plain": [
       "<IPython.core.display.HTML object>"
      ]
     },
     "metadata": {},
     "output_type": "display_data"
    },
    {
     "data": {
      "text/html": [
       "<code style='display:block; margin-top:-0.7em; font-family:Consolas,monospace'><b>x-powered-by:</b> Express</code>"
      ],
      "text/plain": [
       "<IPython.core.display.HTML object>"
      ]
     },
     "metadata": {},
     "output_type": "display_data"
    },
    {
     "data": {
      "text/html": [
       "<code style='display:block; margin-top:-0.7em; font-family:Consolas,monospace'><b>x-render-origin-server:</b> Render</code>"
      ],
      "text/plain": [
       "<IPython.core.display.HTML object>"
      ]
     },
     "metadata": {},
     "output_type": "display_data"
    },
    {
     "data": {
      "text/html": [
       "<code style='display:block; margin-top:-0.7em; font-family:Consolas,monospace'><b>Server:</b> cloudflare</code>"
      ],
      "text/plain": [
       "<IPython.core.display.HTML object>"
      ]
     },
     "metadata": {},
     "output_type": "display_data"
    },
    {
     "data": {
      "text/html": [
       "<code style='display:block; margin-top:-0.7em; font-family:Consolas,monospace'><b>alt-svc:</b> h3=\":443\"; ma=86400</code>"
      ],
      "text/plain": [
       "<IPython.core.display.HTML object>"
      ]
     },
     "metadata": {},
     "output_type": "display_data"
    },
    {
     "data": {
      "text/html": [
       "<pre style='font-family:Consolas,monospace; padding:5px; border: 1px solid #ccc; border-radius:5px; box-shadow: 5px 5px 5px #ccc; margin:5px 0 10px 0; display: inline-block; min-width: 50%'>{\"name\":\"list-1702314306139\",\"data\":[\"Acheter du pain\",\"Découvrir le notebook\",\"Préparer le couscous\"]}</pre>"
      ],
      "text/plain": [
       "<IPython.core.display.HTML object>"
      ]
     },
     "metadata": {},
     "output_type": "display_data"
    }
   ],
   "source": [
    "import json\n",
    "https_request('PUT','mod95-be3.onrender.com','/todolist/{}'.format(list_name), headers ={\n",
    "    'Content-Type' :'application/json'},\n",
    "    body = json.dumps({\"value\":[\"Acheter du pain\",\"Découvrir le notebook\",\"Préparer le couscous\"]})\n",
    ")"
   ]
  },
  {
   "cell_type": "markdown",
   "metadata": {},
   "source": [
    "<div style=\"background-color:#def;padding:5px 10px;margin-top: 5px;border-radius:3px\">\n",
    "__[6.9]__ - Pour modifier uniquement certains éléments d'une liste donnée, l'architecture REST préconise la méthode HTTP PATCH. Tenter ce type d'opération avec les mêmes paramètres que ci-dessus et en déduire les paramètres manquants.\n",
    "</div>"
   ]
  },
  {
   "cell_type": "code",
   "execution_count": 39,
   "metadata": {
    "collapsed": false,
    "jupyter": {
     "outputs_hidden": false
    },
    "util.bundle": "correcteur"
   },
   "outputs": [
    {
     "data": {
      "text/html": [
       "<code style='font-family:Consolas,monospace; display:block; margin-top: 5px; border-bottom:1px solid #ccc'><span style='font-weight:bold;color:#008'>422</span> - Unprocessable Entity</code>"
      ],
      "text/plain": [
       "<IPython.core.display.HTML object>"
      ]
     },
     "metadata": {},
     "output_type": "display_data"
    },
    {
     "data": {
      "text/html": [
       "<code style='display:block; margin-top:-0.7em; font-family:Consolas,monospace'><b>Date:</b> Mon, 11 Dec 2023 17:15:34 GMT</code>"
      ],
      "text/plain": [
       "<IPython.core.display.HTML object>"
      ]
     },
     "metadata": {},
     "output_type": "display_data"
    },
    {
     "data": {
      "text/html": [
       "<code style='display:block; margin-top:-0.7em; font-family:Consolas,monospace'><b>Content-Type:</b> text/html; charset=utf-8</code>"
      ],
      "text/plain": [
       "<IPython.core.display.HTML object>"
      ]
     },
     "metadata": {},
     "output_type": "display_data"
    },
    {
     "data": {
      "text/html": [
       "<code style='display:block; margin-top:-0.7em; font-family:Consolas,monospace'><b>Transfer-Encoding:</b> chunked</code>"
      ],
      "text/plain": [
       "<IPython.core.display.HTML object>"
      ]
     },
     "metadata": {},
     "output_type": "display_data"
    },
    {
     "data": {
      "text/html": [
       "<code style='display:block; margin-top:-0.7em; font-family:Consolas,monospace'><b>Connection:</b> keep-alive</code>"
      ],
      "text/plain": [
       "<IPython.core.display.HTML object>"
      ]
     },
     "metadata": {},
     "output_type": "display_data"
    },
    {
     "data": {
      "text/html": [
       "<code style='display:block; margin-top:-0.7em; font-family:Consolas,monospace'><b>CF-Ray:</b> 833f5ed1ecb19b9e-FRA</code>"
      ],
      "text/plain": [
       "<IPython.core.display.HTML object>"
      ]
     },
     "metadata": {},
     "output_type": "display_data"
    },
    {
     "data": {
      "text/html": [
       "<code style='display:block; margin-top:-0.7em; font-family:Consolas,monospace'><b>CF-Cache-Status:</b> DYNAMIC</code>"
      ],
      "text/plain": [
       "<IPython.core.display.HTML object>"
      ]
     },
     "metadata": {},
     "output_type": "display_data"
    },
    {
     "data": {
      "text/html": [
       "<code style='display:block; margin-top:-0.7em; font-family:Consolas,monospace'><b>ETag:</b> W/\"132-H9AZgu9oS6zhJ0uvS433hCuqIcM\"</code>"
      ],
      "text/plain": [
       "<IPython.core.display.HTML object>"
      ]
     },
     "metadata": {},
     "output_type": "display_data"
    },
    {
     "data": {
      "text/html": [
       "<code style='display:block; margin-top:-0.7em; font-family:Consolas,monospace'><b>Vary:</b> Accept-Encoding</code>"
      ],
      "text/plain": [
       "<IPython.core.display.HTML object>"
      ]
     },
     "metadata": {},
     "output_type": "display_data"
    },
    {
     "data": {
      "text/html": [
       "<code style='display:block; margin-top:-0.7em; font-family:Consolas,monospace'><b>rndr-id:</b> 64fa09fc-1d1b-4339</code>"
      ],
      "text/plain": [
       "<IPython.core.display.HTML object>"
      ]
     },
     "metadata": {},
     "output_type": "display_data"
    },
    {
     "data": {
      "text/html": [
       "<code style='display:block; margin-top:-0.7em; font-family:Consolas,monospace'><b>x-powered-by:</b> Express</code>"
      ],
      "text/plain": [
       "<IPython.core.display.HTML object>"
      ]
     },
     "metadata": {},
     "output_type": "display_data"
    },
    {
     "data": {
      "text/html": [
       "<code style='display:block; margin-top:-0.7em; font-family:Consolas,monospace'><b>x-render-origin-server:</b> Render</code>"
      ],
      "text/plain": [
       "<IPython.core.display.HTML object>"
      ]
     },
     "metadata": {},
     "output_type": "display_data"
    },
    {
     "data": {
      "text/html": [
       "<code style='display:block; margin-top:-0.7em; font-family:Consolas,monospace'><b>Server:</b> cloudflare</code>"
      ],
      "text/plain": [
       "<IPython.core.display.HTML object>"
      ]
     },
     "metadata": {},
     "output_type": "display_data"
    },
    {
     "data": {
      "text/html": [
       "<code style='display:block; margin-top:-0.7em; font-family:Consolas,monospace'><b>alt-svc:</b> h3=\":443\"; ma=86400</code>"
      ],
      "text/plain": [
       "<IPython.core.display.HTML object>"
      ]
     },
     "metadata": {},
     "output_type": "display_data"
    },
    {
     "data": {
      "text/html": [
       "<div style='padding:5px; border: 1px solid #ccc; border-radius:5px; box-shadow: 5px 5px 5px #ccc; margin:5px 0 10px 0; display: inline-block; min-width: 50%'><!DOCTYPE html>\r\n",
       "<html lang=\"fr\">\r\n",
       "<meta charset=\"utf-8\">\r\n",
       "\r\n",
       "<div style=\"font-family: Consolas,monospace\">\r\n",
       "<h1 style=\"margin-top:0; padding:0.1em 0.5em;background-color:#ec0;color:white\">422 : Unprocessable Entity</h1>\r\n",
       "<p>Impossible de traiter la requête, paramètres manquants : index, delete\r\n",
       "</div>\r\n",
       "</div>"
      ],
      "text/plain": [
       "<IPython.core.display.HTML object>"
      ]
     },
     "metadata": {},
     "output_type": "display_data"
    }
   ],
   "source": [
    "import json\n",
    "https_request('PATCH','mod95-be3.onrender.com','/todolist/{}'.format(list_name), headers ={\n",
    "    'Content-Type' :'application/json'},\n",
    "    body = json.dumps({\"value\":[\"Code en C\"]})\n",
    ")"
   ]
  },
  {
   "cell_type": "markdown",
   "metadata": {},
   "source": [
    "il manque index et delete"
   ]
  },
  {
   "cell_type": "markdown",
   "metadata": {},
   "source": [
    "<div style=\"background-color:#def;padding:5px 10px;margin-top: 5px;border-radius:3px\">\n",
    "__[6.10]__ - Les paramètres manquants sont des entiers, qui donnent l'index où insérer le nouveau contenu, et le nombre d'éléments à supprimer avant d'insérer le nouveau contenu transmis.\n",
    "Pour une meilleure compréhension de l'opération effectuée, consulter la document de la fonction <a href=\"https://developer.mozilla.org/en-US/docs/Web/JavaScript/Reference/Global_Objects/Array/splice\">Array.splice()</a> utilisée par le serveur pour modifier la TODO_list à l'aide des paramètres fournis. Ajouter une tâche en fin de liste.\n",
    "</div>"
   ]
  },
  {
   "cell_type": "code",
   "execution_count": 41,
   "metadata": {
    "collapsed": false,
    "jupyter": {
     "outputs_hidden": false
    },
    "util.bundle": "correcteur"
   },
   "outputs": [
    {
     "data": {
      "text/html": [
       "<code style='font-family:Consolas,monospace; display:block; margin-top: 5px; border-bottom:1px solid #ccc'><span style='font-weight:bold;color:#008'>200</span> - OK</code>"
      ],
      "text/plain": [
       "<IPython.core.display.HTML object>"
      ]
     },
     "metadata": {},
     "output_type": "display_data"
    },
    {
     "data": {
      "text/html": [
       "<code style='display:block; margin-top:-0.7em; font-family:Consolas,monospace'><b>Date:</b> Mon, 11 Dec 2023 17:15:42 GMT</code>"
      ],
      "text/plain": [
       "<IPython.core.display.HTML object>"
      ]
     },
     "metadata": {},
     "output_type": "display_data"
    },
    {
     "data": {
      "text/html": [
       "<code style='display:block; margin-top:-0.7em; font-family:Consolas,monospace'><b>Content-Type:</b> application/json; charset=utf-8</code>"
      ],
      "text/plain": [
       "<IPython.core.display.HTML object>"
      ]
     },
     "metadata": {},
     "output_type": "display_data"
    },
    {
     "data": {
      "text/html": [
       "<code style='display:block; margin-top:-0.7em; font-family:Consolas,monospace'><b>Transfer-Encoding:</b> chunked</code>"
      ],
      "text/plain": [
       "<IPython.core.display.HTML object>"
      ]
     },
     "metadata": {},
     "output_type": "display_data"
    },
    {
     "data": {
      "text/html": [
       "<code style='display:block; margin-top:-0.7em; font-family:Consolas,monospace'><b>Connection:</b> keep-alive</code>"
      ],
      "text/plain": [
       "<IPython.core.display.HTML object>"
      ]
     },
     "metadata": {},
     "output_type": "display_data"
    },
    {
     "data": {
      "text/html": [
       "<code style='display:block; margin-top:-0.7em; font-family:Consolas,monospace'><b>CF-Ray:</b> 833f5f05f80a1963-FRA</code>"
      ],
      "text/plain": [
       "<IPython.core.display.HTML object>"
      ]
     },
     "metadata": {},
     "output_type": "display_data"
    },
    {
     "data": {
      "text/html": [
       "<code style='display:block; margin-top:-0.7em; font-family:Consolas,monospace'><b>CF-Cache-Status:</b> DYNAMIC</code>"
      ],
      "text/plain": [
       "<IPython.core.display.HTML object>"
      ]
     },
     "metadata": {},
     "output_type": "display_data"
    },
    {
     "data": {
      "text/html": [
       "<code style='display:block; margin-top:-0.7em; font-family:Consolas,monospace'><b>Vary:</b> Accept-Encoding</code>"
      ],
      "text/plain": [
       "<IPython.core.display.HTML object>"
      ]
     },
     "metadata": {},
     "output_type": "display_data"
    },
    {
     "data": {
      "text/html": [
       "<code style='display:block; margin-top:-0.7em; font-family:Consolas,monospace'><b>rndr-id:</b> bdcb7c94-5ef8-4b13</code>"
      ],
      "text/plain": [
       "<IPython.core.display.HTML object>"
      ]
     },
     "metadata": {},
     "output_type": "display_data"
    },
    {
     "data": {
      "text/html": [
       "<code style='display:block; margin-top:-0.7em; font-family:Consolas,monospace'><b>x-powered-by:</b> Express</code>"
      ],
      "text/plain": [
       "<IPython.core.display.HTML object>"
      ]
     },
     "metadata": {},
     "output_type": "display_data"
    },
    {
     "data": {
      "text/html": [
       "<code style='display:block; margin-top:-0.7em; font-family:Consolas,monospace'><b>x-render-origin-server:</b> Render</code>"
      ],
      "text/plain": [
       "<IPython.core.display.HTML object>"
      ]
     },
     "metadata": {},
     "output_type": "display_data"
    },
    {
     "data": {
      "text/html": [
       "<code style='display:block; margin-top:-0.7em; font-family:Consolas,monospace'><b>Server:</b> cloudflare</code>"
      ],
      "text/plain": [
       "<IPython.core.display.HTML object>"
      ]
     },
     "metadata": {},
     "output_type": "display_data"
    },
    {
     "data": {
      "text/html": [
       "<code style='display:block; margin-top:-0.7em; font-family:Consolas,monospace'><b>alt-svc:</b> h3=\":443\"; ma=86400</code>"
      ],
      "text/plain": [
       "<IPython.core.display.HTML object>"
      ]
     },
     "metadata": {},
     "output_type": "display_data"
    },
    {
     "data": {
      "text/html": [
       "<pre style='font-family:Consolas,monospace; padding:5px; border: 1px solid #ccc; border-radius:5px; box-shadow: 5px 5px 5px #ccc; margin:5px 0 10px 0; display: inline-block; min-width: 50%'>{\"name\":\"list-1702314306139\",\"data\":[\"Acheter du pain\",\"Découvrir le notebook\",\"Code en C\"]}</pre>"
      ],
      "text/plain": [
       "<IPython.core.display.HTML object>"
      ]
     },
     "metadata": {},
     "output_type": "display_data"
    }
   ],
   "source": [
    "import json\n",
    "https_request('PATCH','mod95-be3.onrender.com','/todolist/{}'.format(list_name), headers ={\n",
    "    'Content-Type' :'application/json'},\n",
    "    body = json.dumps({\"value\":[\"Code en C\"], \"index\": 2, \"delete\": 2})\n",
    ")"
   ]
  },
  {
   "cell_type": "markdown",
   "metadata": {},
   "source": [
    "<div style=\"background-color:#def;padding:5px 10px;margin-top: 5px;border-radius:3px\">\n",
    "__[6.11]__ - Remplacer une tâche en milieu de liste.\n",
    "</div>"
   ]
  },
  {
   "cell_type": "code",
   "execution_count": 42,
   "metadata": {
    "collapsed": false,
    "jupyter": {
     "outputs_hidden": false
    },
    "util.bundle": "correcteur"
   },
   "outputs": [
    {
     "data": {
      "text/html": [
       "<code style='font-family:Consolas,monospace; display:block; margin-top: 5px; border-bottom:1px solid #ccc'><span style='font-weight:bold;color:#008'>200</span> - OK</code>"
      ],
      "text/plain": [
       "<IPython.core.display.HTML object>"
      ]
     },
     "metadata": {},
     "output_type": "display_data"
    },
    {
     "data": {
      "text/html": [
       "<code style='display:block; margin-top:-0.7em; font-family:Consolas,monospace'><b>Date:</b> Mon, 11 Dec 2023 17:16:13 GMT</code>"
      ],
      "text/plain": [
       "<IPython.core.display.HTML object>"
      ]
     },
     "metadata": {},
     "output_type": "display_data"
    },
    {
     "data": {
      "text/html": [
       "<code style='display:block; margin-top:-0.7em; font-family:Consolas,monospace'><b>Content-Type:</b> application/json; charset=utf-8</code>"
      ],
      "text/plain": [
       "<IPython.core.display.HTML object>"
      ]
     },
     "metadata": {},
     "output_type": "display_data"
    },
    {
     "data": {
      "text/html": [
       "<code style='display:block; margin-top:-0.7em; font-family:Consolas,monospace'><b>Transfer-Encoding:</b> chunked</code>"
      ],
      "text/plain": [
       "<IPython.core.display.HTML object>"
      ]
     },
     "metadata": {},
     "output_type": "display_data"
    },
    {
     "data": {
      "text/html": [
       "<code style='display:block; margin-top:-0.7em; font-family:Consolas,monospace'><b>Connection:</b> keep-alive</code>"
      ],
      "text/plain": [
       "<IPython.core.display.HTML object>"
      ]
     },
     "metadata": {},
     "output_type": "display_data"
    },
    {
     "data": {
      "text/html": [
       "<code style='display:block; margin-top:-0.7em; font-family:Consolas,monospace'><b>CF-Ray:</b> 833f5fc9da4b920b-FRA</code>"
      ],
      "text/plain": [
       "<IPython.core.display.HTML object>"
      ]
     },
     "metadata": {},
     "output_type": "display_data"
    },
    {
     "data": {
      "text/html": [
       "<code style='display:block; margin-top:-0.7em; font-family:Consolas,monospace'><b>CF-Cache-Status:</b> DYNAMIC</code>"
      ],
      "text/plain": [
       "<IPython.core.display.HTML object>"
      ]
     },
     "metadata": {},
     "output_type": "display_data"
    },
    {
     "data": {
      "text/html": [
       "<code style='display:block; margin-top:-0.7em; font-family:Consolas,monospace'><b>Vary:</b> Accept-Encoding</code>"
      ],
      "text/plain": [
       "<IPython.core.display.HTML object>"
      ]
     },
     "metadata": {},
     "output_type": "display_data"
    },
    {
     "data": {
      "text/html": [
       "<code style='display:block; margin-top:-0.7em; font-family:Consolas,monospace'><b>rndr-id:</b> 1447682c-8ca9-4539</code>"
      ],
      "text/plain": [
       "<IPython.core.display.HTML object>"
      ]
     },
     "metadata": {},
     "output_type": "display_data"
    },
    {
     "data": {
      "text/html": [
       "<code style='display:block; margin-top:-0.7em; font-family:Consolas,monospace'><b>x-powered-by:</b> Express</code>"
      ],
      "text/plain": [
       "<IPython.core.display.HTML object>"
      ]
     },
     "metadata": {},
     "output_type": "display_data"
    },
    {
     "data": {
      "text/html": [
       "<code style='display:block; margin-top:-0.7em; font-family:Consolas,monospace'><b>x-render-origin-server:</b> Render</code>"
      ],
      "text/plain": [
       "<IPython.core.display.HTML object>"
      ]
     },
     "metadata": {},
     "output_type": "display_data"
    },
    {
     "data": {
      "text/html": [
       "<code style='display:block; margin-top:-0.7em; font-family:Consolas,monospace'><b>Server:</b> cloudflare</code>"
      ],
      "text/plain": [
       "<IPython.core.display.HTML object>"
      ]
     },
     "metadata": {},
     "output_type": "display_data"
    },
    {
     "data": {
      "text/html": [
       "<code style='display:block; margin-top:-0.7em; font-family:Consolas,monospace'><b>alt-svc:</b> h3=\":443\"; ma=86400</code>"
      ],
      "text/plain": [
       "<IPython.core.display.HTML object>"
      ]
     },
     "metadata": {},
     "output_type": "display_data"
    },
    {
     "data": {
      "text/html": [
       "<pre style='font-family:Consolas,monospace; padding:5px; border: 1px solid #ccc; border-radius:5px; box-shadow: 5px 5px 5px #ccc; margin:5px 0 10px 0; display: inline-block; min-width: 50%'>{\"name\":\"list-1702314306139\",\"data\":[\"Acheter du pain\",\"Découvrir le notebook\",\"Préparer le couscous\"]}</pre>"
      ],
      "text/plain": [
       "<IPython.core.display.HTML object>"
      ]
     },
     "metadata": {},
     "output_type": "display_data"
    },
    {
     "data": {
      "text/html": [
       "<code style='font-family:Consolas,monospace; display:block; margin-top: 5px; border-bottom:1px solid #ccc'><span style='font-weight:bold;color:#008'>200</span> - OK</code>"
      ],
      "text/plain": [
       "<IPython.core.display.HTML object>"
      ]
     },
     "metadata": {},
     "output_type": "display_data"
    },
    {
     "data": {
      "text/html": [
       "<code style='display:block; margin-top:-0.7em; font-family:Consolas,monospace'><b>Date:</b> Mon, 11 Dec 2023 17:16:14 GMT</code>"
      ],
      "text/plain": [
       "<IPython.core.display.HTML object>"
      ]
     },
     "metadata": {},
     "output_type": "display_data"
    },
    {
     "data": {
      "text/html": [
       "<code style='display:block; margin-top:-0.7em; font-family:Consolas,monospace'><b>Content-Type:</b> application/json; charset=utf-8</code>"
      ],
      "text/plain": [
       "<IPython.core.display.HTML object>"
      ]
     },
     "metadata": {},
     "output_type": "display_data"
    },
    {
     "data": {
      "text/html": [
       "<code style='display:block; margin-top:-0.7em; font-family:Consolas,monospace'><b>Transfer-Encoding:</b> chunked</code>"
      ],
      "text/plain": [
       "<IPython.core.display.HTML object>"
      ]
     },
     "metadata": {},
     "output_type": "display_data"
    },
    {
     "data": {
      "text/html": [
       "<code style='display:block; margin-top:-0.7em; font-family:Consolas,monospace'><b>Connection:</b> keep-alive</code>"
      ],
      "text/plain": [
       "<IPython.core.display.HTML object>"
      ]
     },
     "metadata": {},
     "output_type": "display_data"
    },
    {
     "data": {
      "text/html": [
       "<code style='display:block; margin-top:-0.7em; font-family:Consolas,monospace'><b>CF-Ray:</b> 833f5fcd4ffa5d40-FRA</code>"
      ],
      "text/plain": [
       "<IPython.core.display.HTML object>"
      ]
     },
     "metadata": {},
     "output_type": "display_data"
    },
    {
     "data": {
      "text/html": [
       "<code style='display:block; margin-top:-0.7em; font-family:Consolas,monospace'><b>CF-Cache-Status:</b> DYNAMIC</code>"
      ],
      "text/plain": [
       "<IPython.core.display.HTML object>"
      ]
     },
     "metadata": {},
     "output_type": "display_data"
    },
    {
     "data": {
      "text/html": [
       "<code style='display:block; margin-top:-0.7em; font-family:Consolas,monospace'><b>Vary:</b> Accept-Encoding</code>"
      ],
      "text/plain": [
       "<IPython.core.display.HTML object>"
      ]
     },
     "metadata": {},
     "output_type": "display_data"
    },
    {
     "data": {
      "text/html": [
       "<code style='display:block; margin-top:-0.7em; font-family:Consolas,monospace'><b>rndr-id:</b> 89bbd5e2-8914-4440</code>"
      ],
      "text/plain": [
       "<IPython.core.display.HTML object>"
      ]
     },
     "metadata": {},
     "output_type": "display_data"
    },
    {
     "data": {
      "text/html": [
       "<code style='display:block; margin-top:-0.7em; font-family:Consolas,monospace'><b>x-powered-by:</b> Express</code>"
      ],
      "text/plain": [
       "<IPython.core.display.HTML object>"
      ]
     },
     "metadata": {},
     "output_type": "display_data"
    },
    {
     "data": {
      "text/html": [
       "<code style='display:block; margin-top:-0.7em; font-family:Consolas,monospace'><b>x-render-origin-server:</b> Render</code>"
      ],
      "text/plain": [
       "<IPython.core.display.HTML object>"
      ]
     },
     "metadata": {},
     "output_type": "display_data"
    },
    {
     "data": {
      "text/html": [
       "<code style='display:block; margin-top:-0.7em; font-family:Consolas,monospace'><b>Server:</b> cloudflare</code>"
      ],
      "text/plain": [
       "<IPython.core.display.HTML object>"
      ]
     },
     "metadata": {},
     "output_type": "display_data"
    },
    {
     "data": {
      "text/html": [
       "<code style='display:block; margin-top:-0.7em; font-family:Consolas,monospace'><b>alt-svc:</b> h3=\":443\"; ma=86400</code>"
      ],
      "text/plain": [
       "<IPython.core.display.HTML object>"
      ]
     },
     "metadata": {},
     "output_type": "display_data"
    },
    {
     "data": {
      "text/html": [
       "<pre style='font-family:Consolas,monospace; padding:5px; border: 1px solid #ccc; border-radius:5px; box-shadow: 5px 5px 5px #ccc; margin:5px 0 10px 0; display: inline-block; min-width: 50%'>{\"name\":\"list-1702314306139\",\"data\":[\"Acheter du pain\",\"Code en C\",\"Préparer le couscous\"]}</pre>"
      ],
      "text/plain": [
       "<IPython.core.display.HTML object>"
      ]
     },
     "metadata": {},
     "output_type": "display_data"
    }
   ],
   "source": [
    "import json\n",
    "https_request('PUT','mod95-be3.onrender.com','/todolist/{}'.format(list_name), headers ={\n",
    "    'Content-Type' :'application/json'},\n",
    "    body = json.dumps({\"value\":[\"Acheter du pain\",\"Découvrir le notebook\",\"Préparer le couscous\"]})\n",
    ")\n",
    "\n",
    "https_request('PATCH','mod95-be3.onrender.com','/todolist/{}'.format(list_name), headers ={\n",
    "    'Content-Type' :'application/json'},\n",
    "    body = json.dumps({\"value\":[\"Code en C\"], \"index\": 1, \"delete\": 1})\n",
    ")"
   ]
  },
  {
   "cell_type": "markdown",
   "metadata": {},
   "source": [
    "<div style=\"background-color:#def;padding:5px 10px;margin-top: 5px;border-radius:3px\">\n",
    "__[6.12]__ - Enfin, la méthode HTTP DELETE permet de supprimer une TODO_list. Vérifier son fonctionnement\n",
    "</div>"
   ]
  },
  {
   "cell_type": "code",
   "execution_count": 43,
   "metadata": {
    "collapsed": false,
    "jupyter": {
     "outputs_hidden": false
    },
    "util.bundle": "correcteur"
   },
   "outputs": [
    {
     "data": {
      "text/html": [
       "<code style='font-family:Consolas,monospace; display:block; margin-top: 5px; border-bottom:1px solid #ccc'><span style='font-weight:bold;color:#008'>204</span> - No Content</code>"
      ],
      "text/plain": [
       "<IPython.core.display.HTML object>"
      ]
     },
     "metadata": {},
     "output_type": "display_data"
    },
    {
     "data": {
      "text/html": [
       "<code style='display:block; margin-top:-0.7em; font-family:Consolas,monospace'><b>Date:</b> Mon, 11 Dec 2023 17:16:30 GMT</code>"
      ],
      "text/plain": [
       "<IPython.core.display.HTML object>"
      ]
     },
     "metadata": {},
     "output_type": "display_data"
    },
    {
     "data": {
      "text/html": [
       "<code style='display:block; margin-top:-0.7em; font-family:Consolas,monospace'><b>Connection:</b> keep-alive</code>"
      ],
      "text/plain": [
       "<IPython.core.display.HTML object>"
      ]
     },
     "metadata": {},
     "output_type": "display_data"
    },
    {
     "data": {
      "text/html": [
       "<code style='display:block; margin-top:-0.7em; font-family:Consolas,monospace'><b>CF-Ray:</b> 833f6033df183809-FRA</code>"
      ],
      "text/plain": [
       "<IPython.core.display.HTML object>"
      ]
     },
     "metadata": {},
     "output_type": "display_data"
    },
    {
     "data": {
      "text/html": [
       "<code style='display:block; margin-top:-0.7em; font-family:Consolas,monospace'><b>CF-Cache-Status:</b> DYNAMIC</code>"
      ],
      "text/plain": [
       "<IPython.core.display.HTML object>"
      ]
     },
     "metadata": {},
     "output_type": "display_data"
    },
    {
     "data": {
      "text/html": [
       "<code style='display:block; margin-top:-0.7em; font-family:Consolas,monospace'><b>ETag:</b> W/\"d3-0YpWmOHEHlFNWmd++s5KhemiJFk\"</code>"
      ],
      "text/plain": [
       "<IPython.core.display.HTML object>"
      ]
     },
     "metadata": {},
     "output_type": "display_data"
    },
    {
     "data": {
      "text/html": [
       "<code style='display:block; margin-top:-0.7em; font-family:Consolas,monospace'><b>rndr-id:</b> 26dd7050-aa04-4956</code>"
      ],
      "text/plain": [
       "<IPython.core.display.HTML object>"
      ]
     },
     "metadata": {},
     "output_type": "display_data"
    },
    {
     "data": {
      "text/html": [
       "<code style='display:block; margin-top:-0.7em; font-family:Consolas,monospace'><b>x-powered-by:</b> Express</code>"
      ],
      "text/plain": [
       "<IPython.core.display.HTML object>"
      ]
     },
     "metadata": {},
     "output_type": "display_data"
    },
    {
     "data": {
      "text/html": [
       "<code style='display:block; margin-top:-0.7em; font-family:Consolas,monospace'><b>x-render-origin-server:</b> Render</code>"
      ],
      "text/plain": [
       "<IPython.core.display.HTML object>"
      ]
     },
     "metadata": {},
     "output_type": "display_data"
    },
    {
     "data": {
      "text/html": [
       "<code style='display:block; margin-top:-0.7em; font-family:Consolas,monospace'><b>Vary:</b> Accept-Encoding</code>"
      ],
      "text/plain": [
       "<IPython.core.display.HTML object>"
      ]
     },
     "metadata": {},
     "output_type": "display_data"
    },
    {
     "data": {
      "text/html": [
       "<code style='display:block; margin-top:-0.7em; font-family:Consolas,monospace'><b>Server:</b> cloudflare</code>"
      ],
      "text/plain": [
       "<IPython.core.display.HTML object>"
      ]
     },
     "metadata": {},
     "output_type": "display_data"
    },
    {
     "data": {
      "text/html": [
       "<code style='display:block; margin-top:-0.7em; font-family:Consolas,monospace'><b>alt-svc:</b> h3=\":443\"; ma=86400</code>"
      ],
      "text/plain": [
       "<IPython.core.display.HTML object>"
      ]
     },
     "metadata": {},
     "output_type": "display_data"
    }
   ],
   "source": [
    "https_request(\n",
    "    'DELETE',\n",
    "    'mod95-be3.onrender.com',\n",
    "    f'/todolist/{list_name}',\n",
    "    headers={'Content-Type': 'application/json'}\n",
    ")"
   ]
  },
  {
   "cell_type": "markdown",
   "metadata": {},
   "source": [
    "<h4 style=\"font-size:150%;color:#06A;margin-bottom:1.33em;border-top:3px solid #7fb2d4; padding-top:0.5em\">7. Pour ceux qui en veulent toujours plus...</h4>\n",
    "\n",
    "Le serveur qui répond à vos requêtes est hébergé chez <a href=\"https://render.com/\">render.com</a> et son code source est disponible <a href=\"https://github.com/dmolinarius/mod95-be3\">ici</a> via github."
   ]
  }
 ],
 "metadata": {
  "kernelspec": {
   "display_name": "Python 3 (ipykernel)",
   "language": "python",
   "name": "python3"
  },
  "language_info": {
   "codemirror_mode": {
    "name": "ipython",
    "version": 3
   },
   "file_extension": ".py",
   "mimetype": "text/x-python",
   "name": "python",
   "nbconvert_exporter": "python",
   "pygments_lexer": "ipython3",
   "version": "3.11.7"
  }
 },
 "nbformat": 4,
 "nbformat_minor": 4
}
